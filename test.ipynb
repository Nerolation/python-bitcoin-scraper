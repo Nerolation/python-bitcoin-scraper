{
 "cells": [
  {
   "cell_type": "code",
   "execution_count": 20,
   "id": "83844613",
   "metadata": {},
   "outputs": [],
   "source": [
    "from datetime import datetime\n",
    "from google.cloud import bigquery\n",
    "import os\n",
    "import sys\n",
    "import time\n",
    "import pandas as pd\n",
    "import pandas_gbq"
   ]
  },
  {
   "cell_type": "code",
   "execution_count": 38,
   "id": "44a67b9a",
   "metadata": {},
   "outputs": [],
   "source": [
    "def get_csv_files(path):\n",
    "        files = os.listdir(path)\n",
    "        files = [f for f in files if f.startswith(\"raw\") and f.endswith(\".csv\")]\n",
    "        files = map(lambda x: os.path.join(path, x), files)\n",
    "        return sorted(files)\n",
    "\n",
    "    \n",
    "def get_date(folder=\"./output\"):\n",
    "    content = [fn for fn in os.listdir(folder)]\n",
    "    dates = [datetime.strptime(fn, \"%Y%m%d_%H%M%S\") for fn in content]\n",
    "    return dates[dates.index(max(dates))].strftime(\"%Y%m%d_%H%M%S\")\n",
    "\n",
    "class bqLoader():\n",
    "    def __init__(self, credentials=None, path=None, table_id=None, dataset=None):\n",
    "        self.credentials = credentials or [\".gcpkey/\"+fn for fn in os.listdir(\".gcpkey\") if fn.endswith(\".json\")][0]\n",
    "        os.environ['GOOGLE_APPLICATION_CREDENTIALS'] = self.credentials\n",
    "        self.client    = bigquery.Client()\n",
    "        self.path      = path or \"output/{}/rawedges\".format(get_date())\n",
    "        self.table_id  = table_id or \"btc\"\n",
    "        self.dataset   = dataset or \"bitcoin_transactions\"\n",
    "    \n",
    "    \n",
    "    def upload_data(self):\n",
    "        files = get_csv_files(self.path)\n",
    "        r = len(files)\n",
    "        p = lambda x: \"\\r[\" + \"#\" * x + (r - x) * \" \" + \"]\"\n",
    "        for i, blkfile in enumerate(files):\n",
    "            df = pd.read_csv(blkfile, names=[\"ts\", \"from\", \"to\"])\n",
    "            #df.to_gbq(self.table_id+\".\"+self.dataset, if_exists=\"append\", chunksize=int(1e7))\n",
    "            time.sleep(2)\n",
    "            sys.stdout.write(\"\\r\\r{:<18} successfully uploaded   \\n\".format(blkfile.split(\"/\")[-1]))            \n",
    "            sys.stdout.write(p(i+1))\n",
    "            time.sleep(0.1)\n"
   ]
  },
  {
   "cell_type": "code",
   "execution_count": 5,
   "id": "64e29b5d",
   "metadata": {},
   "outputs": [
    {
     "data": {
      "text/plain": [
       "True"
      ]
     },
     "execution_count": 5,
     "metadata": {},
     "output_type": "execute_result"
    }
   ],
   "source": [
    "1e6 == 1000000"
   ]
  },
  {
   "cell_type": "code",
   "execution_count": 16,
   "id": "c11638b2",
   "metadata": {},
   "outputs": [
    {
     "data": {
      "text/plain": [
       "'20211007_092616'"
      ]
     },
     "execution_count": 16,
     "metadata": {},
     "output_type": "execute_result"
    }
   ],
   "source": [
    "get_date()"
   ]
  },
  {
   "cell_type": "code",
   "execution_count": null,
   "id": "cd57ec40",
   "metadata": {},
   "outputs": [],
   "source": [
    "pd.read_csv(blkfile, names=[\"ts\", \"from\", \"to\"])"
   ]
  },
  {
   "cell_type": "code",
   "execution_count": 39,
   "id": "80046719",
   "metadata": {},
   "outputs": [
    {
     "name": "stdout",
     "output_type": "stream",
     "text": [
      "raw_blk_0.csv      successfully uploaded   \n",
      "raw_blk_0_.csv     successfully uploaded   \n",
      "raw_blk_1.csv      successfully uploaded   \n",
      "[###]"
     ]
    }
   ],
   "source": [
    "a = bqLoader()\n",
    "a.upload_data()"
   ]
  },
  {
   "cell_type": "code",
   "execution_count": 5,
   "id": "9cf75d39",
   "metadata": {},
   "outputs": [],
   "source": [
    "a = pd.read_csv(\"output/{}/rawedges\".format(get_date())+\"/raw_blk_0.csv\", names=[\"ts\", \"from\", \"to\"])[:10000]"
   ]
  },
  {
   "cell_type": "code",
   "execution_count": 6,
   "id": "78efb6da",
   "metadata": {},
   "outputs": [],
   "source": [
    "a.to_csv(\"output/{}/rawedges\".format(get_date())+\"/raw_blk_0_.csv\", index=None, header=None)"
   ]
  },
  {
   "cell_type": "code",
   "execution_count": 2,
   "id": "39f8f791",
   "metadata": {},
   "outputs": [
    {
     "data": {
      "text/plain": [
       "['data/blk00000.dat',\n",
       " 'data/blk00001.dat',\n",
       " 'data/blk00002.dat',\n",
       " 'data/blk00003.dat']"
      ]
     },
     "execution_count": 2,
     "metadata": {},
     "output_type": "execute_result"
    }
   ],
   "source": [
    "get_files(\"data\")"
   ]
  },
  {
   "cell_type": "code",
   "execution_count": null,
   "id": "2d6d6430",
   "metadata": {},
   "outputs": [],
   "source": []
  }
 ],
 "metadata": {
  "kernelspec": {
   "display_name": "btcgraph",
   "language": "python",
   "name": "btcgraph"
  },
  "language_info": {
   "codemirror_mode": {
    "name": "ipython",
    "version": 3
   },
   "file_extension": ".py",
   "mimetype": "text/x-python",
   "name": "python",
   "nbconvert_exporter": "python",
   "pygments_lexer": "ipython3",
   "version": "3.8.10"
  }
 },
 "nbformat": 4,
 "nbformat_minor": 5
}
