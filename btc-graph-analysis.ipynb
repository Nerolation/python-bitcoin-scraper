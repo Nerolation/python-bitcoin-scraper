{
 "cells": [
  {
   "cell_type": "code",
   "execution_count": null,
   "id": "f0c58a59",
   "metadata": {},
   "outputs": [],
   "source": []
  },
  {
   "cell_type": "markdown",
   "id": "8a5687b3",
   "metadata": {},
   "source": [
    "# Bitcoin - Complex Graph Analysis"
   ]
  },
  {
   "cell_type": "markdown",
   "id": "d6d9fcb5",
   "metadata": {},
   "source": [
    "## Steps\n",
    "1. [Parse blockchain](#Parse-blockchain-using-btcgraph.py)\n",
    "2. [Data preparation (BigQuery)](#2.-Data-preparation-(BigQuery))  \n",
    "    2.1. [Upload data](#2.1.-Upload-data-to-Google-Big-Query)  \n",
    "    2.2. [Create new indices](#2.2.-Create-indices-for-every-address)  \n",
    "    2.3. [Build edge list](#2.3.-Build-edge-list-with-timestamps-using-the-new-indices)  \n",
    "    2.4. [Export data to GCS](#2.4.-Export-dataset-to-Google-Cloud-Storage)  \n",
    "    2.5. [Download edge list from GCS](#2.5.-Download-edge-list-from-google-cloud-as-csv-(without-timestamp))\n",
    "3. [Graph construction](#3.-Build-Graph-using-NetworKit)\n",
    "4. [Analysis](#4.-Analysis)  \n",
    "    4.1. The graph object  \n",
    "    4.2. Connected Components  \n",
    "    4.3. [](#)"
   ]
  },
  {
   "cell_type": "markdown",
   "id": "ffcabb1b",
   "metadata": {},
   "source": [
    "***"
   ]
  },
  {
   "cell_type": "markdown",
   "id": "e01f46f7",
   "metadata": {},
   "source": [
    "## 1. Parse blockchain using btcgraph.py"
   ]
  },
  {
   "cell_type": "code",
   "execution_count": 5,
   "id": "9f9782e4",
   "metadata": {
    "scrolled": true
   },
   "outputs": [
    {
     "name": "stdout",
     "output_type": "stream",
     "text": [
      "Starting btc graph version 0.1.0 with the following arguments:\n",
      "current wd:       /home/nero/python/wu/btc/python-bitcoin-graph\n",
      "startfile:        blk00000.dat \n",
      "endfile:          \u001b[31mdeactivated\u001b[0m\n",
      "starttx:          \u001b[31mdeactivated\u001b[0m\n",
      "endtx:            \u001b[31mdeactivated\u001b[0m\n",
      "endts:            \u001b[31mdeactivated\u001b[0m\n",
      "blklocation:      data         \n",
      "format:           \u001b[31mdeactivated\u001b[0m\n",
      "rawedges:         \u001b[32mactivated\u001b[0m\n",
      "withts:           \u001b[32mactivated\u001b[0m\n",
      "googlebigquery:   \u001b[31mdeactivated\u001b[0m\n",
      "\n",
      "Initializing...\n",
      "[########################################]\n",
      "\n",
      "10:56:40  -  New BtcGraph initialized\n",
      "10:56:41  -  Start building...\n",
      "10:56:41  -  \u001b[32mBlock File # 0/4\u001b[0m\n",
      "10:56:41  -  Processing data/blk00000.dat\n",
      "10:57:09  -  Graph has       18,216,888 bytes\n",
      "10:57:09  -  Graph has               17 mb\n",
      "10:57:09  -  ---  -------   ----------------------------\u001b[0m\n",
      "10:57:09  -  -->  23.2 GB   total memory\u001b[0m\n",
      "10:57:09  -  -->  16.6 GB   of memory available\u001b[0m\n",
      "10:57:09  -  -->   5.7 GB   memory used\u001b[0m\n",
      "10:57:09  -  -->   0.4 GB   memory used by this process\u001b[0m\n",
      "10:57:09  -  -->  28.1  %   of memory used\u001b[0m\n",
      "10:57:09  -  -->  71.9  %   of memory available\u001b[0m\n",
      "10:57:09  -  ---  -------   ----------------------------\u001b[0m\n",
      "10:57:09  -  Saving raw edges...\n",
      "10:57:09  -  raw_blk_0.csv contains 904,893 edges\n",
      "10:57:09  -  raw_blk_0.csv ranges from 03.01.2009 to 24.04.2011\n",
      "10:57:10  -  Saving successful\n",
      "10:57:11  -  \u001b[32mBlock File # 1/4\u001b[0m\n",
      "10:57:11  -  File @ `data/blk00001.dat` took 29 seconds\n",
      "10:57:11  -  Average duration of 29 seconds per .blk file\n",
      "\u001b[32m10:57:11  -  Estimated end:  12.10  |  10:58:38\u001b[0m\n",
      "10:57:11  -  Processing data/blk00001.dat\n",
      "10:57:42  -  Graph has       31,979,432 bytes\n",
      "10:57:42  -  Graph has               30 mb\n",
      "10:57:42  -  ---  -------   ----------------------------\u001b[0m\n",
      "10:57:42  -  -->  23.2 GB   total memory\u001b[0m\n",
      "10:57:42  -  -->  16.5 GB   of memory available\u001b[0m\n",
      "10:57:42  -  -->   5.8 GB   memory used\u001b[0m\n",
      "10:57:42  -  -->   0.5 GB   memory used by this process\u001b[0m\n",
      "10:57:42  -  -->  28.5  %   of memory used\u001b[0m\n",
      "10:57:42  -  -->  71.5  %   of memory available\u001b[0m\n",
      "10:57:42  -  ---  -------   ----------------------------\u001b[0m\n",
      "10:57:42  -  Saving raw edges...\n",
      "10:57:42  -  raw_blk_1.csv contains 1,254,177 edges\n",
      "10:57:42  -  raw_blk_1.csv ranges from 24.04.2011 to 16.06.2011\n",
      "10:57:44  -  Saving successful\n",
      "10:57:44  -  \u001b[32mBlock File # 2/4\u001b[0m\n",
      "10:57:44  -  File @ `data/blk00002.dat` took 33 seconds\n",
      "10:57:44  -  Average duration of 31 seconds per .blk file\n",
      "\u001b[32m10:57:44  -  Estimated end:  12.10  |  10:58:46\u001b[0m\n",
      "10:57:44  -  Processing data/blk00002.dat\n",
      "10:58:23  -  Graph has       54,326,984 bytes\n",
      "10:58:23  -  Graph has               52 mb\n",
      "10:58:23  -  ---  -------   ----------------------------\u001b[0m\n",
      "10:58:23  -  -->  23.2 GB   total memory\u001b[0m\n",
      "10:58:23  -  -->  16.4 GB   of memory available\u001b[0m\n",
      "10:58:23  -  -->   5.9 GB   memory used\u001b[0m\n",
      "10:58:23  -  -->   0.6 GB   memory used by this process\u001b[0m\n",
      "10:58:23  -  -->  29.1  %   of memory used\u001b[0m\n",
      "10:58:23  -  -->  70.9  %   of memory available\u001b[0m\n",
      "10:58:23  -  ---  -------   ----------------------------\u001b[0m\n",
      "10:58:23  -  Saving raw edges...\n",
      "10:58:23  -  raw_blk_2.csv contains 1,460,980 edges\n",
      "10:58:23  -  raw_blk_2.csv ranges from 16.06.2011 to 18.07.2011\n",
      "10:58:25  -  Saving successful\n",
      "10:58:25  -  \u001b[32mBlock File # 3/4\u001b[0m\n",
      "10:58:25  -  File @ `data/blk00003.dat` took 41 seconds\n",
      "10:58:25  -  Average duration of 34 seconds per .blk file\n",
      "\u001b[32m10:58:25  -  Estimated end:  12.10  |  10:58:59\u001b[0m\n",
      "10:58:25  -  Processing data/blk00003.dat\n",
      "-----------------------------------------\n"
     ]
    }
   ],
   "source": [
    "%run run.py -loc data -raw 1 -wt 1"
   ]
  },
  {
   "cell_type": "markdown",
   "id": "0fca8082",
   "metadata": {},
   "source": [
    "***"
   ]
  },
  {
   "cell_type": "markdown",
   "id": "97745e50",
   "metadata": {},
   "source": [
    "## 2. Data preparation (BigQuery)\n",
    "   * Fetch distinct addresses \n",
    "   * Create index ID for each address\n",
    "   * Create edge list from transactions with new indexes"
   ]
  },
  {
   "cell_type": "code",
   "execution_count": 3,
   "id": "26ba7853",
   "metadata": {},
   "outputs": [],
   "source": [
    "import os \n",
    "from google.cloud import storage, bigquery\n",
    "\n",
    "credentials_path = \".gcpkey/wu-btcgraph.json\"\n",
    "bucket_name      = \"wu-bitcoin\"\n",
    "file_name        = \"btc\"\n",
    "target_folder    = \"graph\"\n",
    "bq_project       = \"wu-btcgraph\"\n",
    "bq_dataset       = \"btc\"\n",
    "bq_table         = \"bitcoin_transactions\"\n",
    "\n",
    "if not os.path.isdir(f'./{target_folder}'):\n",
    "    os.makedirs(f'./{target_folder}')\n",
    "\n",
    "os.environ['GOOGLE_APPLICATION_CREDENTIALS'] = credentials_path"
   ]
  },
  {
   "cell_type": "markdown",
   "id": "f50d0af2",
   "metadata": {},
   "source": [
    "### 2.1. Upload data to Google Big Query "
   ]
  },
  {
   "cell_type": "code",
   "execution_count": 16,
   "id": "6d52e50e",
   "metadata": {},
   "outputs": [
    {
     "name": "stdout",
     "output_type": "stream",
     "text": [
      "startfile:        \u001b[31mdeactivated\u001b[0m\n",
      "endfile:          \u001b[31mdeactivated\u001b[0m\n",
      "starttx:          \u001b[31mdeactivated\u001b[0m\n",
      "endtx:            \u001b[31mdeactivated\u001b[0m\n",
      "endts:            \u001b[31mdeactivated\u001b[0m\n",
      "blklocation:      \u001b[31mdeactivated\u001b[0m\n",
      "format:           \u001b[31mdeactivated\u001b[0m\n",
      "rawedges:         \u001b[31mdeactivated\u001b[0m\n",
      "withts:           \u001b[31mdeactivated\u001b[0m\n",
      "googlebigquery:   \u001b[32mactivated\u001b[0m\n",
      "\n",
      "Initializing...\n",
      "[########################################]\n",
      "\n",
      "raw_blk_0.csv      successfully uploaded   \n",
      "raw_blk_1.csv      successfully uploaded   \n",
      "raw_blk_2.csv      successfully uploaded   \n",
      "[###]\n",
      "-----------------------------------------\n"
     ]
    }
   ],
   "source": [
    "%run run.py -gbq 1"
   ]
  },
  {
   "cell_type": "markdown",
   "id": "1e497f35",
   "metadata": {},
   "source": [
    "### 2.2. Create indices for every address"
   ]
  },
  {
   "cell_type": "code",
   "execution_count": 7,
   "id": "507c7c4e",
   "metadata": {},
   "outputs": [],
   "source": [
    "# Code taken from the official docs\n",
    "# https://cloud.google.com/bigquery/docs/quickstarts/quickstart-client-libraries\n",
    "\n",
    "client = bigquery.Client()\n",
    "\n",
    "query = \"\"\"\n",
    "    CREATE OR REPLACE TABLE `{0}.{1}.addresses` AS\n",
    "        SELECT\n",
    "          ROW_NUMBER() OVER() - 1 id, addr FROM \n",
    "          (\n",
    "            SELECT DISTINCT addr FROM \n",
    "                (\n",
    "                SELECT `to` AS addr FROM `{0}.{1}.{2}`\n",
    "                UNION ALL\n",
    "                SELECT `from` AS addr FROM `{0}.{1}.{2}` \n",
    "                )\n",
    "              ORDER BY addr \n",
    "            ) \n",
    "            ORDER BY id\n",
    "        \"\"\".format(bq_project,bq_dataset,bq_table)\n",
    "\n",
    "query_job = client.query(query)\n",
    "query_job.result()"
   ]
  },
  {
   "cell_type": "markdown",
   "id": "a3a700b6",
   "metadata": {},
   "source": [
    "### 2.3. Build edge list with timestamps using the new indices"
   ]
  },
  {
   "cell_type": "code",
   "execution_count": 4,
   "id": "ab680d81",
   "metadata": {},
   "outputs": [
    {
     "data": {
      "text/plain": [
       "<google.cloud.bigquery.table._EmptyRowIterator at 0x7f27a864c3d0>"
      ]
     },
     "execution_count": 4,
     "metadata": {},
     "output_type": "execute_result"
    }
   ],
   "source": [
    "try: client\n",
    "except: client = bigquery.Client()\n",
    "query = \"\"\"\n",
    "        CREATE OR REPLACE TABLE `{0}.{1}.graph_with_ts` AS\n",
    "            SELECT  A.ts, B.from_id, C.to_id FROM \n",
    "            (\n",
    "              (SELECT * FROM `{0}.{1}.{2}`) A\n",
    "              LEFT JOIN \n",
    "              (SELECT id AS from_id, addr FROM `{0}.{1}.addresses`) B ON A.from = B.addr\n",
    "              LEFT JOIN \n",
    "              (SELECT id AS to_id, addr FROM `{0}.{1}.addresses`) C ON A.to = C.addr\n",
    "            )\n",
    "        \"\"\".format(bq_project,bq_dataset,bq_table)\n",
    "\n",
    "query_job = client.query(query)\n",
    "query_job.result()"
   ]
  },
  {
   "cell_type": "markdown",
   "id": "c4873ac3",
   "metadata": {},
   "source": [
    "### 2.4. Export dataset to Google Cloud Storage"
   ]
  },
  {
   "cell_type": "code",
   "execution_count": 7,
   "id": "0cac32ba",
   "metadata": {},
   "outputs": [
    {
     "ename": "NameError",
     "evalue": "name 'project' is not defined",
     "output_type": "error",
     "traceback": [
      "\u001b[0;31m---------------------------------------------------------------------------\u001b[0m",
      "\u001b[0;31mNameError\u001b[0m                                 Traceback (most recent call last)",
      "\u001b[0;32m/tmp/ipykernel_9705/3904737044.py\u001b[0m in \u001b[0;36m<module>\u001b[0;34m\u001b[0m\n\u001b[1;32m     15\u001b[0m \u001b[0;34m\u001b[0m\u001b[0m\n\u001b[1;32m     16\u001b[0m print(\n\u001b[0;32m---> 17\u001b[0;31m     \u001b[0;34m\"Exported {}:{}.{} to {}\"\u001b[0m\u001b[0;34m.\u001b[0m\u001b[0mformat\u001b[0m\u001b[0;34m(\u001b[0m\u001b[0mproject\u001b[0m\u001b[0;34m,\u001b[0m \u001b[0mdataset_id\u001b[0m\u001b[0;34m,\u001b[0m \u001b[0mtable_id\u001b[0m\u001b[0;34m,\u001b[0m \u001b[0mdestination_uri\u001b[0m\u001b[0;34m)\u001b[0m\u001b[0;34m\u001b[0m\u001b[0;34m\u001b[0m\u001b[0m\n\u001b[0m\u001b[1;32m     18\u001b[0m )\n",
      "\u001b[0;31mNameError\u001b[0m: name 'project' is not defined"
     ]
    }
   ],
   "source": [
    "# Code taken from the official docs\n",
    "# https://cloud.google.com/bigquery/docs/samples/bigquery-extract-table\n",
    "\n",
    "destination_uri = \"gs://{}/{}_*.csv\".format(bucket_name, file_name)\n",
    "dataset_ref = bigquery.DatasetReference(bq_project, bq_dataset)\n",
    "table_ref = dataset_ref.table(\"graph_with_ts\")\n",
    "\n",
    "extract_job = client.extract_table(\n",
    "    table_ref,\n",
    "    destination_uri,\n",
    "    # Location must match that of the source table.\n",
    "    location=\"US\",\n",
    ")  # API request\n",
    "extract_job.result()  # Waits for job to complete.\n",
    "\n",
    "print(\n",
    "    \"Exported {}:{}.{} to {}\".format(bq_project, bq_dataset, bq_table, destination_uri)\n",
    ")"
   ]
  },
  {
   "cell_type": "markdown",
   "id": "da305560",
   "metadata": {},
   "source": [
    "### 2.5. Download edge list from google cloud as csv (without timestamp)"
   ]
  },
  {
   "cell_type": "code",
   "execution_count": 7,
   "id": "ab1dedb2",
   "metadata": {},
   "outputs": [
    {
     "name": "stdout",
     "output_type": "stream",
     "text": [
      "wu-bitcoin.btc_000000000000.csv copied to graph/btc_000000000000.csv\n",
      "wu-bitcoin.btc_000000000001.csv copied to graph/btc_000000000001.csv\n"
     ]
    },
    {
     "ename": "KeyboardInterrupt",
     "evalue": "",
     "output_type": "error",
     "traceback": [
      "\u001b[0;31m---------------------------------------------------------------------------\u001b[0m",
      "\u001b[0;31mKeyboardInterrupt\u001b[0m                         Traceback (most recent call last)",
      "\u001b[0;32m<ipython-input-7-b575e14de982>\u001b[0m in \u001b[0;36m<module>\u001b[0;34m\u001b[0m\n\u001b[1;32m      5\u001b[0m     \u001b[0;32mif\u001b[0m \u001b[0mfn\u001b[0m\u001b[0;34m.\u001b[0m\u001b[0mstartswith\u001b[0m\u001b[0;34m(\u001b[0m\u001b[0;34m\"{}_\"\u001b[0m\u001b[0;34m.\u001b[0m\u001b[0mformat\u001b[0m\u001b[0;34m(\u001b[0m\u001b[0mfile_name\u001b[0m\u001b[0;34m)\u001b[0m\u001b[0;34m)\u001b[0m\u001b[0;34m:\u001b[0m\u001b[0;34m\u001b[0m\u001b[0;34m\u001b[0m\u001b[0m\n\u001b[1;32m      6\u001b[0m         \u001b[0mblob\u001b[0m \u001b[0;34m=\u001b[0m \u001b[0mbucket\u001b[0m\u001b[0;34m.\u001b[0m\u001b[0mblob\u001b[0m\u001b[0;34m(\u001b[0m\u001b[0mfn\u001b[0m\u001b[0;34m)\u001b[0m\u001b[0;34m\u001b[0m\u001b[0;34m\u001b[0m\u001b[0m\n\u001b[0;32m----> 7\u001b[0;31m         \u001b[0mblob\u001b[0m\u001b[0;34m.\u001b[0m\u001b[0mdownload_to_filename\u001b[0m\u001b[0;34m(\u001b[0m\u001b[0mtarget_folder\u001b[0m \u001b[0;34m+\u001b[0m \u001b[0;34m\"/\"\u001b[0m \u001b[0;34m+\u001b[0m \u001b[0mfn\u001b[0m\u001b[0;34m)\u001b[0m\u001b[0;34m\u001b[0m\u001b[0;34m\u001b[0m\u001b[0m\n\u001b[0m\u001b[1;32m      8\u001b[0m         \u001b[0mprint\u001b[0m\u001b[0;34m(\u001b[0m\u001b[0;34mf\"{bucket_name}.{fn} copied to {target_folder}/{fn}\"\u001b[0m\u001b[0;34m)\u001b[0m\u001b[0;34m\u001b[0m\u001b[0;34m\u001b[0m\u001b[0m\n",
      "\u001b[0;32m~/python/btc-graph/lib/python3.6/site-packages/google/cloud/storage/blob.py\u001b[0m in \u001b[0;36mdownload_to_filename\u001b[0;34m(self, filename, client, start, end, raw_download, if_etag_match, if_etag_not_match, if_generation_match, if_generation_not_match, if_metageneration_match, if_metageneration_not_match, timeout, checksum, retry)\u001b[0m\n\u001b[1;32m   1295\u001b[0m                     \u001b[0mtimeout\u001b[0m\u001b[0;34m=\u001b[0m\u001b[0mtimeout\u001b[0m\u001b[0;34m,\u001b[0m\u001b[0;34m\u001b[0m\u001b[0;34m\u001b[0m\u001b[0m\n\u001b[1;32m   1296\u001b[0m                     \u001b[0mchecksum\u001b[0m\u001b[0;34m=\u001b[0m\u001b[0mchecksum\u001b[0m\u001b[0;34m,\u001b[0m\u001b[0;34m\u001b[0m\u001b[0;34m\u001b[0m\u001b[0m\n\u001b[0;32m-> 1297\u001b[0;31m                     \u001b[0mretry\u001b[0m\u001b[0;34m=\u001b[0m\u001b[0mretry\u001b[0m\u001b[0;34m,\u001b[0m\u001b[0;34m\u001b[0m\u001b[0;34m\u001b[0m\u001b[0m\n\u001b[0m\u001b[1;32m   1298\u001b[0m                 )\n\u001b[1;32m   1299\u001b[0m         \u001b[0;32mexcept\u001b[0m \u001b[0mresumable_media\u001b[0m\u001b[0;34m.\u001b[0m\u001b[0mDataCorruption\u001b[0m\u001b[0;34m:\u001b[0m\u001b[0;34m\u001b[0m\u001b[0;34m\u001b[0m\u001b[0m\n",
      "\u001b[0;32m~/python/btc-graph/lib/python3.6/site-packages/google/cloud/storage/client.py\u001b[0m in \u001b[0;36mdownload_blob_to_file\u001b[0;34m(self, blob_or_uri, file_obj, start, end, raw_download, if_etag_match, if_etag_not_match, if_generation_match, if_generation_not_match, if_metageneration_match, if_metageneration_not_match, timeout, checksum, retry)\u001b[0m\n\u001b[1;32m   1121\u001b[0m                 \u001b[0mtimeout\u001b[0m\u001b[0;34m=\u001b[0m\u001b[0mtimeout\u001b[0m\u001b[0;34m,\u001b[0m\u001b[0;34m\u001b[0m\u001b[0;34m\u001b[0m\u001b[0m\n\u001b[1;32m   1122\u001b[0m                 \u001b[0mchecksum\u001b[0m\u001b[0;34m=\u001b[0m\u001b[0mchecksum\u001b[0m\u001b[0;34m,\u001b[0m\u001b[0;34m\u001b[0m\u001b[0;34m\u001b[0m\u001b[0m\n\u001b[0;32m-> 1123\u001b[0;31m                 \u001b[0mretry\u001b[0m\u001b[0;34m=\u001b[0m\u001b[0mretry\u001b[0m\u001b[0;34m,\u001b[0m\u001b[0;34m\u001b[0m\u001b[0;34m\u001b[0m\u001b[0m\n\u001b[0m\u001b[1;32m   1124\u001b[0m             )\n\u001b[1;32m   1125\u001b[0m         \u001b[0;32mexcept\u001b[0m \u001b[0mresumable_media\u001b[0m\u001b[0;34m.\u001b[0m\u001b[0mInvalidResponse\u001b[0m \u001b[0;32mas\u001b[0m \u001b[0mexc\u001b[0m\u001b[0;34m:\u001b[0m\u001b[0;34m\u001b[0m\u001b[0;34m\u001b[0m\u001b[0m\n",
      "\u001b[0;32m~/python/btc-graph/lib/python3.6/site-packages/google/cloud/storage/blob.py\u001b[0m in \u001b[0;36m_do_download\u001b[0;34m(self, transport, file_obj, download_url, headers, start, end, raw_download, timeout, checksum, retry)\u001b[0m\n\u001b[1;32m   1001\u001b[0m             )\n\u001b[1;32m   1002\u001b[0m             \u001b[0mdownload\u001b[0m\u001b[0;34m.\u001b[0m\u001b[0m_retry_strategy\u001b[0m \u001b[0;34m=\u001b[0m \u001b[0mretry_strategy\u001b[0m\u001b[0;34m\u001b[0m\u001b[0;34m\u001b[0m\u001b[0m\n\u001b[0;32m-> 1003\u001b[0;31m             \u001b[0mresponse\u001b[0m \u001b[0;34m=\u001b[0m \u001b[0mdownload\u001b[0m\u001b[0;34m.\u001b[0m\u001b[0mconsume\u001b[0m\u001b[0;34m(\u001b[0m\u001b[0mtransport\u001b[0m\u001b[0;34m,\u001b[0m \u001b[0mtimeout\u001b[0m\u001b[0;34m=\u001b[0m\u001b[0mtimeout\u001b[0m\u001b[0;34m)\u001b[0m\u001b[0;34m\u001b[0m\u001b[0;34m\u001b[0m\u001b[0m\n\u001b[0m\u001b[1;32m   1004\u001b[0m             \u001b[0mself\u001b[0m\u001b[0;34m.\u001b[0m\u001b[0m_extract_headers_from_download\u001b[0m\u001b[0;34m(\u001b[0m\u001b[0mresponse\u001b[0m\u001b[0;34m)\u001b[0m\u001b[0;34m\u001b[0m\u001b[0;34m\u001b[0m\u001b[0m\n\u001b[1;32m   1005\u001b[0m         \u001b[0;32melse\u001b[0m\u001b[0;34m:\u001b[0m\u001b[0;34m\u001b[0m\u001b[0;34m\u001b[0m\u001b[0m\n",
      "\u001b[0;32m~/python/btc-graph/lib/python3.6/site-packages/google/resumable_media/requests/download.py\u001b[0m in \u001b[0;36mconsume\u001b[0;34m(self, transport, timeout)\u001b[0m\n\u001b[1;32m    173\u001b[0m \u001b[0;34m\u001b[0m\u001b[0m\n\u001b[1;32m    174\u001b[0m         return _helpers.wait_and_retry(\n\u001b[0;32m--> 175\u001b[0;31m             \u001b[0mretriable_request\u001b[0m\u001b[0;34m,\u001b[0m \u001b[0mself\u001b[0m\u001b[0;34m.\u001b[0m\u001b[0m_get_status_code\u001b[0m\u001b[0;34m,\u001b[0m \u001b[0mself\u001b[0m\u001b[0;34m.\u001b[0m\u001b[0m_retry_strategy\u001b[0m\u001b[0;34m\u001b[0m\u001b[0;34m\u001b[0m\u001b[0m\n\u001b[0m\u001b[1;32m    176\u001b[0m         )\n\u001b[1;32m    177\u001b[0m \u001b[0;34m\u001b[0m\u001b[0m\n",
      "\u001b[0;32m~/python/btc-graph/lib/python3.6/site-packages/google/resumable_media/_helpers.py\u001b[0m in \u001b[0;36mwait_and_retry\u001b[0;34m(func, get_status_code, retry_strategy)\u001b[0m\n\u001b[1;32m    180\u001b[0m         \u001b[0merror\u001b[0m \u001b[0;34m=\u001b[0m \u001b[0;32mNone\u001b[0m\u001b[0;34m\u001b[0m\u001b[0;34m\u001b[0m\u001b[0m\n\u001b[1;32m    181\u001b[0m         \u001b[0;32mtry\u001b[0m\u001b[0;34m:\u001b[0m\u001b[0;34m\u001b[0m\u001b[0;34m\u001b[0m\u001b[0m\n\u001b[0;32m--> 182\u001b[0;31m             \u001b[0mresponse\u001b[0m \u001b[0;34m=\u001b[0m \u001b[0mfunc\u001b[0m\u001b[0;34m(\u001b[0m\u001b[0;34m)\u001b[0m\u001b[0;34m\u001b[0m\u001b[0;34m\u001b[0m\u001b[0m\n\u001b[0m\u001b[1;32m    183\u001b[0m         \u001b[0;32mexcept\u001b[0m \u001b[0mconnection_error_exceptions\u001b[0m \u001b[0;32mas\u001b[0m \u001b[0me\u001b[0m\u001b[0;34m:\u001b[0m\u001b[0;34m\u001b[0m\u001b[0;34m\u001b[0m\u001b[0m\n\u001b[1;32m    184\u001b[0m             \u001b[0merror\u001b[0m \u001b[0;34m=\u001b[0m \u001b[0me\u001b[0m  \u001b[0;31m# Fall through to retry, if there are retries left.\u001b[0m\u001b[0;34m\u001b[0m\u001b[0;34m\u001b[0m\u001b[0m\n",
      "\u001b[0;32m~/python/btc-graph/lib/python3.6/site-packages/google/resumable_media/requests/download.py\u001b[0m in \u001b[0;36mretriable_request\u001b[0;34m()\u001b[0m\n\u001b[1;32m    168\u001b[0m \u001b[0;34m\u001b[0m\u001b[0m\n\u001b[1;32m    169\u001b[0m             \u001b[0;32mif\u001b[0m \u001b[0mself\u001b[0m\u001b[0;34m.\u001b[0m\u001b[0m_stream\u001b[0m \u001b[0;32mis\u001b[0m \u001b[0;32mnot\u001b[0m \u001b[0;32mNone\u001b[0m\u001b[0;34m:\u001b[0m\u001b[0;34m\u001b[0m\u001b[0;34m\u001b[0m\u001b[0m\n\u001b[0;32m--> 170\u001b[0;31m                 \u001b[0mself\u001b[0m\u001b[0;34m.\u001b[0m\u001b[0m_write_to_stream\u001b[0m\u001b[0;34m(\u001b[0m\u001b[0mresult\u001b[0m\u001b[0;34m)\u001b[0m\u001b[0;34m\u001b[0m\u001b[0;34m\u001b[0m\u001b[0m\n\u001b[0m\u001b[1;32m    171\u001b[0m \u001b[0;34m\u001b[0m\u001b[0m\n\u001b[1;32m    172\u001b[0m             \u001b[0;32mreturn\u001b[0m \u001b[0mresult\u001b[0m\u001b[0;34m\u001b[0m\u001b[0;34m\u001b[0m\u001b[0m\n",
      "\u001b[0;32m~/python/btc-graph/lib/python3.6/site-packages/google/resumable_media/requests/download.py\u001b[0m in \u001b[0;36m_write_to_stream\u001b[0;34m(self, response)\u001b[0m\n\u001b[1;32m    103\u001b[0m                 \u001b[0mchunk_size\u001b[0m\u001b[0;34m=\u001b[0m\u001b[0m_request_helpers\u001b[0m\u001b[0;34m.\u001b[0m\u001b[0m_SINGLE_GET_CHUNK_SIZE\u001b[0m\u001b[0;34m,\u001b[0m \u001b[0mdecode_unicode\u001b[0m\u001b[0;34m=\u001b[0m\u001b[0;32mFalse\u001b[0m\u001b[0;34m\u001b[0m\u001b[0;34m\u001b[0m\u001b[0m\n\u001b[1;32m    104\u001b[0m             )\n\u001b[0;32m--> 105\u001b[0;31m             \u001b[0;32mfor\u001b[0m \u001b[0mchunk\u001b[0m \u001b[0;32min\u001b[0m \u001b[0mbody_iter\u001b[0m\u001b[0;34m:\u001b[0m\u001b[0;34m\u001b[0m\u001b[0;34m\u001b[0m\u001b[0m\n\u001b[0m\u001b[1;32m    106\u001b[0m                 \u001b[0mself\u001b[0m\u001b[0;34m.\u001b[0m\u001b[0m_stream\u001b[0m\u001b[0;34m.\u001b[0m\u001b[0mwrite\u001b[0m\u001b[0;34m(\u001b[0m\u001b[0mchunk\u001b[0m\u001b[0;34m)\u001b[0m\u001b[0;34m\u001b[0m\u001b[0;34m\u001b[0m\u001b[0m\n\u001b[1;32m    107\u001b[0m                 \u001b[0mlocal_checksum_object\u001b[0m\u001b[0;34m.\u001b[0m\u001b[0mupdate\u001b[0m\u001b[0;34m(\u001b[0m\u001b[0mchunk\u001b[0m\u001b[0;34m)\u001b[0m\u001b[0;34m\u001b[0m\u001b[0;34m\u001b[0m\u001b[0m\n",
      "\u001b[0;32m~/python/btc-graph/lib/python3.6/site-packages/requests/models.py\u001b[0m in \u001b[0;36mgenerate\u001b[0;34m()\u001b[0m\n\u001b[1;32m    756\u001b[0m             \u001b[0;32mif\u001b[0m \u001b[0mhasattr\u001b[0m\u001b[0;34m(\u001b[0m\u001b[0mself\u001b[0m\u001b[0;34m.\u001b[0m\u001b[0mraw\u001b[0m\u001b[0;34m,\u001b[0m \u001b[0;34m'stream'\u001b[0m\u001b[0;34m)\u001b[0m\u001b[0;34m:\u001b[0m\u001b[0;34m\u001b[0m\u001b[0;34m\u001b[0m\u001b[0m\n\u001b[1;32m    757\u001b[0m                 \u001b[0;32mtry\u001b[0m\u001b[0;34m:\u001b[0m\u001b[0;34m\u001b[0m\u001b[0;34m\u001b[0m\u001b[0m\n\u001b[0;32m--> 758\u001b[0;31m                     \u001b[0;32mfor\u001b[0m \u001b[0mchunk\u001b[0m \u001b[0;32min\u001b[0m \u001b[0mself\u001b[0m\u001b[0;34m.\u001b[0m\u001b[0mraw\u001b[0m\u001b[0;34m.\u001b[0m\u001b[0mstream\u001b[0m\u001b[0;34m(\u001b[0m\u001b[0mchunk_size\u001b[0m\u001b[0;34m,\u001b[0m \u001b[0mdecode_content\u001b[0m\u001b[0;34m=\u001b[0m\u001b[0;32mTrue\u001b[0m\u001b[0;34m)\u001b[0m\u001b[0;34m:\u001b[0m\u001b[0;34m\u001b[0m\u001b[0;34m\u001b[0m\u001b[0m\n\u001b[0m\u001b[1;32m    759\u001b[0m                         \u001b[0;32myield\u001b[0m \u001b[0mchunk\u001b[0m\u001b[0;34m\u001b[0m\u001b[0;34m\u001b[0m\u001b[0m\n\u001b[1;32m    760\u001b[0m                 \u001b[0;32mexcept\u001b[0m \u001b[0mProtocolError\u001b[0m \u001b[0;32mas\u001b[0m \u001b[0me\u001b[0m\u001b[0;34m:\u001b[0m\u001b[0;34m\u001b[0m\u001b[0;34m\u001b[0m\u001b[0m\n",
      "\u001b[0;32m~/python/btc-graph/lib/python3.6/site-packages/urllib3/response.py\u001b[0m in \u001b[0;36mstream\u001b[0;34m(self, amt, decode_content)\u001b[0m\n\u001b[1;32m    574\u001b[0m         \u001b[0;32melse\u001b[0m\u001b[0;34m:\u001b[0m\u001b[0;34m\u001b[0m\u001b[0;34m\u001b[0m\u001b[0m\n\u001b[1;32m    575\u001b[0m             \u001b[0;32mwhile\u001b[0m \u001b[0;32mnot\u001b[0m \u001b[0mis_fp_closed\u001b[0m\u001b[0;34m(\u001b[0m\u001b[0mself\u001b[0m\u001b[0;34m.\u001b[0m\u001b[0m_fp\u001b[0m\u001b[0;34m)\u001b[0m\u001b[0;34m:\u001b[0m\u001b[0;34m\u001b[0m\u001b[0;34m\u001b[0m\u001b[0m\n\u001b[0;32m--> 576\u001b[0;31m                 \u001b[0mdata\u001b[0m \u001b[0;34m=\u001b[0m \u001b[0mself\u001b[0m\u001b[0;34m.\u001b[0m\u001b[0mread\u001b[0m\u001b[0;34m(\u001b[0m\u001b[0mamt\u001b[0m\u001b[0;34m=\u001b[0m\u001b[0mamt\u001b[0m\u001b[0;34m,\u001b[0m \u001b[0mdecode_content\u001b[0m\u001b[0;34m=\u001b[0m\u001b[0mdecode_content\u001b[0m\u001b[0;34m)\u001b[0m\u001b[0;34m\u001b[0m\u001b[0;34m\u001b[0m\u001b[0m\n\u001b[0m\u001b[1;32m    577\u001b[0m \u001b[0;34m\u001b[0m\u001b[0m\n\u001b[1;32m    578\u001b[0m                 \u001b[0;32mif\u001b[0m \u001b[0mdata\u001b[0m\u001b[0;34m:\u001b[0m\u001b[0;34m\u001b[0m\u001b[0;34m\u001b[0m\u001b[0m\n",
      "\u001b[0;32m~/python/btc-graph/lib/python3.6/site-packages/urllib3/response.py\u001b[0m in \u001b[0;36mread\u001b[0;34m(self, amt, decode_content, cache_content)\u001b[0m\n\u001b[1;32m    517\u001b[0m             \u001b[0;32melse\u001b[0m\u001b[0;34m:\u001b[0m\u001b[0;34m\u001b[0m\u001b[0;34m\u001b[0m\u001b[0m\n\u001b[1;32m    518\u001b[0m                 \u001b[0mcache_content\u001b[0m \u001b[0;34m=\u001b[0m \u001b[0;32mFalse\u001b[0m\u001b[0;34m\u001b[0m\u001b[0;34m\u001b[0m\u001b[0m\n\u001b[0;32m--> 519\u001b[0;31m                 \u001b[0mdata\u001b[0m \u001b[0;34m=\u001b[0m \u001b[0mself\u001b[0m\u001b[0;34m.\u001b[0m\u001b[0m_fp\u001b[0m\u001b[0;34m.\u001b[0m\u001b[0mread\u001b[0m\u001b[0;34m(\u001b[0m\u001b[0mamt\u001b[0m\u001b[0;34m)\u001b[0m \u001b[0;32mif\u001b[0m \u001b[0;32mnot\u001b[0m \u001b[0mfp_closed\u001b[0m \u001b[0;32melse\u001b[0m \u001b[0;34mb\"\"\u001b[0m\u001b[0;34m\u001b[0m\u001b[0;34m\u001b[0m\u001b[0m\n\u001b[0m\u001b[1;32m    520\u001b[0m                 if (\n\u001b[1;32m    521\u001b[0m                     \u001b[0mamt\u001b[0m \u001b[0;34m!=\u001b[0m \u001b[0;36m0\u001b[0m \u001b[0;32mand\u001b[0m \u001b[0;32mnot\u001b[0m \u001b[0mdata\u001b[0m\u001b[0;34m\u001b[0m\u001b[0;34m\u001b[0m\u001b[0m\n",
      "\u001b[0;32m/usr/lib/python3.6/http/client.py\u001b[0m in \u001b[0;36mread\u001b[0;34m(self, amt)\u001b[0m\n\u001b[1;32m    461\u001b[0m             \u001b[0;31m# Amount is given, implement using readinto\u001b[0m\u001b[0;34m\u001b[0m\u001b[0;34m\u001b[0m\u001b[0;34m\u001b[0m\u001b[0m\n\u001b[1;32m    462\u001b[0m             \u001b[0mb\u001b[0m \u001b[0;34m=\u001b[0m \u001b[0mbytearray\u001b[0m\u001b[0;34m(\u001b[0m\u001b[0mamt\u001b[0m\u001b[0;34m)\u001b[0m\u001b[0;34m\u001b[0m\u001b[0;34m\u001b[0m\u001b[0m\n\u001b[0;32m--> 463\u001b[0;31m             \u001b[0mn\u001b[0m \u001b[0;34m=\u001b[0m \u001b[0mself\u001b[0m\u001b[0;34m.\u001b[0m\u001b[0mreadinto\u001b[0m\u001b[0;34m(\u001b[0m\u001b[0mb\u001b[0m\u001b[0;34m)\u001b[0m\u001b[0;34m\u001b[0m\u001b[0;34m\u001b[0m\u001b[0m\n\u001b[0m\u001b[1;32m    464\u001b[0m             \u001b[0;32mreturn\u001b[0m \u001b[0mmemoryview\u001b[0m\u001b[0;34m(\u001b[0m\u001b[0mb\u001b[0m\u001b[0;34m)\u001b[0m\u001b[0;34m[\u001b[0m\u001b[0;34m:\u001b[0m\u001b[0mn\u001b[0m\u001b[0;34m]\u001b[0m\u001b[0;34m.\u001b[0m\u001b[0mtobytes\u001b[0m\u001b[0;34m(\u001b[0m\u001b[0;34m)\u001b[0m\u001b[0;34m\u001b[0m\u001b[0;34m\u001b[0m\u001b[0m\n\u001b[1;32m    465\u001b[0m         \u001b[0;32melse\u001b[0m\u001b[0;34m:\u001b[0m\u001b[0;34m\u001b[0m\u001b[0;34m\u001b[0m\u001b[0m\n",
      "\u001b[0;32m/usr/lib/python3.6/http/client.py\u001b[0m in \u001b[0;36mreadinto\u001b[0;34m(self, b)\u001b[0m\n\u001b[1;32m    505\u001b[0m         \u001b[0;31m# connection, and the user is reading more bytes than will be provided\u001b[0m\u001b[0;34m\u001b[0m\u001b[0;34m\u001b[0m\u001b[0;34m\u001b[0m\u001b[0m\n\u001b[1;32m    506\u001b[0m         \u001b[0;31m# (for example, reading in 1k chunks)\u001b[0m\u001b[0;34m\u001b[0m\u001b[0;34m\u001b[0m\u001b[0;34m\u001b[0m\u001b[0m\n\u001b[0;32m--> 507\u001b[0;31m         \u001b[0mn\u001b[0m \u001b[0;34m=\u001b[0m \u001b[0mself\u001b[0m\u001b[0;34m.\u001b[0m\u001b[0mfp\u001b[0m\u001b[0;34m.\u001b[0m\u001b[0mreadinto\u001b[0m\u001b[0;34m(\u001b[0m\u001b[0mb\u001b[0m\u001b[0;34m)\u001b[0m\u001b[0;34m\u001b[0m\u001b[0;34m\u001b[0m\u001b[0m\n\u001b[0m\u001b[1;32m    508\u001b[0m         \u001b[0;32mif\u001b[0m \u001b[0;32mnot\u001b[0m \u001b[0mn\u001b[0m \u001b[0;32mand\u001b[0m \u001b[0mb\u001b[0m\u001b[0;34m:\u001b[0m\u001b[0;34m\u001b[0m\u001b[0;34m\u001b[0m\u001b[0m\n\u001b[1;32m    509\u001b[0m             \u001b[0;31m# Ideally, we would raise IncompleteRead if the content-length\u001b[0m\u001b[0;34m\u001b[0m\u001b[0;34m\u001b[0m\u001b[0;34m\u001b[0m\u001b[0m\n",
      "\u001b[0;32m/usr/lib/python3.6/socket.py\u001b[0m in \u001b[0;36mreadinto\u001b[0;34m(self, b)\u001b[0m\n\u001b[1;32m    584\u001b[0m         \u001b[0;32mwhile\u001b[0m \u001b[0;32mTrue\u001b[0m\u001b[0;34m:\u001b[0m\u001b[0;34m\u001b[0m\u001b[0;34m\u001b[0m\u001b[0m\n\u001b[1;32m    585\u001b[0m             \u001b[0;32mtry\u001b[0m\u001b[0;34m:\u001b[0m\u001b[0;34m\u001b[0m\u001b[0;34m\u001b[0m\u001b[0m\n\u001b[0;32m--> 586\u001b[0;31m                 \u001b[0;32mreturn\u001b[0m \u001b[0mself\u001b[0m\u001b[0;34m.\u001b[0m\u001b[0m_sock\u001b[0m\u001b[0;34m.\u001b[0m\u001b[0mrecv_into\u001b[0m\u001b[0;34m(\u001b[0m\u001b[0mb\u001b[0m\u001b[0;34m)\u001b[0m\u001b[0;34m\u001b[0m\u001b[0;34m\u001b[0m\u001b[0m\n\u001b[0m\u001b[1;32m    587\u001b[0m             \u001b[0;32mexcept\u001b[0m \u001b[0mtimeout\u001b[0m\u001b[0;34m:\u001b[0m\u001b[0;34m\u001b[0m\u001b[0;34m\u001b[0m\u001b[0m\n\u001b[1;32m    588\u001b[0m                 \u001b[0mself\u001b[0m\u001b[0;34m.\u001b[0m\u001b[0m_timeout_occurred\u001b[0m \u001b[0;34m=\u001b[0m \u001b[0;32mTrue\u001b[0m\u001b[0;34m\u001b[0m\u001b[0;34m\u001b[0m\u001b[0m\n",
      "\u001b[0;32m/usr/lib/python3.6/ssl.py\u001b[0m in \u001b[0;36mrecv_into\u001b[0;34m(self, buffer, nbytes, flags)\u001b[0m\n\u001b[1;32m   1010\u001b[0m                   \u001b[0;34m\"non-zero flags not allowed in calls to recv_into() on %s\"\u001b[0m \u001b[0;34m%\u001b[0m\u001b[0;34m\u001b[0m\u001b[0;34m\u001b[0m\u001b[0m\n\u001b[1;32m   1011\u001b[0m                   self.__class__)\n\u001b[0;32m-> 1012\u001b[0;31m             \u001b[0;32mreturn\u001b[0m \u001b[0mself\u001b[0m\u001b[0;34m.\u001b[0m\u001b[0mread\u001b[0m\u001b[0;34m(\u001b[0m\u001b[0mnbytes\u001b[0m\u001b[0;34m,\u001b[0m \u001b[0mbuffer\u001b[0m\u001b[0;34m)\u001b[0m\u001b[0;34m\u001b[0m\u001b[0;34m\u001b[0m\u001b[0m\n\u001b[0m\u001b[1;32m   1013\u001b[0m         \u001b[0;32melse\u001b[0m\u001b[0;34m:\u001b[0m\u001b[0;34m\u001b[0m\u001b[0;34m\u001b[0m\u001b[0m\n\u001b[1;32m   1014\u001b[0m             \u001b[0;32mreturn\u001b[0m \u001b[0msocket\u001b[0m\u001b[0;34m.\u001b[0m\u001b[0mrecv_into\u001b[0m\u001b[0;34m(\u001b[0m\u001b[0mself\u001b[0m\u001b[0;34m,\u001b[0m \u001b[0mbuffer\u001b[0m\u001b[0;34m,\u001b[0m \u001b[0mnbytes\u001b[0m\u001b[0;34m,\u001b[0m \u001b[0mflags\u001b[0m\u001b[0;34m)\u001b[0m\u001b[0;34m\u001b[0m\u001b[0;34m\u001b[0m\u001b[0m\n",
      "\u001b[0;32m/usr/lib/python3.6/ssl.py\u001b[0m in \u001b[0;36mread\u001b[0;34m(self, len, buffer)\u001b[0m\n\u001b[1;32m    872\u001b[0m             \u001b[0;32mraise\u001b[0m \u001b[0mValueError\u001b[0m\u001b[0;34m(\u001b[0m\u001b[0;34m\"Read on closed or unwrapped SSL socket.\"\u001b[0m\u001b[0;34m)\u001b[0m\u001b[0;34m\u001b[0m\u001b[0;34m\u001b[0m\u001b[0m\n\u001b[1;32m    873\u001b[0m         \u001b[0;32mtry\u001b[0m\u001b[0;34m:\u001b[0m\u001b[0;34m\u001b[0m\u001b[0;34m\u001b[0m\u001b[0m\n\u001b[0;32m--> 874\u001b[0;31m             \u001b[0;32mreturn\u001b[0m \u001b[0mself\u001b[0m\u001b[0;34m.\u001b[0m\u001b[0m_sslobj\u001b[0m\u001b[0;34m.\u001b[0m\u001b[0mread\u001b[0m\u001b[0;34m(\u001b[0m\u001b[0mlen\u001b[0m\u001b[0;34m,\u001b[0m \u001b[0mbuffer\u001b[0m\u001b[0;34m)\u001b[0m\u001b[0;34m\u001b[0m\u001b[0;34m\u001b[0m\u001b[0m\n\u001b[0m\u001b[1;32m    875\u001b[0m         \u001b[0;32mexcept\u001b[0m \u001b[0mSSLError\u001b[0m \u001b[0;32mas\u001b[0m \u001b[0mx\u001b[0m\u001b[0;34m:\u001b[0m\u001b[0;34m\u001b[0m\u001b[0;34m\u001b[0m\u001b[0m\n\u001b[1;32m    876\u001b[0m             \u001b[0;32mif\u001b[0m \u001b[0mx\u001b[0m\u001b[0;34m.\u001b[0m\u001b[0margs\u001b[0m\u001b[0;34m[\u001b[0m\u001b[0;36m0\u001b[0m\u001b[0;34m]\u001b[0m \u001b[0;34m==\u001b[0m \u001b[0mSSL_ERROR_EOF\u001b[0m \u001b[0;32mand\u001b[0m \u001b[0mself\u001b[0m\u001b[0;34m.\u001b[0m\u001b[0msuppress_ragged_eofs\u001b[0m\u001b[0;34m:\u001b[0m\u001b[0;34m\u001b[0m\u001b[0;34m\u001b[0m\u001b[0m\n",
      "\u001b[0;32m/usr/lib/python3.6/ssl.py\u001b[0m in \u001b[0;36mread\u001b[0;34m(self, len, buffer)\u001b[0m\n\u001b[1;32m    629\u001b[0m         \"\"\"\n\u001b[1;32m    630\u001b[0m         \u001b[0;32mif\u001b[0m \u001b[0mbuffer\u001b[0m \u001b[0;32mis\u001b[0m \u001b[0;32mnot\u001b[0m \u001b[0;32mNone\u001b[0m\u001b[0;34m:\u001b[0m\u001b[0;34m\u001b[0m\u001b[0;34m\u001b[0m\u001b[0m\n\u001b[0;32m--> 631\u001b[0;31m             \u001b[0mv\u001b[0m \u001b[0;34m=\u001b[0m \u001b[0mself\u001b[0m\u001b[0;34m.\u001b[0m\u001b[0m_sslobj\u001b[0m\u001b[0;34m.\u001b[0m\u001b[0mread\u001b[0m\u001b[0;34m(\u001b[0m\u001b[0mlen\u001b[0m\u001b[0;34m,\u001b[0m \u001b[0mbuffer\u001b[0m\u001b[0;34m)\u001b[0m\u001b[0;34m\u001b[0m\u001b[0;34m\u001b[0m\u001b[0m\n\u001b[0m\u001b[1;32m    632\u001b[0m         \u001b[0;32melse\u001b[0m\u001b[0;34m:\u001b[0m\u001b[0;34m\u001b[0m\u001b[0;34m\u001b[0m\u001b[0m\n\u001b[1;32m    633\u001b[0m             \u001b[0mv\u001b[0m \u001b[0;34m=\u001b[0m \u001b[0mself\u001b[0m\u001b[0;34m.\u001b[0m\u001b[0m_sslobj\u001b[0m\u001b[0;34m.\u001b[0m\u001b[0mread\u001b[0m\u001b[0;34m(\u001b[0m\u001b[0mlen\u001b[0m\u001b[0;34m)\u001b[0m\u001b[0;34m\u001b[0m\u001b[0;34m\u001b[0m\u001b[0m\n",
      "\u001b[0;31mKeyboardInterrupt\u001b[0m: "
     ]
    }
   ],
   "source": [
    "storage_client = storage.Client()\n",
    "bucket = storage_client.bucket(bucket_name)\n",
    "file_names = map(lambda x: str(x).split(\",\")[1].strip(), list(bucket.list_blobs()))\n",
    "for fn in file_names:\n",
    "    if fn.startswith(\"{}_\".format(file_name)):\n",
    "        blob = bucket.blob(fn)\n",
    "        blob.download_to_filename(target_folder + \"/\" + fn)\n",
    "        print(f\"{bucket_name}.{fn} copied to {target_folder}/{fn}\")"
   ]
  },
  {
   "cell_type": "markdown",
   "id": "e1e18a91",
   "metadata": {},
   "source": [
    "***"
   ]
  },
  {
   "cell_type": "markdown",
   "id": "908afbbb",
   "metadata": {},
   "source": [
    "## 3. Build Graph using NetworKit"
   ]
  },
  {
   "cell_type": "code",
   "execution_count": 4,
   "id": "e0a0c22d",
   "metadata": {},
   "outputs": [
    {
     "name": "stdout",
     "output_type": "stream",
     "text": [
      "-------\n",
      "0\n",
      "1\n",
      "2\n",
      "3\n",
      "4\n",
      "5\n",
      "6\n",
      "7\n",
      "8\n",
      "9\n",
      "10\n",
      "11\n",
      "12\n",
      "13\n",
      "14\n",
      "15\n",
      "16\n",
      "17\n",
      "18\n",
      "19\n",
      "20\n"
     ]
    }
   ],
   "source": [
    "target_folder = \"testfolder\"\n",
    "file_location = target_folder\n",
    "files = os.listdir(file_location)\n",
    "files.remove(\"output\")\n",
    "G = graph.Graph() #graphio.EdgeListReader(',', 0, directed=True).read(file_location+\"/\"+files[0])\n",
    "print(\"-------\")\n",
    "for file in range(21):\n",
    "    print(file)\n",
    "    #nr = int(re.search(\"[1-9].[0-9]+\", file).group(0))\n",
    "    with open(file_location+\"/\"+\"testf\"+str(file)+\".csv\", \"r\") as csvfile:\n",
    "        spamreader = csv.reader(csvfile)\n",
    "        for u, v in spamreader:\n",
    "            G.addEdge(int(u), int(v), addMissing=True)\n",
    "            \n"
   ]
  },
  {
   "cell_type": "code",
   "execution_count": 6,
   "id": "7bf67427",
   "metadata": {},
   "outputs": [
    {
     "data": {
      "text/plain": [
       "210789327"
      ]
     },
     "execution_count": 6,
     "metadata": {},
     "output_type": "execute_result"
    }
   ],
   "source": [
    "G.numberOfEdges()"
   ]
  },
  {
   "cell_type": "code",
   "execution_count": 8,
   "id": "7b1d3792",
   "metadata": {},
   "outputs": [],
   "source": [
    "from networkit import *\n",
    "import csv\n",
    "import pandas as pd\n",
    "import matplotlib.pyplot as plt\n",
    "%matplotlib inline"
   ]
  },
  {
   "cell_type": "code",
   "execution_count": 41,
   "id": "b290e945",
   "metadata": {},
   "outputs": [
    {
     "ename": "KeyboardInterrupt",
     "evalue": "",
     "output_type": "error",
     "traceback": [
      "\u001b[0;31m---------------------------------------------------------------------------\u001b[0m",
      "\u001b[0;31mKeyboardInterrupt\u001b[0m                         Traceback (most recent call last)",
      "\u001b[0;32m/tmp/ipykernel_15554/3227228752.py\u001b[0m in \u001b[0;36m<module>\u001b[0;34m\u001b[0m\n\u001b[1;32m      5\u001b[0m \u001b[0;34m\u001b[0m\u001b[0m\n\u001b[1;32m      6\u001b[0m         \u001b[0;32mfor\u001b[0m \u001b[0mi\u001b[0m \u001b[0;32min\u001b[0m \u001b[0mrange\u001b[0m\u001b[0;34m(\u001b[0m\u001b[0mint\u001b[0m\u001b[0;34m(\u001b[0m\u001b[0;34m\"{}0000000\"\u001b[0m\u001b[0;34m.\u001b[0m\u001b[0mformat\u001b[0m\u001b[0;34m(\u001b[0m\u001b[0mj\u001b[0m\u001b[0;34m)\u001b[0m\u001b[0;34m)\u001b[0m\u001b[0;34m-\u001b[0m\u001b[0;36m10000000\u001b[0m\u001b[0;34m,\u001b[0m\u001b[0mint\u001b[0m\u001b[0;34m(\u001b[0m\u001b[0;34m\"{}0000000\"\u001b[0m\u001b[0;34m.\u001b[0m\u001b[0mformat\u001b[0m\u001b[0;34m(\u001b[0m\u001b[0mj\u001b[0m\u001b[0;34m)\u001b[0m\u001b[0;34m)\u001b[0m\u001b[0;34m)\u001b[0m\u001b[0;34m:\u001b[0m\u001b[0;34m\u001b[0m\u001b[0;34m\u001b[0m\u001b[0m\n\u001b[0;32m----> 7\u001b[0;31m             \u001b[0mspamwriter\u001b[0m\u001b[0;34m.\u001b[0m\u001b[0mwriterow\u001b[0m\u001b[0;34m(\u001b[0m\u001b[0;34m[\u001b[0m\u001b[0mi\u001b[0m\u001b[0;34m,\u001b[0m \u001b[0mi\u001b[0m\u001b[0;34m+\u001b[0m\u001b[0;36m1\u001b[0m\u001b[0;34m]\u001b[0m\u001b[0;34m)\u001b[0m\u001b[0;34m\u001b[0m\u001b[0;34m\u001b[0m\u001b[0m\n\u001b[0m\u001b[1;32m      8\u001b[0m     \u001b[0mcounter\u001b[0m \u001b[0;34m+=\u001b[0m \u001b[0;36m1\u001b[0m\u001b[0;34m\u001b[0m\u001b[0;34m\u001b[0m\u001b[0m\n\u001b[1;32m      9\u001b[0m \u001b[0;34m\u001b[0m\u001b[0m\n",
      "\u001b[0;31mKeyboardInterrupt\u001b[0m: "
     ]
    }
   ],
   "source": [
    "counter = 2\n",
    "for j in range(12,35):\n",
    "    with open(\"testfolder/testf{}.csv\".format(counter), \"w\") as csvfile:\n",
    "        spamwriter = csv.writer(csvfile)\n",
    "        \n",
    "        for i in range(int(\"{}0000000\".format(j))-10000000,int(\"{}0000000\".format(j))):\n",
    "            spamwriter.writerow([i, i+1])\n",
    "    counter += 1\n",
    "        "
   ]
  },
  {
   "cell_type": "code",
   "execution_count": null,
   "id": "b0490fb7",
   "metadata": {},
   "outputs": [],
   "source": []
  },
  {
   "cell_type": "code",
   "execution_count": null,
   "id": "7d386cfc",
   "metadata": {},
   "outputs": [],
   "source": []
  },
  {
   "cell_type": "code",
   "execution_count": null,
   "id": "8f954463",
   "metadata": {},
   "outputs": [],
   "source": []
  },
  {
   "cell_type": "code",
   "execution_count": 25,
   "id": "0abae9f7",
   "metadata": {},
   "outputs": [],
   "source": [
    "G = graph.Graph()\n",
    "G.addEdge??"
   ]
  },
  {
   "cell_type": "markdown",
   "id": "78db1afb",
   "metadata": {},
   "source": [
    "***"
   ]
  },
  {
   "cell_type": "markdown",
   "id": "4a8b4a25",
   "metadata": {},
   "source": [
    "## 4. Analysis"
   ]
  },
  {
   "cell_type": "code",
   "execution_count": 7,
   "id": "7bbc4ee0",
   "metadata": {},
   "outputs": [],
   "source": [
    "%matplotlib inline\n",
    "import matplotlib.pyplot as plt\n",
    "plt.rcParams['axes.grid'] = True\n",
    "import networkit as nk\n",
    "import os\n",
    "import pandas as pd\n",
    "\n",
    "if not os.path.isdir(\"./pictures\"):\n",
    "    os.mkdir(\"./pictures\")"
   ]
  },
  {
   "cell_type": "markdown",
   "id": "1fb4794e",
   "metadata": {},
   "source": [
    "### 4.1. Bitcoin network"
   ]
  },
  {
   "cell_type": "markdown",
   "id": "a60dc423",
   "metadata": {},
   "source": [
    "### 4.1.1. Transactions and edges per month"
   ]
  },
  {
   "cell_type": "code",
   "execution_count": 13,
   "id": "b04a2ca4",
   "metadata": {},
   "outputs": [
    {
     "data": {
      "image/png": "[encoded data removed]",
      "text/plain": [
       "<Figure size 360x226.8 with 1 Axes>"
      ]
     },
     "metadata": {
      "needs_background": "light"
     },
     "output_type": "display_data"
    }
   ],
   "source": [
    "bq_table = \"bitcoin_transactions_per_month\"\n",
    "query = \"\"\"\n",
    "        SELECT    * \n",
    "        FROM      `{}.{}.{}`\n",
    "        \"\"\".format(bq_project,bq_dataset,bq_table)\n",
    "\n",
    "df_txs   = pd.read_gbq(query, bq_project)[:-1]\n",
    "\n",
    "# Create figure with size 5x3.15 inches\n",
    "plt.figure(figsize=(5, 3.15))\n",
    "\n",
    "# Join year and month to get month-of-year `moy`\n",
    "df_txs[\"moy\"] = df_txs[\"year\"].astype(str)  + \"/\" + df_txs[\"month\"].astype(str) \n",
    "\n",
    "# Plot chart\n",
    "plt.plot(df_txs[\"moy\"],df_txs[\"c\"], color=\"k\")\n",
    "\n",
    "# Customize ticks\n",
    "ticks_position = [i+\"/1\" for i in df_txs[\"year\"].astype(str) if int(i) % 2 != 0]\n",
    "ticks          = [tick.split(\"/\")[0] for tick in ticks_position]\n",
    "plt.xticks(ticks_position, ticks)\n",
    "\n",
    "# Legend\n",
    "plt.legend([\"Transactions/month\"])\n",
    "\n",
    "#Save figure and show\n",
    "plt.savefig(\"./pictures/txs_over_months.pdf\")\n",
    "plt.show()"
   ]
  },
  {
   "cell_type": "code",
   "execution_count": 14,
   "id": "67f80518",
   "metadata": {},
   "outputs": [
    {
     "data": {
      "image/png": "[encoded data removed]",
      "text/plain": [
       "<Figure size 360x154.8 with 1 Axes>"
      ]
     },
     "metadata": {
      "needs_background": "light"
     },
     "output_type": "display_data"
    }
   ],
   "source": [
    "bq_table = \"bitcoin_edges_per_month\"\n",
    "query = \"\"\"\n",
    "        SELECT    * \n",
    "        FROM      `{}.{}.{}`\n",
    "        \"\"\".format(bq_project,bq_dataset,bq_table)\n",
    "\n",
    "df_edges   = pd.read_gbq(query, bq_project)[:-1]\n",
    "\n",
    "# Create figure with size 5x3.15 inches\n",
    "plt.figure(figsize=(5, 2.15))\n",
    "\n",
    "# Join year and month to get month-of-year `moy`\n",
    "df_edges[\"moy\"] = df_edges[\"year\"].astype(str)  + \"/\" + df_edges[\"month\"].astype(str) \n",
    "\n",
    "# Plot chart\n",
    "plt.plot(df_edges[\"moy\"],df_edges[\"c\"]/10, color=\"k\")\n",
    "plt.plot(df_txs[\"moy\"],df_txs[\"c\"], color=\"#00629b\", linestyle='dashed', linewidth=2)\n",
    "\n",
    "# Customize ticks\n",
    "ticks_position = [i+\"/1\" for i in df_edges[\"year\"].astype(str) if int(i) % 2 != 0]\n",
    "ticks          = [r\"{}\".format(tick.split(\"/\")[0]) for tick in ticks_position]\n",
    "plt.xticks(ticks_position, ticks, fontweight=\"ultralight\")\n",
    "plt.yticks(fontweight=\"book\")\n",
    "\n",
    "# Legend\n",
    "plt.legend([r\"$\\#\\ of\\ Edges_{month} \\ / \\ 10$\", r\"$\\#\\ of\\ Transactions_{month}$\"])\n",
    "\n",
    "#Save figure and show\n",
    "plt.savefig(\"./pictures/txs_edges_over_months.pdf\")\n",
    "plt.show()"
   ]
  },
  {
   "cell_type": "markdown",
   "id": "b07c9c76",
   "metadata": {},
   "source": [
    "### 4.1.2. Densification Power Law"
   ]
  },
  {
   "cell_type": "code",
   "execution_count": 94,
   "id": "0b8700cb",
   "metadata": {},
   "outputs": [
    {
     "data": {
      "image/png": "[encoded data removed]",
      "text/plain": [
       "<Figure size 216x216 with 1 Axes>"
      ]
     },
     "metadata": {
      "needs_background": "light"
     },
     "output_type": "display_data"
    }
   ],
   "source": [
    "bq_table = \"bitcoin_cum_node_count\"\n",
    "query = \"\"\"\n",
    "        SELECT    * \n",
    "        FROM      `{}.{}.{}`\n",
    "        \"\"\".format(bq_project,bq_dataset,bq_table)\n",
    "try:\n",
    "    df_cnc\n",
    "except:\n",
    "    df_cnc   = pd.read_gbq(query, bq_project).sort_values(\"year\")\n",
    "\n",
    "df_ced   = df_edges.groupby(\"year\").sum().drop(\"month\", axis=1).cumsum()\n",
    "\n",
    "# Create figure with size 5x3.15 inches\n",
    "f, ax = plt.subplots(figsize=(3, 3))\n",
    "\n",
    "# Plot chart\n",
    "plt.scatter(df_cnc[\"c\"],df_ced[\"c\"], s=50, color=\"k\", edgecolors=\"#00629b\")\n",
    "plt.plot([0, 1], [0, 1], transform=ax.transAxes , color=\"k\", ls=\"--\", label='_nolegend_')\n",
    "plt.annotate(\"Point 1\", (int(8e8), int(6e9)))\n",
    "\n",
    "plt.xlabel(\"# of nodes\")\n",
    "plt.ylabel(\"# of edges\")\n",
    "plt.tight_layout()\n",
    "#Save figure and show\n",
    "plt.savefig(\"./pictures/densification.pdf\")\n",
    "plt.show()"
   ]
  },
  {
   "cell_type": "code",
   "execution_count": 77,
   "id": "715cb0f3",
   "metadata": {},
   "outputs": [
    {
     "data": {
      "text/plain": [
       "<matplotlib.lines.Line2D at 0x7f3013febfa0>"
      ]
     },
     "execution_count": 77,
     "metadata": {},
     "output_type": "execute_result"
    }
   ],
   "source": [
    "line_up[0]."
   ]
  },
  {
   "cell_type": "markdown",
   "id": "ca2068bd",
   "metadata": {},
   "source": [
    "### 4.1. The graph object"
   ]
  },
  {
   "cell_type": "code",
   "execution_count": 4,
   "id": "257203d5",
   "metadata": {},
   "outputs": [
    {
     "data": {
      "text/plain": [
       "'wu-btcgraph.json'"
      ]
     },
     "execution_count": 4,
     "metadata": {},
     "output_type": "execute_result"
    }
   ],
   "source": [
    "nodes = G.numberOfNodes()\n",
    "edges = G.numberOfEdges()\n",
    "print(f\"G has {nodes} nodes and {edges} edges\")"
   ]
  },
  {
   "cell_type": "markdown",
   "id": "9d0797b9",
   "metadata": {},
   "source": [
    "### 4.2. Connected components"
   ]
  },
  {
   "cell_type": "code",
   "execution_count": 2,
   "id": "141068c7",
   "metadata": {},
   "outputs": [],
   "source": [
    "cc = nk.components.ConnectedComponents(G)\n",
    "cc.run()\n",
    "print(\"number of components \", cc.numberOfComponents())"
   ]
  },
  {
   "cell_type": "markdown",
   "id": "889fddd2",
   "metadata": {},
   "source": [
    "### 4.3. Degree distribution"
   ]
  },
  {
   "cell_type": "code",
   "execution_count": 5,
   "id": "77fea2e0",
   "metadata": {},
   "outputs": [],
   "source": [
    "dd = sorted(nk.centrality.DegreeCentrality(G).run().scores(), reverse=True)\n",
    "plt.xscale(\"log\")\n",
    "plt.xlabel(\"degree\")\n",
    "plt.yscale(\"log\")\n",
    "plt.ylabel(\"number of nodes\")\n",
    "plt.plot(dd)\n",
    "plt.show()"
   ]
  },
  {
   "cell_type": "code",
   "execution_count": 17,
   "id": "f5580a8b",
   "metadata": {},
   "outputs": [
    {
     "data": {
      "text/plain": [
       "'/home/nero/python/wu/btc/python-bitcoin-graph'"
      ]
     },
     "execution_count": 17,
     "metadata": {},
     "output_type": "execute_result"
    }
   ],
   "source": [
    "try:\n",
    "    import powerlaw\n",
    "    fit = powerlaw.Fit(dd)\n",
    "except ImportError:\n",
    "    print (\"Module powerlaw could not be loaded\")"
   ]
  },
  {
   "cell_type": "code",
   "execution_count": 6,
   "id": "46740e06",
   "metadata": {},
   "outputs": [],
   "source": [
    "bucket = storage_client.bucket(\"wu-bitcoin\")"
   ]
  },
  {
   "cell_type": "code",
   "execution_count": 9,
   "id": "c0c60a45",
   "metadata": {},
   "outputs": [],
   "source": [
    "blob = bucket.blob(\"btc.csv\")\n",
    "blob.download_to_filename(\"btcttttttttt.csv\")"
   ]
  },
  {
   "cell_type": "code",
   "execution_count": 20,
   "id": "4d7156b3",
   "metadata": {},
   "outputs": [],
   "source": [
    "from networkit import *"
   ]
  },
  {
   "cell_type": "code",
   "execution_count": 18,
   "id": "529ea21f",
   "metadata": {},
   "outputs": [],
   "source": [
    "g = graph.Graph()"
   ]
  },
  {
   "cell_type": "code",
   "execution_count": 19,
   "id": "6f180e16",
   "metadata": {},
   "outputs": [
    {
     "data": {
      "text/plain": [
       "0"
      ]
     },
     "execution_count": 19,
     "metadata": {},
     "output_type": "execute_result"
    }
   ],
   "source": [
    "g.numberOfEdges()"
   ]
  },
  {
   "cell_type": "code",
   "execution_count": null,
   "id": "6abcdf05",
   "metadata": {},
   "outputs": [],
   "source": []
  },
  {
   "cell_type": "code",
   "execution_count": null,
   "id": "78ece211",
   "metadata": {},
   "outputs": [],
   "source": []
  },
  {
   "cell_type": "code",
   "execution_count": 22,
   "id": "0185f46a",
   "metadata": {},
   "outputs": [],
   "source": []
  },
  {
   "cell_type": "code",
   "execution_count": 25,
   "id": "e0d7b45b",
   "metadata": {},
   "outputs": [
    {
     "data": {
      "text/html": [
       "<div>\n",
       "<style scoped>\n",
       "    .dataframe tbody tr th:only-of-type {\n",
       "        vertical-align: middle;\n",
       "    }\n",
       "\n",
       "    .dataframe tbody tr th {\n",
       "        vertical-align: top;\n",
       "    }\n",
       "\n",
       "    .dataframe thead th {\n",
       "        text-align: right;\n",
       "    }\n",
       "</style>\n",
       "<table border=\"1\" class=\"dataframe\">\n",
       "  <thead>\n",
       "    <tr style=\"text-align: right;\">\n",
       "      <th></th>\n",
       "      <th>ts</th>\n",
       "      <th>from</th>\n",
       "      <th>to</th>\n",
       "    </tr>\n",
       "  </thead>\n",
       "  <tbody>\n",
       "    <tr>\n",
       "      <th>0</th>\n",
       "      <td>1</td>\n",
       "      <td>2</td>\n",
       "      <td>3</td>\n",
       "    </tr>\n",
       "    <tr>\n",
       "      <th>1</th>\n",
       "      <td>3</td>\n",
       "      <td>4</td>\n",
       "      <td>5</td>\n",
       "    </tr>\n",
       "  </tbody>\n",
       "</table>\n",
       "</div>"
      ],
      "text/plain": [
       "   ts  from  to\n",
       "0   1     2   3\n",
       "1   3     4   5"
      ]
     },
     "execution_count": 25,
     "metadata": {},
     "output_type": "execute_result"
    }
   ],
   "source": [
    "pd.DataFrame([(1,2,3),(3,4,5)], columns=[\"ts\", \"from\", \"to\"])"
   ]
  },
  {
   "cell_type": "code",
   "execution_count": null,
   "id": "d5d6109f",
   "metadata": {},
   "outputs": [],
   "source": []
  },
  {
   "cell_type": "code",
   "execution_count": 4,
   "id": "eba4d8c5",
   "metadata": {},
   "outputs": [
    {
     "data": {
      "text/plain": [
       "'\\n    CREATE OR REPLACE TABLE `wu-btcgraph.btc.addresses` AS\\n        SELECT\\n          ROW_NUMBER() OVER() - 1 id,\\n          addr\\n        FROM (\\n          SELECT\\n            DISTINCT addr\\n          FROM (\\n            SELECT\\n              `to` AS addr\\n            FROM\\n              `wu-btcgraph.btc.bitcoin_transactions`\\n            UNION ALL\\n            SELECT\\n              `from` AS addr\\n            FROM\\n              `wu-btcgraph.btc.bitcoin_transactions` )\\n          ORDER BY\\n            addr )\\n        ORDER BY\\n          id'"
      ]
     },
     "execution_count": 4,
     "metadata": {},
     "output_type": "execute_result"
    }
   ],
   "source": [
    "\"\"\"\n",
    "    CREATE OR REPLACE TABLE `{0}.{1}.addresses` AS\n",
    "        SELECT\n",
    "          ROW_NUMBER() OVER() - 1 id,\n",
    "          addr\n",
    "        FROM (\n",
    "          SELECT\n",
    "            DISTINCT addr\n",
    "          FROM (\n",
    "            SELECT\n",
    "              `to` AS addr\n",
    "            FROM\n",
    "              `{0}.{1}.{2}`\n",
    "            UNION ALL\n",
    "            SELECT\n",
    "              `from` AS addr\n",
    "            FROM\n",
    "              `{0}.{1}.{2}` )\n",
    "          ORDER BY\n",
    "            addr )\n",
    "        ORDER BY\n",
    "          id\"\"\".format(bq_project,bq_dataset,bq_table)"
   ]
  },
  {
   "cell_type": "code",
   "execution_count": null,
   "id": "33501f3d",
   "metadata": {},
   "outputs": [],
   "source": []
  },
  {
   "cell_type": "code",
   "execution_count": null,
   "id": "055897ae",
   "metadata": {},
   "outputs": [],
   "source": []
  }
 ],
 "metadata": {
  "kernelspec": {
   "display_name": "btc",
   "language": "python",
   "name": "btc"
  },
  "language_info": {
   "codemirror_mode": {
    "name": "ipython",
    "version": 3
   },
   "file_extension": ".py",
   "mimetype": "text/x-python",
   "name": "python",
   "nbconvert_exporter": "python",
   "pygments_lexer": "ipython3",
   "version": "3.8.10"
  }
 },
 "nbformat": 4,
 "nbformat_minor": 5
}
