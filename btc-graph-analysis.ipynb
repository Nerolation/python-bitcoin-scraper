{
 "cells": [
  {
   "cell_type": "markdown",
   "id": "8a5687b3",
   "metadata": {},
   "source": [
    "# Bitcoin - Complex Graph Analysis"
   ]
  },
  {
   "cell_type": "markdown",
   "id": "d6d9fcb5",
   "metadata": {},
   "source": [
    "## Steps\n",
    "1. [Parse blockchain](#Parse-blockchain-using-btcgraph.py)\n",
    "2. [Data preparation (BigQuery)](#2.-BigQuery)  \n",
    "    2.1. [Upload data](#2.1.-Upload-data-to-Google-Big-Query)  \n",
    "    2.2. [BigQuery](#2.2.-BigQuery)\n",
    "\n",
    "3. [Build graph](#3.-Build-Graph-using-NetworKit)\n",
    "4. [Analysis](#4.-Analysis)  \n",
    "    4.1. The graph object  \n",
    "    4.2. Connected Components  \n",
    "    4.3. [](#)"
   ]
  },
  {
   "cell_type": "markdown",
   "id": "ffcabb1b",
   "metadata": {},
   "source": [
    "***"
   ]
  },
  {
   "cell_type": "markdown",
   "id": "e01f46f7",
   "metadata": {},
   "source": [
    "## 1. Parse blockchain using btcgraph.py"
   ]
  },
  {
   "cell_type": "code",
   "execution_count": 5,
   "id": "9f9782e4",
   "metadata": {
    "scrolled": true
   },
   "outputs": [
    {
     "name": "stdout",
     "output_type": "stream",
     "text": [
      "Starting btc graph version 0.1.0 with the following arguments:\n",
      "current wd:       /home/nero/python/wu/btc/python-bitcoin-graph\n",
      "startfile:        blk00000.dat \n",
      "endfile:          \u001b[31mdeactivated\u001b[0m\n",
      "starttx:          \u001b[31mdeactivated\u001b[0m\n",
      "endtx:            \u001b[31mdeactivated\u001b[0m\n",
      "endts:            \u001b[31mdeactivated\u001b[0m\n",
      "blklocation:      data         \n",
      "format:           \u001b[31mdeactivated\u001b[0m\n",
      "rawedges:         \u001b[32mactivated\u001b[0m\n",
      "withts:           \u001b[32mactivated\u001b[0m\n",
      "googlebigquery:   \u001b[31mdeactivated\u001b[0m\n",
      "\n",
      "Initializing...\n",
      "[########################################]\n",
      "\n",
      "10:56:40  -  New BtcGraph initialized\n",
      "10:56:41  -  Start building...\n",
      "10:56:41  -  \u001b[32mBlock File # 0/4\u001b[0m\n",
      "10:56:41  -  Processing data/blk00000.dat\n",
      "10:57:09  -  Graph has       18,216,888 bytes\n",
      "10:57:09  -  Graph has               17 mb\n",
      "10:57:09  -  ---  -------   ----------------------------\u001b[0m\n",
      "10:57:09  -  -->  23.2 GB   total memory\u001b[0m\n",
      "10:57:09  -  -->  16.6 GB   of memory available\u001b[0m\n",
      "10:57:09  -  -->   5.7 GB   memory used\u001b[0m\n",
      "10:57:09  -  -->   0.4 GB   memory used by this process\u001b[0m\n",
      "10:57:09  -  -->  28.1  %   of memory used\u001b[0m\n",
      "10:57:09  -  -->  71.9  %   of memory available\u001b[0m\n",
      "10:57:09  -  ---  -------   ----------------------------\u001b[0m\n",
      "10:57:09  -  Saving raw edges...\n",
      "10:57:09  -  raw_blk_0.csv contains 904,893 edges\n",
      "10:57:09  -  raw_blk_0.csv ranges from 03.01.2009 to 24.04.2011\n",
      "10:57:10  -  Saving successful\n",
      "10:57:11  -  \u001b[32mBlock File # 1/4\u001b[0m\n",
      "10:57:11  -  File @ `data/blk00001.dat` took 29 seconds\n",
      "10:57:11  -  Average duration of 29 seconds per .blk file\n",
      "\u001b[32m10:57:11  -  Estimated end:  12.10  |  10:58:38\u001b[0m\n",
      "10:57:11  -  Processing data/blk00001.dat\n",
      "10:57:42  -  Graph has       31,979,432 bytes\n",
      "10:57:42  -  Graph has               30 mb\n",
      "10:57:42  -  ---  -------   ----------------------------\u001b[0m\n",
      "10:57:42  -  -->  23.2 GB   total memory\u001b[0m\n",
      "10:57:42  -  -->  16.5 GB   of memory available\u001b[0m\n",
      "10:57:42  -  -->   5.8 GB   memory used\u001b[0m\n",
      "10:57:42  -  -->   0.5 GB   memory used by this process\u001b[0m\n",
      "10:57:42  -  -->  28.5  %   of memory used\u001b[0m\n",
      "10:57:42  -  -->  71.5  %   of memory available\u001b[0m\n",
      "10:57:42  -  ---  -------   ----------------------------\u001b[0m\n",
      "10:57:42  -  Saving raw edges...\n",
      "10:57:42  -  raw_blk_1.csv contains 1,254,177 edges\n",
      "10:57:42  -  raw_blk_1.csv ranges from 24.04.2011 to 16.06.2011\n",
      "10:57:44  -  Saving successful\n",
      "10:57:44  -  \u001b[32mBlock File # 2/4\u001b[0m\n",
      "10:57:44  -  File @ `data/blk00002.dat` took 33 seconds\n",
      "10:57:44  -  Average duration of 31 seconds per .blk file\n",
      "\u001b[32m10:57:44  -  Estimated end:  12.10  |  10:58:46\u001b[0m\n",
      "10:57:44  -  Processing data/blk00002.dat\n",
      "10:58:23  -  Graph has       54,326,984 bytes\n",
      "10:58:23  -  Graph has               52 mb\n",
      "10:58:23  -  ---  -------   ----------------------------\u001b[0m\n",
      "10:58:23  -  -->  23.2 GB   total memory\u001b[0m\n",
      "10:58:23  -  -->  16.4 GB   of memory available\u001b[0m\n",
      "10:58:23  -  -->   5.9 GB   memory used\u001b[0m\n",
      "10:58:23  -  -->   0.6 GB   memory used by this process\u001b[0m\n",
      "10:58:23  -  -->  29.1  %   of memory used\u001b[0m\n",
      "10:58:23  -  -->  70.9  %   of memory available\u001b[0m\n",
      "10:58:23  -  ---  -------   ----------------------------\u001b[0m\n",
      "10:58:23  -  Saving raw edges...\n",
      "10:58:23  -  raw_blk_2.csv contains 1,460,980 edges\n",
      "10:58:23  -  raw_blk_2.csv ranges from 16.06.2011 to 18.07.2011\n",
      "10:58:25  -  Saving successful\n",
      "10:58:25  -  \u001b[32mBlock File # 3/4\u001b[0m\n",
      "10:58:25  -  File @ `data/blk00003.dat` took 41 seconds\n",
      "10:58:25  -  Average duration of 34 seconds per .blk file\n",
      "\u001b[32m10:58:25  -  Estimated end:  12.10  |  10:58:59\u001b[0m\n",
      "10:58:25  -  Processing data/blk00003.dat\n",
      "-----------------------------------------\n"
     ]
    }
   ],
   "source": [
    "%run run.py -loc data -raw 1 -wt 1"
   ]
  },
  {
   "cell_type": "markdown",
   "id": "0fca8082",
   "metadata": {},
   "source": [
    "***"
   ]
  },
  {
   "cell_type": "markdown",
   "id": "97745e50",
   "metadata": {},
   "source": [
    "## 2. BigQuery"
   ]
  },
  {
   "cell_type": "markdown",
   "id": "f50d0af2",
   "metadata": {},
   "source": [
    "### 2.1. Upload data to Google Big Query "
   ]
  },
  {
   "cell_type": "code",
   "execution_count": 16,
   "id": "6d52e50e",
   "metadata": {},
   "outputs": [
    {
     "name": "stdout",
     "output_type": "stream",
     "text": [
      "startfile:        \u001b[31mdeactivated\u001b[0m\n",
      "endfile:          \u001b[31mdeactivated\u001b[0m\n",
      "starttx:          \u001b[31mdeactivated\u001b[0m\n",
      "endtx:            \u001b[31mdeactivated\u001b[0m\n",
      "endts:            \u001b[31mdeactivated\u001b[0m\n",
      "blklocation:      \u001b[31mdeactivated\u001b[0m\n",
      "format:           \u001b[31mdeactivated\u001b[0m\n",
      "rawedges:         \u001b[31mdeactivated\u001b[0m\n",
      "withts:           \u001b[31mdeactivated\u001b[0m\n",
      "googlebigquery:   \u001b[32mactivated\u001b[0m\n",
      "\n",
      "Initializing...\n",
      "[########################################]\n",
      "\n",
      "raw_blk_0.csv      successfully uploaded   \n",
      "raw_blk_1.csv      successfully uploaded   \n",
      "raw_blk_2.csv      successfully uploaded   \n",
      "[###]\n",
      "-----------------------------------------\n"
     ]
    }
   ],
   "source": [
    "%run run.py -gbq 1"
   ]
  },
  {
   "cell_type": "markdown",
   "id": "1e497f35",
   "metadata": {},
   "source": [
    "### 2.2. BigQuery\n",
    "   * Fetch distinct addresses\n",
    "   * Create index ID for each address\n",
    "   * Create edge list from transactions with new indexes"
   ]
  },
  {
   "cell_type": "markdown",
   "id": "da305560",
   "metadata": {},
   "source": [
    "### 2.2. Download edge list from google cloud as csv "
   ]
  },
  {
   "cell_type": "code",
   "execution_count": 11,
   "id": "ab1dedb2",
   "metadata": {},
   "outputs": [
    {
     "ename": "NameError",
     "evalue": "name 'graph' is not defined",
     "output_type": "error",
     "traceback": [
      "\u001b[0;31m---------------------------------------------------------------------------\u001b[0m",
      "\u001b[0;31mNameError\u001b[0m                                 Traceback (most recent call last)",
      "\u001b[0;32m/tmp/ipykernel_72464/4010565354.py\u001b[0m in \u001b[0;36m<module>\u001b[0;34m\u001b[0m\n\u001b[1;32m     12\u001b[0m \u001b[0mbucket\u001b[0m \u001b[0;34m=\u001b[0m \u001b[0mstorage_client\u001b[0m\u001b[0;34m.\u001b[0m\u001b[0mbucket\u001b[0m\u001b[0;34m(\u001b[0m\u001b[0mbucket_name\u001b[0m\u001b[0;34m)\u001b[0m\u001b[0;34m\u001b[0m\u001b[0;34m\u001b[0m\u001b[0m\n\u001b[1;32m     13\u001b[0m \u001b[0mblob\u001b[0m \u001b[0;34m=\u001b[0m \u001b[0mbucket\u001b[0m\u001b[0;34m.\u001b[0m\u001b[0mblob\u001b[0m\u001b[0;34m(\u001b[0m\u001b[0mfile_name\u001b[0m\u001b[0;34m)\u001b[0m\u001b[0;34m\u001b[0m\u001b[0;34m\u001b[0m\u001b[0m\n\u001b[0;32m---> 14\u001b[0;31m \u001b[0mblob\u001b[0m\u001b[0;34m.\u001b[0m\u001b[0mdownload_to_filename\u001b[0m\u001b[0;34m(\u001b[0m\u001b[0mgraph\u001b[0m \u001b[0;34m+\u001b[0m \u001b[0;34m\"/\"\u001b[0m \u001b[0;34m+\u001b[0m \u001b[0mfile_name\u001b[0m\u001b[0;34m)\u001b[0m\u001b[0;34m\u001b[0m\u001b[0;34m\u001b[0m\u001b[0m\n\u001b[0m",
      "\u001b[0;31mNameError\u001b[0m: name 'graph' is not defined"
     ]
    }
   ],
   "source": [
    "import os \n",
    "from google.cloud import storage\n",
    "\n",
    "credentials_path = \".gcpkey/wu-btcgraph.json\"\n",
    "bucket_name      = \"wu-bitcoin\"\n",
    "file_name        = \"btc.csv\"\n",
    "target_folder    = \"graph\"\n",
    "\n",
    "if not os.path.isdir(f'./{target_folder}'):\n",
    "    os.makedirs(f'./{target_folder}')\n",
    "\n",
    "os.environ['GOOGLE_APPLICATION_CREDENTIALS'] = credentials_path\n",
    "\n",
    "storage_client = storage.Client()\n",
    "bucket = storage_client.bucket(bucket_name)\n",
    "for file_name in file_names:\n",
    "    blob = bucket.blob(file_name)\n",
    "    blob.download_to_filename(target_folder + \"/\" + file_name)\n",
    "    print(f\"{bucket_name}.{file_name} copied to {target_folder + \"/\" + file_name}\")"
   ]
  },
  {
   "cell_type": "markdown",
   "id": "e1e18a91",
   "metadata": {},
   "source": [
    "***"
   ]
  },
  {
   "cell_type": "markdown",
   "id": "908afbbb",
   "metadata": {},
   "source": [
    "## 3. Build Graph using NetworKit"
   ]
  },
  {
   "cell_type": "code",
   "execution_count": null,
   "id": "e0a0c22d",
   "metadata": {},
   "outputs": [],
   "source": [
    "file_location = \"test.csv\"\n",
    "G = graphio.EdgeListReader(',', 0, directed=True).read(file_location)"
   ]
  },
  {
   "cell_type": "markdown",
   "id": "78db1afb",
   "metadata": {},
   "source": [
    "***"
   ]
  },
  {
   "cell_type": "markdown",
   "id": "4a8b4a25",
   "metadata": {},
   "source": [
    "## 4. Analysis"
   ]
  },
  {
   "cell_type": "code",
   "execution_count": 21,
   "id": "715cb0f3",
   "metadata": {},
   "outputs": [],
   "source": [
    "%matplotlib inline\n",
    "import matplotlib.pyplot as plt\n",
    "import networkit as nk"
   ]
  },
  {
   "cell_type": "markdown",
   "id": "ca2068bd",
   "metadata": {},
   "source": [
    "### 4.1. The graph object"
   ]
  },
  {
   "cell_type": "code",
   "execution_count": 4,
   "id": "257203d5",
   "metadata": {},
   "outputs": [
    {
     "data": {
      "text/plain": [
       "'wu-btcgraph.json'"
      ]
     },
     "execution_count": 4,
     "metadata": {},
     "output_type": "execute_result"
    }
   ],
   "source": [
    "nodes = G.numberOfNodes()\n",
    "edges = G.numberOfEdges()\n",
    "print(f\"G has {nodes} nodes and {edges} edges\")"
   ]
  },
  {
   "cell_type": "markdown",
   "id": "9d0797b9",
   "metadata": {},
   "source": [
    "### 4.2. Connected components"
   ]
  },
  {
   "cell_type": "code",
   "execution_count": 2,
   "id": "141068c7",
   "metadata": {},
   "outputs": [],
   "source": [
    "cc = nk.components.ConnectedComponents(G)\n",
    "cc.run()\n",
    "print(\"number of components \", cc.numberOfComponents())"
   ]
  },
  {
   "cell_type": "markdown",
   "id": "889fddd2",
   "metadata": {},
   "source": [
    "### 4.3. Degree distribution"
   ]
  },
  {
   "cell_type": "code",
   "execution_count": 5,
   "id": "77fea2e0",
   "metadata": {},
   "outputs": [],
   "source": [
    "dd = sorted(nk.centrality.DegreeCentrality(G).run().scores(), reverse=True)\n",
    "plt.xscale(\"log\")\n",
    "plt.xlabel(\"degree\")\n",
    "plt.yscale(\"log\")\n",
    "plt.ylabel(\"number of nodes\")\n",
    "plt.plot(dd)\n",
    "plt.show()"
   ]
  },
  {
   "cell_type": "code",
   "execution_count": 17,
   "id": "f5580a8b",
   "metadata": {},
   "outputs": [
    {
     "data": {
      "text/plain": [
       "'/home/nero/python/wu/btc/python-bitcoin-graph'"
      ]
     },
     "execution_count": 17,
     "metadata": {},
     "output_type": "execute_result"
    }
   ],
   "source": [
    "try:\n",
    "    import powerlaw\n",
    "    fit = powerlaw.Fit(dd)\n",
    "except ImportError:\n",
    "    print (\"Module powerlaw could not be loaded\")"
   ]
  },
  {
   "cell_type": "code",
   "execution_count": 6,
   "id": "46740e06",
   "metadata": {},
   "outputs": [],
   "source": [
    "bucket = storage_client.bucket(\"wu-bitcoin\")"
   ]
  },
  {
   "cell_type": "code",
   "execution_count": 9,
   "id": "c0c60a45",
   "metadata": {},
   "outputs": [],
   "source": [
    "blob = bucket.blob(\"btc.csv\")\n",
    "blob.download_to_filename(\"btcttttttttt.csv\")"
   ]
  },
  {
   "cell_type": "code",
   "execution_count": 20,
   "id": "4d7156b3",
   "metadata": {},
   "outputs": [],
   "source": [
    "from networkit import *"
   ]
  },
  {
   "cell_type": "code",
   "execution_count": 18,
   "id": "529ea21f",
   "metadata": {},
   "outputs": [],
   "source": [
    "g = graph.Graph()"
   ]
  },
  {
   "cell_type": "code",
   "execution_count": 19,
   "id": "6f180e16",
   "metadata": {},
   "outputs": [
    {
     "data": {
      "text/plain": [
       "0"
      ]
     },
     "execution_count": 19,
     "metadata": {},
     "output_type": "execute_result"
    }
   ],
   "source": [
    "g.numberOfEdges()"
   ]
  },
  {
   "cell_type": "code",
   "execution_count": null,
   "id": "6abcdf05",
   "metadata": {},
   "outputs": [],
   "source": []
  },
  {
   "cell_type": "code",
   "execution_count": null,
   "id": "78ece211",
   "metadata": {},
   "outputs": [],
   "source": []
  },
  {
   "cell_type": "code",
   "execution_count": 22,
   "id": "0185f46a",
   "metadata": {},
   "outputs": [],
   "source": [
    "import pandas as pd"
   ]
  },
  {
   "cell_type": "code",
   "execution_count": 25,
   "id": "e0d7b45b",
   "metadata": {},
   "outputs": [
    {
     "data": {
      "text/html": [
       "<div>\n",
       "<style scoped>\n",
       "    .dataframe tbody tr th:only-of-type {\n",
       "        vertical-align: middle;\n",
       "    }\n",
       "\n",
       "    .dataframe tbody tr th {\n",
       "        vertical-align: top;\n",
       "    }\n",
       "\n",
       "    .dataframe thead th {\n",
       "        text-align: right;\n",
       "    }\n",
       "</style>\n",
       "<table border=\"1\" class=\"dataframe\">\n",
       "  <thead>\n",
       "    <tr style=\"text-align: right;\">\n",
       "      <th></th>\n",
       "      <th>ts</th>\n",
       "      <th>from</th>\n",
       "      <th>to</th>\n",
       "    </tr>\n",
       "  </thead>\n",
       "  <tbody>\n",
       "    <tr>\n",
       "      <th>0</th>\n",
       "      <td>1</td>\n",
       "      <td>2</td>\n",
       "      <td>3</td>\n",
       "    </tr>\n",
       "    <tr>\n",
       "      <th>1</th>\n",
       "      <td>3</td>\n",
       "      <td>4</td>\n",
       "      <td>5</td>\n",
       "    </tr>\n",
       "  </tbody>\n",
       "</table>\n",
       "</div>"
      ],
      "text/plain": [
       "   ts  from  to\n",
       "0   1     2   3\n",
       "1   3     4   5"
      ]
     },
     "execution_count": 25,
     "metadata": {},
     "output_type": "execute_result"
    }
   ],
   "source": [
    "pd.DataFrame([(1,2,3),(3,4,5)], columns=[\"ts\", \"from\", \"to\"])"
   ]
  },
  {
   "cell_type": "code",
   "execution_count": null,
   "id": "d5d6109f",
   "metadata": {},
   "outputs": [],
   "source": []
  },
  {
   "cell_type": "code",
   "execution_count": null,
   "id": "eba4d8c5",
   "metadata": {},
   "outputs": [],
   "source": []
  },
  {
   "cell_type": "code",
   "execution_count": null,
   "id": "33501f3d",
   "metadata": {},
   "outputs": [],
   "source": []
  },
  {
   "cell_type": "code",
   "execution_count": null,
   "id": "055897ae",
   "metadata": {},
   "outputs": [],
   "source": []
  }
 ],
 "metadata": {
  "kernelspec": {
   "display_name": "btcgraph",
   "language": "python",
   "name": "btcgraph"
  },
  "language_info": {
   "codemirror_mode": {
    "name": "ipython",
    "version": 3
   },
   "file_extension": ".py",
   "mimetype": "text/x-python",
   "name": "python",
   "nbconvert_exporter": "python",
   "pygments_lexer": "ipython3",
   "version": "3.8.10"
  }
 },
 "nbformat": 4,
 "nbformat_minor": 5
}
