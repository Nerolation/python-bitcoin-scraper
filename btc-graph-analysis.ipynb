{
 "cells": [
  {
   "cell_type": "markdown",
   "id": "8a5687b3",
   "metadata": {},
   "source": [
    "# Bitcoin - Complex Graph Analysis"
   ]
  },
  {
   "cell_type": "markdown",
   "id": "d6d9fcb5",
   "metadata": {},
   "source": [
    "## Steps\n",
    "1. [Parse blockchain](#Parse-blockchain-using-btcgraph.py)\n",
    "2. [Data preparation (BigQuery)](#2.-Data-preparation-(BigQuery))  \n",
    "    2.1. [Upload data](#2.1.-Upload-data-to-Google-Big-Query)  \n",
    "    2.2. [Create new indices](#2.2.-Create-indices-for-every-address)  \n",
    "    2.3. [Build edge list](#2.3.-Build-edge-list-with-timestamps-using-the-new-indices)  \n",
    "    2.4. [Export data to GCS](#2.4.-Export-dataset-to-Google-Cloud-Storage)  \n",
    "    2.5. [Download edge list from GCS](#2.5.-Download-edge-list-from-google-cloud-as-csv-(without-timestamp))\n",
    "3. [Graph construction](#3.-Build-Graph-using-NetworKit)\n",
    "4. [Analysis](#4.-Analysis)  \n",
    "    4.1. The graph object  \n",
    "    4.2. Connected Components  \n",
    "    4.3. [](#)"
   ]
  },
  {
   "cell_type": "markdown",
   "id": "ffcabb1b",
   "metadata": {},
   "source": [
    "***"
   ]
  },
  {
   "cell_type": "markdown",
   "id": "e01f46f7",
   "metadata": {},
   "source": [
    "## 1. Parse blockchain using btcgraph.py"
   ]
  },
  {
   "cell_type": "code",
   "execution_count": 5,
   "id": "9f9782e4",
   "metadata": {
    "scrolled": true
   },
   "outputs": [
    {
     "name": "stdout",
     "output_type": "stream",
     "text": [
      "Starting btc graph version 0.1.0 with the following arguments:\n",
      "current wd:       /home/nero/python/wu/btc/python-bitcoin-graph\n",
      "startfile:        blk00000.dat \n",
      "endfile:          \u001b[31mdeactivated\u001b[0m\n",
      "starttx:          \u001b[31mdeactivated\u001b[0m\n",
      "endtx:            \u001b[31mdeactivated\u001b[0m\n",
      "endts:            \u001b[31mdeactivated\u001b[0m\n",
      "blklocation:      data         \n",
      "format:           \u001b[31mdeactivated\u001b[0m\n",
      "rawedges:         \u001b[32mactivated\u001b[0m\n",
      "withts:           \u001b[32mactivated\u001b[0m\n",
      "googlebigquery:   \u001b[31mdeactivated\u001b[0m\n",
      "\n",
      "Initializing...\n",
      "[########################################]\n",
      "\n",
      "10:56:40  -  New BtcGraph initialized\n",
      "10:56:41  -  Start building...\n",
      "10:56:41  -  \u001b[32mBlock File # 0/4\u001b[0m\n",
      "10:56:41  -  Processing data/blk00000.dat\n",
      "10:57:09  -  Graph has       18,216,888 bytes\n",
      "10:57:09  -  Graph has               17 mb\n",
      "10:57:09  -  ---  -------   ----------------------------\u001b[0m\n",
      "10:57:09  -  -->  23.2 GB   total memory\u001b[0m\n",
      "10:57:09  -  -->  16.6 GB   of memory available\u001b[0m\n",
      "10:57:09  -  -->   5.7 GB   memory used\u001b[0m\n",
      "10:57:09  -  -->   0.4 GB   memory used by this process\u001b[0m\n",
      "10:57:09  -  -->  28.1  %   of memory used\u001b[0m\n",
      "10:57:09  -  -->  71.9  %   of memory available\u001b[0m\n",
      "10:57:09  -  ---  -------   ----------------------------\u001b[0m\n",
      "10:57:09  -  Saving raw edges...\n",
      "10:57:09  -  raw_blk_0.csv contains 904,893 edges\n",
      "10:57:09  -  raw_blk_0.csv ranges from 03.01.2009 to 24.04.2011\n",
      "10:57:10  -  Saving successful\n",
      "10:57:11  -  \u001b[32mBlock File # 1/4\u001b[0m\n",
      "10:57:11  -  File @ `data/blk00001.dat` took 29 seconds\n",
      "10:57:11  -  Average duration of 29 seconds per .blk file\n",
      "\u001b[32m10:57:11  -  Estimated end:  12.10  |  10:58:38\u001b[0m\n",
      "10:57:11  -  Processing data/blk00001.dat\n",
      "10:57:42  -  Graph has       31,979,432 bytes\n",
      "10:57:42  -  Graph has               30 mb\n",
      "10:57:42  -  ---  -------   ----------------------------\u001b[0m\n",
      "10:57:42  -  -->  23.2 GB   total memory\u001b[0m\n",
      "10:57:42  -  -->  16.5 GB   of memory available\u001b[0m\n",
      "10:57:42  -  -->   5.8 GB   memory used\u001b[0m\n",
      "10:57:42  -  -->   0.5 GB   memory used by this process\u001b[0m\n",
      "10:57:42  -  -->  28.5  %   of memory used\u001b[0m\n",
      "10:57:42  -  -->  71.5  %   of memory available\u001b[0m\n",
      "10:57:42  -  ---  -------   ----------------------------\u001b[0m\n",
      "10:57:42  -  Saving raw edges...\n",
      "10:57:42  -  raw_blk_1.csv contains 1,254,177 edges\n",
      "10:57:42  -  raw_blk_1.csv ranges from 24.04.2011 to 16.06.2011\n",
      "10:57:44  -  Saving successful\n",
      "10:57:44  -  \u001b[32mBlock File # 2/4\u001b[0m\n",
      "10:57:44  -  File @ `data/blk00002.dat` took 33 seconds\n",
      "10:57:44  -  Average duration of 31 seconds per .blk file\n",
      "\u001b[32m10:57:44  -  Estimated end:  12.10  |  10:58:46\u001b[0m\n",
      "10:57:44  -  Processing data/blk00002.dat\n",
      "10:58:23  -  Graph has       54,326,984 bytes\n",
      "10:58:23  -  Graph has               52 mb\n",
      "10:58:23  -  ---  -------   ----------------------------\u001b[0m\n",
      "10:58:23  -  -->  23.2 GB   total memory\u001b[0m\n",
      "10:58:23  -  -->  16.4 GB   of memory available\u001b[0m\n",
      "10:58:23  -  -->   5.9 GB   memory used\u001b[0m\n",
      "10:58:23  -  -->   0.6 GB   memory used by this process\u001b[0m\n",
      "10:58:23  -  -->  29.1  %   of memory used\u001b[0m\n",
      "10:58:23  -  -->  70.9  %   of memory available\u001b[0m\n",
      "10:58:23  -  ---  -------   ----------------------------\u001b[0m\n",
      "10:58:23  -  Saving raw edges...\n",
      "10:58:23  -  raw_blk_2.csv contains 1,460,980 edges\n",
      "10:58:23  -  raw_blk_2.csv ranges from 16.06.2011 to 18.07.2011\n",
      "10:58:25  -  Saving successful\n",
      "10:58:25  -  \u001b[32mBlock File # 3/4\u001b[0m\n",
      "10:58:25  -  File @ `data/blk00003.dat` took 41 seconds\n",
      "10:58:25  -  Average duration of 34 seconds per .blk file\n",
      "\u001b[32m10:58:25  -  Estimated end:  12.10  |  10:58:59\u001b[0m\n",
      "10:58:25  -  Processing data/blk00003.dat\n",
      "-----------------------------------------\n"
     ]
    }
   ],
   "source": [
    "%run run.py -loc data -raw -collectvalue -collectblk -upload"
   ]
  },
  {
   "cell_type": "markdown",
   "id": "0fca8082",
   "metadata": {},
   "source": [
    "***"
   ]
  },
  {
   "cell_type": "markdown",
   "id": "97745e50",
   "metadata": {},
   "source": [
    "## 2. Data preparation (BigQuery)\n",
    "   * Fetch distinct addresses \n",
    "   * Create index ID for each address\n",
    "   * Create edge list from transactions with new indexes"
   ]
  },
  {
   "cell_type": "code",
   "execution_count": 1,
   "id": "26ba7853",
   "metadata": {},
   "outputs": [
    {
     "data": {
      "text/html": [
       "\n",
       "\t\t\t<script type=\"text/javascript\">\n",
       "\t\t\t<!--\n",
       "\t\t\t\t\n",
       "\t\t\t{\n",
       "\t\t\t\tvar element = document.getElementById('NetworKit_script');\n",
       "\t\t\t\tif (element) {\n",
       "\t\t\t\t\telement.parentNode.removeChild(element);\n",
       "\t\t\t\t}\n",
       "\t\t\t\telement = document.createElement('script');\n",
       "\t\t\t\telement.type = 'text/javascript';\n",
       "\t\t\t\telement.innerHTML = 'function NetworKit_pageEmbed(id) { var i, j; var elements; elements = document.getElementById(id).getElementsByClassName(\"Plot\"); for (i=0; i<elements.length; i++) { elements[i].id = id + \"_Plot_\" + i; var data = elements[i].getAttribute(\"data-image\").split(\"|\"); elements[i].removeAttribute(\"data-image\"); var content = \"<div class=\\\\\"Image\\\\\" id=\\\\\"\" + elements[i].id + \"_Image\\\\\" />\"; elements[i].innerHTML = content; elements[i].setAttribute(\"data-image-index\", 0); elements[i].setAttribute(\"data-image-length\", data.length); for (j=0; j<data.length; j++) { elements[i].setAttribute(\"data-image-\" + j, data[j]); } NetworKit_plotUpdate(elements[i]); elements[i].onclick = function (e) { NetworKit_overlayShow((e.target) ? e.target : e.srcElement); } } elements = document.getElementById(id).getElementsByClassName(\"HeatCell\"); for (i=0; i<elements.length; i++) { var data = parseFloat(elements[i].getAttribute(\"data-heat\")); var color = \"#00FF00\"; if (data <= 1 && data > 0) { color = \"hsla(0, 100%, 75%, \" + (data) + \")\"; } else if (data <= 0 && data >= -1) { color = \"hsla(240, 100%, 75%, \" + (-data) + \")\"; } elements[i].style.backgroundColor = color; } elements = document.getElementById(id).getElementsByClassName(\"Details\"); for (i=0; i<elements.length; i++) { elements[i].setAttribute(\"data-title\", \"-\"); NetworKit_toggleDetails(elements[i]); elements[i].onclick = function (e) { NetworKit_toggleDetails((e.target) ? e.target : e.srcElement); } } elements = document.getElementById(id).getElementsByClassName(\"MathValue\"); for (i=elements.length-1; i>=0; i--) { value = elements[i].innerHTML.trim(); if (value === \"nan\") { elements[i].parentNode.innerHTML = \"\" } } elements = document.getElementById(id).getElementsByClassName(\"SubCategory\"); for (i=elements.length-1; i>=0; i--) { value = elements[i].innerHTML.trim(); if (value === \"\") { elements[i].parentNode.removeChild(elements[i]) } } elements = document.getElementById(id).getElementsByClassName(\"Category\"); for (i=elements.length-1; i>=0; i--) { value = elements[i].innerHTML.trim(); if (value === \"\") { elements[i].parentNode.removeChild(elements[i]) } } var isFirefox = false; try { isFirefox = typeof InstallTrigger !== \"undefined\"; } catch (e) {} if (!isFirefox) { alert(\"Currently the function\\'s output is only fully supported by Firefox.\"); } } function NetworKit_plotUpdate(source) { var index = source.getAttribute(\"data-image-index\"); var data = source.getAttribute(\"data-image-\" + index); var image = document.getElementById(source.id + \"_Image\"); image.style.backgroundImage = \"url(\" + data + \")\"; } function NetworKit_showElement(id, show) { var element = document.getElementById(id); element.style.display = (show) ? \"block\" : \"none\"; } function NetworKit_overlayShow(source) { NetworKit_overlayUpdate(source); NetworKit_showElement(\"NetworKit_Overlay\", true); } function NetworKit_overlayUpdate(source) { document.getElementById(\"NetworKit_Overlay_Title\").innerHTML = source.title; var index = source.getAttribute(\"data-image-index\"); var data = source.getAttribute(\"data-image-\" + index); var image = document.getElementById(\"NetworKit_Overlay_Image\"); image.setAttribute(\"data-id\", source.id); image.style.backgroundImage = \"url(\" + data + \")\"; var link = document.getElementById(\"NetworKit_Overlay_Toolbar_Bottom_Save\"); link.href = data; link.download = source.title + \".svg\"; } function NetworKit_overlayImageShift(delta) { var image = document.getElementById(\"NetworKit_Overlay_Image\"); var source = document.getElementById(image.getAttribute(\"data-id\")); var index = parseInt(source.getAttribute(\"data-image-index\")); var length = parseInt(source.getAttribute(\"data-image-length\")); var index = (index+delta) % length; if (index < 0) { index = length + index; } source.setAttribute(\"data-image-index\", index); NetworKit_overlayUpdate(source); } function NetworKit_toggleDetails(source) { var childs = source.children; var show = false; if (source.getAttribute(\"data-title\") == \"-\") { source.setAttribute(\"data-title\", \"+\"); show = false; } else { source.setAttribute(\"data-title\", \"-\"); show = true; } for (i=0; i<childs.length; i++) { if (show) { childs[i].style.display = \"block\"; } else { childs[i].style.display = \"none\"; } } }';\n",
       "\t\t\t\telement.setAttribute('id', 'NetworKit_script');\n",
       "\t\t\t\tdocument.head.appendChild(element);\n",
       "\t\t\t}\n",
       "\t\t\n",
       "\t\t\t\t\n",
       "\t\t\t{\n",
       "\t\t\t\tvar element = document.getElementById('NetworKit_style');\n",
       "\t\t\t\tif (element) {\n",
       "\t\t\t\t\telement.parentNode.removeChild(element);\n",
       "\t\t\t\t}\n",
       "\t\t\t\telement = document.createElement('style');\n",
       "\t\t\t\telement.type = 'text/css';\n",
       "\t\t\t\telement.innerHTML = '.NetworKit_Page { font-family: Arial, Helvetica, sans-serif; font-size: 14px; } .NetworKit_Page .Value:before { font-family: Arial, Helvetica, sans-serif; font-size: 1.05em; content: attr(data-title) \":\"; margin-left: -2.5em; padding-right: 0.5em; } .NetworKit_Page .Details .Value:before { display: block; } .NetworKit_Page .Value { font-family: monospace; white-space: pre; padding-left: 2.5em; white-space: -moz-pre-wrap !important; white-space: -pre-wrap; white-space: -o-pre-wrap; white-space: pre-wrap; word-wrap: break-word; tab-size: 4; -moz-tab-size: 4; } .NetworKit_Page .Category { clear: both; padding-left: 1em; margin-bottom: 1.5em; } .NetworKit_Page .Category:before { content: attr(data-title); font-size: 1.75em; display: block; margin-left: -0.8em; margin-bottom: 0.5em; } .NetworKit_Page .SubCategory { margin-bottom: 1.5em; padding-left: 1em; } .NetworKit_Page .SubCategory:before { font-size: 1.6em; display: block; margin-left: -0.8em; margin-bottom: 0.5em; } .NetworKit_Page .SubCategory[data-title]:before { content: attr(data-title); } .NetworKit_Page .Block { display: block; } .NetworKit_Page .Block:after { content: \".\"; visibility: hidden; display: block; height: 0; clear: both; } .NetworKit_Page .Block .Thumbnail_Overview, .NetworKit_Page .Block .Thumbnail_ScatterPlot { width: 260px; float: left; } .NetworKit_Page .Block .Thumbnail_Overview img, .NetworKit_Page .Block .Thumbnail_ScatterPlot img { width: 260px; } .NetworKit_Page .Block .Thumbnail_Overview:before, .NetworKit_Page .Block .Thumbnail_ScatterPlot:before { display: block; text-align: center; font-weight: bold; } .NetworKit_Page .Block .Thumbnail_Overview:before { content: attr(data-title); } .NetworKit_Page .HeatCell { font-family: \"Courier New\", Courier, monospace; cursor: pointer; } .NetworKit_Page .HeatCell, .NetworKit_Page .HeatCellName { display: inline; padding: 0.1em; margin-right: 2px; background-color: #FFFFFF } .NetworKit_Page .HeatCellName { margin-left: 0.25em; } .NetworKit_Page .HeatCell:before { content: attr(data-heat); display: inline-block; color: #000000; width: 4em; text-align: center; } .NetworKit_Page .Measure { clear: both; } .NetworKit_Page .Measure .Details { cursor: pointer; } .NetworKit_Page .Measure .Details:before { content: \"[\" attr(data-title) \"]\"; display: block; } .NetworKit_Page .Measure .Details .Value { border-left: 1px dotted black; margin-left: 0.4em; padding-left: 3.5em; pointer-events: none; } .NetworKit_Page .Measure .Details .Spacer:before { content: \".\"; opacity: 0.0; pointer-events: none; } .NetworKit_Page .Measure .Plot { width: 440px; height: 440px; cursor: pointer; float: left; margin-left: -0.9em; margin-right: 20px; } .NetworKit_Page .Measure .Plot .Image { background-repeat: no-repeat; background-position: center center; background-size: contain; height: 100%; pointer-events: none; } .NetworKit_Page .Measure .Stat { width: 500px; float: left; } .NetworKit_Page .Measure .Stat .Group { padding-left: 1.25em; margin-bottom: 0.75em; } .NetworKit_Page .Measure .Stat .Group .Title { font-size: 1.1em; display: block; margin-bottom: 0.3em; margin-left: -0.75em; border-right-style: dotted; border-right-width: 1px; border-bottom-style: dotted; border-bottom-width: 1px; background-color: #D0D0D0; padding-left: 0.2em; } .NetworKit_Page .Measure .Stat .Group .List { -webkit-column-count: 3; -moz-column-count: 3; column-count: 3; } .NetworKit_Page .Measure .Stat .Group .List .Entry { position: relative; line-height: 1.75em; } .NetworKit_Page .Measure .Stat .Group .List .Entry[data-tooltip]:before { position: absolute; left: 0; top: -40px; background-color: #808080; color: #ffffff; height: 30px; line-height: 30px; border-radius: 5px; padding: 0 15px; content: attr(data-tooltip); white-space: nowrap; display: none; } .NetworKit_Page .Measure .Stat .Group .List .Entry[data-tooltip]:after { position: absolute; left: 15px; top: -10px; border-top: 7px solid #808080; border-left: 7px solid transparent; border-right: 7px solid transparent; content: \"\"; display: none; } .NetworKit_Page .Measure .Stat .Group .List .Entry[data-tooltip]:hover:after, .NetworKit_Page .Measure .Stat .Group .List .Entry[data-tooltip]:hover:before { display: block; } .NetworKit_Page .Measure .Stat .Group .List .Entry .MathValue { font-family: \"Courier New\", Courier, monospace; } .NetworKit_Page .Measure:after { content: \".\"; visibility: hidden; display: block; height: 0; clear: both; } .NetworKit_Page .PartitionPie { clear: both; } .NetworKit_Page .PartitionPie img { width: 600px; } #NetworKit_Overlay { left: 0px; top: 0px; display: none; position: absolute; width: 100%; height: 100%; background-color: rgba(0,0,0,0.6); z-index: 1000; } #NetworKit_Overlay_Title { position: absolute; color: white; transform: rotate(-90deg); width: 32em; height: 32em; padding-right: 0.5em; padding-top: 0.5em; text-align: right; font-size: 40px; } #NetworKit_Overlay .button { background: white; cursor: pointer; } #NetworKit_Overlay .button:before { size: 13px; display: inline-block; text-align: center; margin-top: 0.5em; margin-bottom: 0.5em; width: 1.5em; height: 1.5em; } #NetworKit_Overlay .icon-close:before { content: \"X\"; } #NetworKit_Overlay .icon-previous:before { content: \"P\"; } #NetworKit_Overlay .icon-next:before { content: \"N\"; } #NetworKit_Overlay .icon-save:before { content: \"S\"; } #NetworKit_Overlay_Toolbar_Top, #NetworKit_Overlay_Toolbar_Bottom { position: absolute; width: 40px; right: 13px; text-align: right; z-index: 1100; } #NetworKit_Overlay_Toolbar_Top { top: 0.5em; } #NetworKit_Overlay_Toolbar_Bottom { Bottom: 0.5em; } #NetworKit_Overlay_ImageContainer { position: absolute; top: 5%; left: 5%; height: 90%; width: 90%; background-repeat: no-repeat; background-position: center center; background-size: contain; } #NetworKit_Overlay_Image { height: 100%; width: 100%; background-repeat: no-repeat; background-position: center center; background-size: contain; }';\n",
       "\t\t\t\telement.setAttribute('id', 'NetworKit_style');\n",
       "\t\t\t\tdocument.head.appendChild(element);\n",
       "\t\t\t}\n",
       "\t\t\n",
       "\t\t\t\t\n",
       "\t\t\t{\n",
       "\t\t\t\tvar element = document.getElementById('NetworKit_Overlay');\n",
       "\t\t\t\tif (element) {\n",
       "\t\t\t\t\telement.parentNode.removeChild(element);\n",
       "\t\t\t\t}\n",
       "\t\t\t\telement = document.createElement('div');\n",
       "\t\t\t\telement.innerHTML = '<div id=\"NetworKit_Overlay_Toolbar_Top\"><div class=\"button icon-close\" id=\"NetworKit_Overlay_Close\" /></div><div id=\"NetworKit_Overlay_Title\" /> <div id=\"NetworKit_Overlay_ImageContainer\"> <div id=\"NetworKit_Overlay_Image\" /> </div> <div id=\"NetworKit_Overlay_Toolbar_Bottom\"> <div class=\"button icon-previous\" onclick=\"NetworKit_overlayImageShift(-1)\" /> <div class=\"button icon-next\" onclick=\"NetworKit_overlayImageShift(1)\" /> <a id=\"NetworKit_Overlay_Toolbar_Bottom_Save\"><div class=\"button icon-save\" /></a> </div>';\n",
       "\t\t\t\telement.setAttribute('id', 'NetworKit_Overlay');\n",
       "\t\t\t\tdocument.body.appendChild(element);\n",
       "\t\t\t\tdocument.getElementById('NetworKit_Overlay_Close').onclick = function (e) {\n",
       "\t\t\t\t\tdocument.getElementById('NetworKit_Overlay').style.display = 'none';\n",
       "\t\t\t\t}\n",
       "\t\t\t}\n",
       "\t\t\n",
       "\t\t\t-->\n",
       "\t\t\t</script>\n",
       "\t\t"
      ]
     },
     "metadata": {},
     "output_type": "display_data"
    }
   ],
   "source": [
    "import os \n",
    "from google.cloud import storage, bigquery\n",
    "%matplotlib inline\n",
    "import matplotlib.pyplot as plt\n",
    "plt.rcParams['axes.grid'] = True\n",
    "import networkit as nk\n",
    "import pandas as pd\n",
    "pd.options.display.float_format = '${:,.2f}'.format\n",
    "from datetime import datetime\n",
    "import math\n",
    "import numpy as np\n",
    "\n",
    "credentials_path = \".gcpkey/btcgraph.json\"\n",
    "bucket_name      = \"btcgraph\"\n",
    "file_name        = \"btc\"\n",
    "target_folder    = \"graph\"\n",
    "bq_project       = \"btcgraph\"\n",
    "bq_dataset       = \"btc\"\n",
    "bq_table         = \"bitcoin_transactions\"\n",
    "\n",
    "if not os.path.isdir(f'./{target_folder}'):\n",
    "    os.makedirs(f'./{target_folder}')\n",
    "\n",
    "os.environ['GOOGLE_APPLICATION_CREDENTIALS'] = credentials_path\n",
    "\n",
    "if not os.path.isdir(\"./pictures\"):\n",
    "    os.mkdir(\"./pictures\")"
   ]
  },
  {
   "cell_type": "markdown",
   "id": "f50d0af2",
   "metadata": {},
   "source": [
    "### 2.1. Upload data to Google Big Query "
   ]
  },
  {
   "cell_type": "code",
   "execution_count": 16,
   "id": "6d52e50e",
   "metadata": {},
   "outputs": [
    {
     "name": "stdout",
     "output_type": "stream",
     "text": [
      "startfile:        \u001b[31mdeactivated\u001b[0m\n",
      "endfile:          \u001b[31mdeactivated\u001b[0m\n",
      "starttx:          \u001b[31mdeactivated\u001b[0m\n",
      "endtx:            \u001b[31mdeactivated\u001b[0m\n",
      "endts:            \u001b[31mdeactivated\u001b[0m\n",
      "blklocation:      \u001b[31mdeactivated\u001b[0m\n",
      "format:           \u001b[31mdeactivated\u001b[0m\n",
      "rawedges:         \u001b[31mdeactivated\u001b[0m\n",
      "withts:           \u001b[31mdeactivated\u001b[0m\n",
      "googlebigquery:   \u001b[32mactivated\u001b[0m\n",
      "\n",
      "Initializing...\n",
      "[########################################]\n",
      "\n",
      "raw_blk_0.csv      successfully uploaded   \n",
      "raw_blk_1.csv      successfully uploaded   \n",
      "raw_blk_2.csv      successfully uploaded   \n",
      "[###]\n",
      "-----------------------------------------\n"
     ]
    }
   ],
   "source": [
    "%run run.py -gbq 1"
   ]
  },
  {
   "cell_type": "markdown",
   "id": "1e497f35",
   "metadata": {},
   "source": [
    "### 2.2. Create indices for every address"
   ]
  },
  {
   "cell_type": "code",
   "execution_count": 7,
   "id": "507c7c4e",
   "metadata": {},
   "outputs": [],
   "source": [
    "# Code taken from the official docs\n",
    "# https://cloud.google.com/bigquery/docs/quickstarts/quickstart-client-libraries\n",
    "\n",
    "client = bigquery.Client()\n",
    "\n",
    "query = \"\"\"\n",
    "    CREATE OR REPLACE TABLE `{0}.{1}.addresses` AS\n",
    "        SELECT\n",
    "          ROW_NUMBER() OVER() - 1 id, addr FROM \n",
    "          (\n",
    "            SELECT DISTINCT addr FROM \n",
    "                (\n",
    "                SELECT `to` AS addr FROM `{0}.{1}.{2}`\n",
    "                UNION ALL\n",
    "                SELECT `from` AS addr FROM `{0}.{1}.{2}` \n",
    "                )\n",
    "              ORDER BY addr \n",
    "            ) \n",
    "            ORDER BY id\n",
    "        \"\"\".format(bq_project,bq_dataset,bq_table)\n",
    "\n",
    "query_job = client.query(query)\n",
    "query_job.result()"
   ]
  },
  {
   "cell_type": "markdown",
   "id": "a3a700b6",
   "metadata": {},
   "source": [
    "### 2.3. Build edge list with timestamps using the new indices"
   ]
  },
  {
   "cell_type": "code",
   "execution_count": 4,
   "id": "ab680d81",
   "metadata": {},
   "outputs": [
    {
     "data": {
      "text/plain": [
       "<google.cloud.bigquery.table._EmptyRowIterator at 0x7f27a864c3d0>"
      ]
     },
     "execution_count": 4,
     "metadata": {},
     "output_type": "execute_result"
    }
   ],
   "source": [
    "try: client\n",
    "except: client = bigquery.Client()\n",
    "query = \"\"\"\n",
    "        CREATE OR REPLACE TABLE `{0}.{1}.graph_with_ts` AS\n",
    "            SELECT  A.ts, B.from_id, C.to_id FROM \n",
    "            (\n",
    "              (SELECT * FROM `{0}.{1}.{2}`) A\n",
    "              LEFT JOIN \n",
    "              (SELECT id AS from_id, addr FROM `{0}.{1}.addresses`) B ON A.from = B.addr\n",
    "              LEFT JOIN \n",
    "              (SELECT id AS to_id, addr FROM `{0}.{1}.addresses`) C ON A.to = C.addr\n",
    "            )\n",
    "        \"\"\".format(bq_project,bq_dataset,bq_table)\n",
    "\n",
    "query_job = client.query(query)\n",
    "query_job.result()"
   ]
  },
  {
   "cell_type": "markdown",
   "id": "c4873ac3",
   "metadata": {},
   "source": [
    "### 2.4. Export dataset to Google Cloud Storage"
   ]
  },
  {
   "cell_type": "code",
   "execution_count": 7,
   "id": "0cac32ba",
   "metadata": {},
   "outputs": [
    {
     "ename": "NameError",
     "evalue": "name 'project' is not defined",
     "output_type": "error",
     "traceback": [
      "\u001b[0;31m---------------------------------------------------------------------------\u001b[0m",
      "\u001b[0;31mNameError\u001b[0m                                 Traceback (most recent call last)",
      "\u001b[0;32m/tmp/ipykernel_9705/3904737044.py\u001b[0m in \u001b[0;36m<module>\u001b[0;34m\u001b[0m\n\u001b[1;32m     15\u001b[0m \u001b[0;34m\u001b[0m\u001b[0m\n\u001b[1;32m     16\u001b[0m print(\n\u001b[0;32m---> 17\u001b[0;31m     \u001b[0;34m\"Exported {}:{}.{} to {}\"\u001b[0m\u001b[0;34m.\u001b[0m\u001b[0mformat\u001b[0m\u001b[0;34m(\u001b[0m\u001b[0mproject\u001b[0m\u001b[0;34m,\u001b[0m \u001b[0mdataset_id\u001b[0m\u001b[0;34m,\u001b[0m \u001b[0mtable_id\u001b[0m\u001b[0;34m,\u001b[0m \u001b[0mdestination_uri\u001b[0m\u001b[0;34m)\u001b[0m\u001b[0;34m\u001b[0m\u001b[0;34m\u001b[0m\u001b[0m\n\u001b[0m\u001b[1;32m     18\u001b[0m )\n",
      "\u001b[0;31mNameError\u001b[0m: name 'project' is not defined"
     ]
    }
   ],
   "source": [
    "# Code taken from the official docs\n",
    "# https://cloud.google.com/bigquery/docs/samples/bigquery-extract-table\n",
    "\n",
    "destination_uri = \"gs://{}/{}_*.csv\".format(bucket_name, file_name)\n",
    "dataset_ref = bigquery.DatasetReference(bq_project, bq_dataset)\n",
    "table_ref = dataset_ref.table(\"graph_with_ts\")\n",
    "\n",
    "extract_job = client.extract_table(\n",
    "    table_ref,\n",
    "    destination_uri,\n",
    "    # Location must match that of the source table.\n",
    "    location=\"US\",\n",
    ")  # API request\n",
    "extract_job.result()  # Waits for job to complete.\n",
    "\n",
    "print(\n",
    "    \"Exported {}:{}.{} to {}\".format(bq_project, bq_dataset, bq_table, destination_uri)\n",
    ")"
   ]
  },
  {
   "cell_type": "markdown",
   "id": "da305560",
   "metadata": {},
   "source": [
    "### 2.5. Download edge list from google cloud as csv (without timestamp)"
   ]
  },
  {
   "cell_type": "code",
   "execution_count": 7,
   "id": "ab1dedb2",
   "metadata": {},
   "outputs": [
    {
     "name": "stdout",
     "output_type": "stream",
     "text": [
      "wu-bitcoin.btc_000000000000.csv copied to graph/btc_000000000000.csv\n",
      "wu-bitcoin.btc_000000000001.csv copied to graph/btc_000000000001.csv\n"
     ]
    },
    {
     "ename": "KeyboardInterrupt",
     "evalue": "",
     "output_type": "error",
     "traceback": [
      "\u001b[0;31m---------------------------------------------------------------------------\u001b[0m",
      "\u001b[0;31mKeyboardInterrupt\u001b[0m                         Traceback (most recent call last)",
      "\u001b[0;32m<ipython-input-7-b575e14de982>\u001b[0m in \u001b[0;36m<module>\u001b[0;34m\u001b[0m\n\u001b[1;32m      5\u001b[0m     \u001b[0;32mif\u001b[0m \u001b[0mfn\u001b[0m\u001b[0;34m.\u001b[0m\u001b[0mstartswith\u001b[0m\u001b[0;34m(\u001b[0m\u001b[0;34m\"{}_\"\u001b[0m\u001b[0;34m.\u001b[0m\u001b[0mformat\u001b[0m\u001b[0;34m(\u001b[0m\u001b[0mfile_name\u001b[0m\u001b[0;34m)\u001b[0m\u001b[0;34m)\u001b[0m\u001b[0;34m:\u001b[0m\u001b[0;34m\u001b[0m\u001b[0;34m\u001b[0m\u001b[0m\n\u001b[1;32m      6\u001b[0m         \u001b[0mblob\u001b[0m \u001b[0;34m=\u001b[0m \u001b[0mbucket\u001b[0m\u001b[0;34m.\u001b[0m\u001b[0mblob\u001b[0m\u001b[0;34m(\u001b[0m\u001b[0mfn\u001b[0m\u001b[0;34m)\u001b[0m\u001b[0;34m\u001b[0m\u001b[0;34m\u001b[0m\u001b[0m\n\u001b[0;32m----> 7\u001b[0;31m         \u001b[0mblob\u001b[0m\u001b[0;34m.\u001b[0m\u001b[0mdownload_to_filename\u001b[0m\u001b[0;34m(\u001b[0m\u001b[0mtarget_folder\u001b[0m \u001b[0;34m+\u001b[0m \u001b[0;34m\"/\"\u001b[0m \u001b[0;34m+\u001b[0m \u001b[0mfn\u001b[0m\u001b[0;34m)\u001b[0m\u001b[0;34m\u001b[0m\u001b[0;34m\u001b[0m\u001b[0m\n\u001b[0m\u001b[1;32m      8\u001b[0m         \u001b[0mprint\u001b[0m\u001b[0;34m(\u001b[0m\u001b[0;34mf\"{bucket_name}.{fn} copied to {target_folder}/{fn}\"\u001b[0m\u001b[0;34m)\u001b[0m\u001b[0;34m\u001b[0m\u001b[0;34m\u001b[0m\u001b[0m\n",
      "\u001b[0;32m~/python/btc-graph/lib/python3.6/site-packages/google/cloud/storage/blob.py\u001b[0m in \u001b[0;36mdownload_to_filename\u001b[0;34m(self, filename, client, start, end, raw_download, if_etag_match, if_etag_not_match, if_generation_match, if_generation_not_match, if_metageneration_match, if_metageneration_not_match, timeout, checksum, retry)\u001b[0m\n\u001b[1;32m   1295\u001b[0m                     \u001b[0mtimeout\u001b[0m\u001b[0;34m=\u001b[0m\u001b[0mtimeout\u001b[0m\u001b[0;34m,\u001b[0m\u001b[0;34m\u001b[0m\u001b[0;34m\u001b[0m\u001b[0m\n\u001b[1;32m   1296\u001b[0m                     \u001b[0mchecksum\u001b[0m\u001b[0;34m=\u001b[0m\u001b[0mchecksum\u001b[0m\u001b[0;34m,\u001b[0m\u001b[0;34m\u001b[0m\u001b[0;34m\u001b[0m\u001b[0m\n\u001b[0;32m-> 1297\u001b[0;31m                     \u001b[0mretry\u001b[0m\u001b[0;34m=\u001b[0m\u001b[0mretry\u001b[0m\u001b[0;34m,\u001b[0m\u001b[0;34m\u001b[0m\u001b[0;34m\u001b[0m\u001b[0m\n\u001b[0m\u001b[1;32m   1298\u001b[0m                 )\n\u001b[1;32m   1299\u001b[0m         \u001b[0;32mexcept\u001b[0m \u001b[0mresumable_media\u001b[0m\u001b[0;34m.\u001b[0m\u001b[0mDataCorruption\u001b[0m\u001b[0;34m:\u001b[0m\u001b[0;34m\u001b[0m\u001b[0;34m\u001b[0m\u001b[0m\n",
      "\u001b[0;32m~/python/btc-graph/lib/python3.6/site-packages/google/cloud/storage/client.py\u001b[0m in \u001b[0;36mdownload_blob_to_file\u001b[0;34m(self, blob_or_uri, file_obj, start, end, raw_download, if_etag_match, if_etag_not_match, if_generation_match, if_generation_not_match, if_metageneration_match, if_metageneration_not_match, timeout, checksum, retry)\u001b[0m\n\u001b[1;32m   1121\u001b[0m                 \u001b[0mtimeout\u001b[0m\u001b[0;34m=\u001b[0m\u001b[0mtimeout\u001b[0m\u001b[0;34m,\u001b[0m\u001b[0;34m\u001b[0m\u001b[0;34m\u001b[0m\u001b[0m\n\u001b[1;32m   1122\u001b[0m                 \u001b[0mchecksum\u001b[0m\u001b[0;34m=\u001b[0m\u001b[0mchecksum\u001b[0m\u001b[0;34m,\u001b[0m\u001b[0;34m\u001b[0m\u001b[0;34m\u001b[0m\u001b[0m\n\u001b[0;32m-> 1123\u001b[0;31m                 \u001b[0mretry\u001b[0m\u001b[0;34m=\u001b[0m\u001b[0mretry\u001b[0m\u001b[0;34m,\u001b[0m\u001b[0;34m\u001b[0m\u001b[0;34m\u001b[0m\u001b[0m\n\u001b[0m\u001b[1;32m   1124\u001b[0m             )\n\u001b[1;32m   1125\u001b[0m         \u001b[0;32mexcept\u001b[0m \u001b[0mresumable_media\u001b[0m\u001b[0;34m.\u001b[0m\u001b[0mInvalidResponse\u001b[0m \u001b[0;32mas\u001b[0m \u001b[0mexc\u001b[0m\u001b[0;34m:\u001b[0m\u001b[0;34m\u001b[0m\u001b[0;34m\u001b[0m\u001b[0m\n",
      "\u001b[0;32m~/python/btc-graph/lib/python3.6/site-packages/google/cloud/storage/blob.py\u001b[0m in \u001b[0;36m_do_download\u001b[0;34m(self, transport, file_obj, download_url, headers, start, end, raw_download, timeout, checksum, retry)\u001b[0m\n\u001b[1;32m   1001\u001b[0m             )\n\u001b[1;32m   1002\u001b[0m             \u001b[0mdownload\u001b[0m\u001b[0;34m.\u001b[0m\u001b[0m_retry_strategy\u001b[0m \u001b[0;34m=\u001b[0m \u001b[0mretry_strategy\u001b[0m\u001b[0;34m\u001b[0m\u001b[0;34m\u001b[0m\u001b[0m\n\u001b[0;32m-> 1003\u001b[0;31m             \u001b[0mresponse\u001b[0m \u001b[0;34m=\u001b[0m \u001b[0mdownload\u001b[0m\u001b[0;34m.\u001b[0m\u001b[0mconsume\u001b[0m\u001b[0;34m(\u001b[0m\u001b[0mtransport\u001b[0m\u001b[0;34m,\u001b[0m \u001b[0mtimeout\u001b[0m\u001b[0;34m=\u001b[0m\u001b[0mtimeout\u001b[0m\u001b[0;34m)\u001b[0m\u001b[0;34m\u001b[0m\u001b[0;34m\u001b[0m\u001b[0m\n\u001b[0m\u001b[1;32m   1004\u001b[0m             \u001b[0mself\u001b[0m\u001b[0;34m.\u001b[0m\u001b[0m_extract_headers_from_download\u001b[0m\u001b[0;34m(\u001b[0m\u001b[0mresponse\u001b[0m\u001b[0;34m)\u001b[0m\u001b[0;34m\u001b[0m\u001b[0;34m\u001b[0m\u001b[0m\n\u001b[1;32m   1005\u001b[0m         \u001b[0;32melse\u001b[0m\u001b[0;34m:\u001b[0m\u001b[0;34m\u001b[0m\u001b[0;34m\u001b[0m\u001b[0m\n",
      "\u001b[0;32m~/python/btc-graph/lib/python3.6/site-packages/google/resumable_media/requests/download.py\u001b[0m in \u001b[0;36mconsume\u001b[0;34m(self, transport, timeout)\u001b[0m\n\u001b[1;32m    173\u001b[0m \u001b[0;34m\u001b[0m\u001b[0m\n\u001b[1;32m    174\u001b[0m         return _helpers.wait_and_retry(\n\u001b[0;32m--> 175\u001b[0;31m             \u001b[0mretriable_request\u001b[0m\u001b[0;34m,\u001b[0m \u001b[0mself\u001b[0m\u001b[0;34m.\u001b[0m\u001b[0m_get_status_code\u001b[0m\u001b[0;34m,\u001b[0m \u001b[0mself\u001b[0m\u001b[0;34m.\u001b[0m\u001b[0m_retry_strategy\u001b[0m\u001b[0;34m\u001b[0m\u001b[0;34m\u001b[0m\u001b[0m\n\u001b[0m\u001b[1;32m    176\u001b[0m         )\n\u001b[1;32m    177\u001b[0m \u001b[0;34m\u001b[0m\u001b[0m\n",
      "\u001b[0;32m~/python/btc-graph/lib/python3.6/site-packages/google/resumable_media/_helpers.py\u001b[0m in \u001b[0;36mwait_and_retry\u001b[0;34m(func, get_status_code, retry_strategy)\u001b[0m\n\u001b[1;32m    180\u001b[0m         \u001b[0merror\u001b[0m \u001b[0;34m=\u001b[0m \u001b[0;32mNone\u001b[0m\u001b[0;34m\u001b[0m\u001b[0;34m\u001b[0m\u001b[0m\n\u001b[1;32m    181\u001b[0m         \u001b[0;32mtry\u001b[0m\u001b[0;34m:\u001b[0m\u001b[0;34m\u001b[0m\u001b[0;34m\u001b[0m\u001b[0m\n\u001b[0;32m--> 182\u001b[0;31m             \u001b[0mresponse\u001b[0m \u001b[0;34m=\u001b[0m \u001b[0mfunc\u001b[0m\u001b[0;34m(\u001b[0m\u001b[0;34m)\u001b[0m\u001b[0;34m\u001b[0m\u001b[0;34m\u001b[0m\u001b[0m\n\u001b[0m\u001b[1;32m    183\u001b[0m         \u001b[0;32mexcept\u001b[0m \u001b[0mconnection_error_exceptions\u001b[0m \u001b[0;32mas\u001b[0m \u001b[0me\u001b[0m\u001b[0;34m:\u001b[0m\u001b[0;34m\u001b[0m\u001b[0;34m\u001b[0m\u001b[0m\n\u001b[1;32m    184\u001b[0m             \u001b[0merror\u001b[0m \u001b[0;34m=\u001b[0m \u001b[0me\u001b[0m  \u001b[0;31m# Fall through to retry, if there are retries left.\u001b[0m\u001b[0;34m\u001b[0m\u001b[0;34m\u001b[0m\u001b[0m\n",
      "\u001b[0;32m~/python/btc-graph/lib/python3.6/site-packages/google/resumable_media/requests/download.py\u001b[0m in \u001b[0;36mretriable_request\u001b[0;34m()\u001b[0m\n\u001b[1;32m    168\u001b[0m \u001b[0;34m\u001b[0m\u001b[0m\n\u001b[1;32m    169\u001b[0m             \u001b[0;32mif\u001b[0m \u001b[0mself\u001b[0m\u001b[0;34m.\u001b[0m\u001b[0m_stream\u001b[0m \u001b[0;32mis\u001b[0m \u001b[0;32mnot\u001b[0m \u001b[0;32mNone\u001b[0m\u001b[0;34m:\u001b[0m\u001b[0;34m\u001b[0m\u001b[0;34m\u001b[0m\u001b[0m\n\u001b[0;32m--> 170\u001b[0;31m                 \u001b[0mself\u001b[0m\u001b[0;34m.\u001b[0m\u001b[0m_write_to_stream\u001b[0m\u001b[0;34m(\u001b[0m\u001b[0mresult\u001b[0m\u001b[0;34m)\u001b[0m\u001b[0;34m\u001b[0m\u001b[0;34m\u001b[0m\u001b[0m\n\u001b[0m\u001b[1;32m    171\u001b[0m \u001b[0;34m\u001b[0m\u001b[0m\n\u001b[1;32m    172\u001b[0m             \u001b[0;32mreturn\u001b[0m \u001b[0mresult\u001b[0m\u001b[0;34m\u001b[0m\u001b[0;34m\u001b[0m\u001b[0m\n",
      "\u001b[0;32m~/python/btc-graph/lib/python3.6/site-packages/google/resumable_media/requests/download.py\u001b[0m in \u001b[0;36m_write_to_stream\u001b[0;34m(self, response)\u001b[0m\n\u001b[1;32m    103\u001b[0m                 \u001b[0mchunk_size\u001b[0m\u001b[0;34m=\u001b[0m\u001b[0m_request_helpers\u001b[0m\u001b[0;34m.\u001b[0m\u001b[0m_SINGLE_GET_CHUNK_SIZE\u001b[0m\u001b[0;34m,\u001b[0m \u001b[0mdecode_unicode\u001b[0m\u001b[0;34m=\u001b[0m\u001b[0;32mFalse\u001b[0m\u001b[0;34m\u001b[0m\u001b[0;34m\u001b[0m\u001b[0m\n\u001b[1;32m    104\u001b[0m             )\n\u001b[0;32m--> 105\u001b[0;31m             \u001b[0;32mfor\u001b[0m \u001b[0mchunk\u001b[0m \u001b[0;32min\u001b[0m \u001b[0mbody_iter\u001b[0m\u001b[0;34m:\u001b[0m\u001b[0;34m\u001b[0m\u001b[0;34m\u001b[0m\u001b[0m\n\u001b[0m\u001b[1;32m    106\u001b[0m                 \u001b[0mself\u001b[0m\u001b[0;34m.\u001b[0m\u001b[0m_stream\u001b[0m\u001b[0;34m.\u001b[0m\u001b[0mwrite\u001b[0m\u001b[0;34m(\u001b[0m\u001b[0mchunk\u001b[0m\u001b[0;34m)\u001b[0m\u001b[0;34m\u001b[0m\u001b[0;34m\u001b[0m\u001b[0m\n\u001b[1;32m    107\u001b[0m                 \u001b[0mlocal_checksum_object\u001b[0m\u001b[0;34m.\u001b[0m\u001b[0mupdate\u001b[0m\u001b[0;34m(\u001b[0m\u001b[0mchunk\u001b[0m\u001b[0;34m)\u001b[0m\u001b[0;34m\u001b[0m\u001b[0;34m\u001b[0m\u001b[0m\n",
      "\u001b[0;32m~/python/btc-graph/lib/python3.6/site-packages/requests/models.py\u001b[0m in \u001b[0;36mgenerate\u001b[0;34m()\u001b[0m\n\u001b[1;32m    756\u001b[0m             \u001b[0;32mif\u001b[0m \u001b[0mhasattr\u001b[0m\u001b[0;34m(\u001b[0m\u001b[0mself\u001b[0m\u001b[0;34m.\u001b[0m\u001b[0mraw\u001b[0m\u001b[0;34m,\u001b[0m \u001b[0;34m'stream'\u001b[0m\u001b[0;34m)\u001b[0m\u001b[0;34m:\u001b[0m\u001b[0;34m\u001b[0m\u001b[0;34m\u001b[0m\u001b[0m\n\u001b[1;32m    757\u001b[0m                 \u001b[0;32mtry\u001b[0m\u001b[0;34m:\u001b[0m\u001b[0;34m\u001b[0m\u001b[0;34m\u001b[0m\u001b[0m\n\u001b[0;32m--> 758\u001b[0;31m                     \u001b[0;32mfor\u001b[0m \u001b[0mchunk\u001b[0m \u001b[0;32min\u001b[0m \u001b[0mself\u001b[0m\u001b[0;34m.\u001b[0m\u001b[0mraw\u001b[0m\u001b[0;34m.\u001b[0m\u001b[0mstream\u001b[0m\u001b[0;34m(\u001b[0m\u001b[0mchunk_size\u001b[0m\u001b[0;34m,\u001b[0m \u001b[0mdecode_content\u001b[0m\u001b[0;34m=\u001b[0m\u001b[0;32mTrue\u001b[0m\u001b[0;34m)\u001b[0m\u001b[0;34m:\u001b[0m\u001b[0;34m\u001b[0m\u001b[0;34m\u001b[0m\u001b[0m\n\u001b[0m\u001b[1;32m    759\u001b[0m                         \u001b[0;32myield\u001b[0m \u001b[0mchunk\u001b[0m\u001b[0;34m\u001b[0m\u001b[0;34m\u001b[0m\u001b[0m\n\u001b[1;32m    760\u001b[0m                 \u001b[0;32mexcept\u001b[0m \u001b[0mProtocolError\u001b[0m \u001b[0;32mas\u001b[0m \u001b[0me\u001b[0m\u001b[0;34m:\u001b[0m\u001b[0;34m\u001b[0m\u001b[0;34m\u001b[0m\u001b[0m\n",
      "\u001b[0;32m~/python/btc-graph/lib/python3.6/site-packages/urllib3/response.py\u001b[0m in \u001b[0;36mstream\u001b[0;34m(self, amt, decode_content)\u001b[0m\n\u001b[1;32m    574\u001b[0m         \u001b[0;32melse\u001b[0m\u001b[0;34m:\u001b[0m\u001b[0;34m\u001b[0m\u001b[0;34m\u001b[0m\u001b[0m\n\u001b[1;32m    575\u001b[0m             \u001b[0;32mwhile\u001b[0m \u001b[0;32mnot\u001b[0m \u001b[0mis_fp_closed\u001b[0m\u001b[0;34m(\u001b[0m\u001b[0mself\u001b[0m\u001b[0;34m.\u001b[0m\u001b[0m_fp\u001b[0m\u001b[0;34m)\u001b[0m\u001b[0;34m:\u001b[0m\u001b[0;34m\u001b[0m\u001b[0;34m\u001b[0m\u001b[0m\n\u001b[0;32m--> 576\u001b[0;31m                 \u001b[0mdata\u001b[0m \u001b[0;34m=\u001b[0m \u001b[0mself\u001b[0m\u001b[0;34m.\u001b[0m\u001b[0mread\u001b[0m\u001b[0;34m(\u001b[0m\u001b[0mamt\u001b[0m\u001b[0;34m=\u001b[0m\u001b[0mamt\u001b[0m\u001b[0;34m,\u001b[0m \u001b[0mdecode_content\u001b[0m\u001b[0;34m=\u001b[0m\u001b[0mdecode_content\u001b[0m\u001b[0;34m)\u001b[0m\u001b[0;34m\u001b[0m\u001b[0;34m\u001b[0m\u001b[0m\n\u001b[0m\u001b[1;32m    577\u001b[0m \u001b[0;34m\u001b[0m\u001b[0m\n\u001b[1;32m    578\u001b[0m                 \u001b[0;32mif\u001b[0m \u001b[0mdata\u001b[0m\u001b[0;34m:\u001b[0m\u001b[0;34m\u001b[0m\u001b[0;34m\u001b[0m\u001b[0m\n",
      "\u001b[0;32m~/python/btc-graph/lib/python3.6/site-packages/urllib3/response.py\u001b[0m in \u001b[0;36mread\u001b[0;34m(self, amt, decode_content, cache_content)\u001b[0m\n\u001b[1;32m    517\u001b[0m             \u001b[0;32melse\u001b[0m\u001b[0;34m:\u001b[0m\u001b[0;34m\u001b[0m\u001b[0;34m\u001b[0m\u001b[0m\n\u001b[1;32m    518\u001b[0m                 \u001b[0mcache_content\u001b[0m \u001b[0;34m=\u001b[0m \u001b[0;32mFalse\u001b[0m\u001b[0;34m\u001b[0m\u001b[0;34m\u001b[0m\u001b[0m\n\u001b[0;32m--> 519\u001b[0;31m                 \u001b[0mdata\u001b[0m \u001b[0;34m=\u001b[0m \u001b[0mself\u001b[0m\u001b[0;34m.\u001b[0m\u001b[0m_fp\u001b[0m\u001b[0;34m.\u001b[0m\u001b[0mread\u001b[0m\u001b[0;34m(\u001b[0m\u001b[0mamt\u001b[0m\u001b[0;34m)\u001b[0m \u001b[0;32mif\u001b[0m \u001b[0;32mnot\u001b[0m \u001b[0mfp_closed\u001b[0m \u001b[0;32melse\u001b[0m \u001b[0;34mb\"\"\u001b[0m\u001b[0;34m\u001b[0m\u001b[0;34m\u001b[0m\u001b[0m\n\u001b[0m\u001b[1;32m    520\u001b[0m                 if (\n\u001b[1;32m    521\u001b[0m                     \u001b[0mamt\u001b[0m \u001b[0;34m!=\u001b[0m \u001b[0;36m0\u001b[0m \u001b[0;32mand\u001b[0m \u001b[0;32mnot\u001b[0m \u001b[0mdata\u001b[0m\u001b[0;34m\u001b[0m\u001b[0;34m\u001b[0m\u001b[0m\n",
      "\u001b[0;32m/usr/lib/python3.6/http/client.py\u001b[0m in \u001b[0;36mread\u001b[0;34m(self, amt)\u001b[0m\n\u001b[1;32m    461\u001b[0m             \u001b[0;31m# Amount is given, implement using readinto\u001b[0m\u001b[0;34m\u001b[0m\u001b[0;34m\u001b[0m\u001b[0;34m\u001b[0m\u001b[0m\n\u001b[1;32m    462\u001b[0m             \u001b[0mb\u001b[0m \u001b[0;34m=\u001b[0m \u001b[0mbytearray\u001b[0m\u001b[0;34m(\u001b[0m\u001b[0mamt\u001b[0m\u001b[0;34m)\u001b[0m\u001b[0;34m\u001b[0m\u001b[0;34m\u001b[0m\u001b[0m\n\u001b[0;32m--> 463\u001b[0;31m             \u001b[0mn\u001b[0m \u001b[0;34m=\u001b[0m \u001b[0mself\u001b[0m\u001b[0;34m.\u001b[0m\u001b[0mreadinto\u001b[0m\u001b[0;34m(\u001b[0m\u001b[0mb\u001b[0m\u001b[0;34m)\u001b[0m\u001b[0;34m\u001b[0m\u001b[0;34m\u001b[0m\u001b[0m\n\u001b[0m\u001b[1;32m    464\u001b[0m             \u001b[0;32mreturn\u001b[0m \u001b[0mmemoryview\u001b[0m\u001b[0;34m(\u001b[0m\u001b[0mb\u001b[0m\u001b[0;34m)\u001b[0m\u001b[0;34m[\u001b[0m\u001b[0;34m:\u001b[0m\u001b[0mn\u001b[0m\u001b[0;34m]\u001b[0m\u001b[0;34m.\u001b[0m\u001b[0mtobytes\u001b[0m\u001b[0;34m(\u001b[0m\u001b[0;34m)\u001b[0m\u001b[0;34m\u001b[0m\u001b[0;34m\u001b[0m\u001b[0m\n\u001b[1;32m    465\u001b[0m         \u001b[0;32melse\u001b[0m\u001b[0;34m:\u001b[0m\u001b[0;34m\u001b[0m\u001b[0;34m\u001b[0m\u001b[0m\n",
      "\u001b[0;32m/usr/lib/python3.6/http/client.py\u001b[0m in \u001b[0;36mreadinto\u001b[0;34m(self, b)\u001b[0m\n\u001b[1;32m    505\u001b[0m         \u001b[0;31m# connection, and the user is reading more bytes than will be provided\u001b[0m\u001b[0;34m\u001b[0m\u001b[0;34m\u001b[0m\u001b[0;34m\u001b[0m\u001b[0m\n\u001b[1;32m    506\u001b[0m         \u001b[0;31m# (for example, reading in 1k chunks)\u001b[0m\u001b[0;34m\u001b[0m\u001b[0;34m\u001b[0m\u001b[0;34m\u001b[0m\u001b[0m\n\u001b[0;32m--> 507\u001b[0;31m         \u001b[0mn\u001b[0m \u001b[0;34m=\u001b[0m \u001b[0mself\u001b[0m\u001b[0;34m.\u001b[0m\u001b[0mfp\u001b[0m\u001b[0;34m.\u001b[0m\u001b[0mreadinto\u001b[0m\u001b[0;34m(\u001b[0m\u001b[0mb\u001b[0m\u001b[0;34m)\u001b[0m\u001b[0;34m\u001b[0m\u001b[0;34m\u001b[0m\u001b[0m\n\u001b[0m\u001b[1;32m    508\u001b[0m         \u001b[0;32mif\u001b[0m \u001b[0;32mnot\u001b[0m \u001b[0mn\u001b[0m \u001b[0;32mand\u001b[0m \u001b[0mb\u001b[0m\u001b[0;34m:\u001b[0m\u001b[0;34m\u001b[0m\u001b[0;34m\u001b[0m\u001b[0m\n\u001b[1;32m    509\u001b[0m             \u001b[0;31m# Ideally, we would raise IncompleteRead if the content-length\u001b[0m\u001b[0;34m\u001b[0m\u001b[0;34m\u001b[0m\u001b[0;34m\u001b[0m\u001b[0m\n",
      "\u001b[0;32m/usr/lib/python3.6/socket.py\u001b[0m in \u001b[0;36mreadinto\u001b[0;34m(self, b)\u001b[0m\n\u001b[1;32m    584\u001b[0m         \u001b[0;32mwhile\u001b[0m \u001b[0;32mTrue\u001b[0m\u001b[0;34m:\u001b[0m\u001b[0;34m\u001b[0m\u001b[0;34m\u001b[0m\u001b[0m\n\u001b[1;32m    585\u001b[0m             \u001b[0;32mtry\u001b[0m\u001b[0;34m:\u001b[0m\u001b[0;34m\u001b[0m\u001b[0;34m\u001b[0m\u001b[0m\n\u001b[0;32m--> 586\u001b[0;31m                 \u001b[0;32mreturn\u001b[0m \u001b[0mself\u001b[0m\u001b[0;34m.\u001b[0m\u001b[0m_sock\u001b[0m\u001b[0;34m.\u001b[0m\u001b[0mrecv_into\u001b[0m\u001b[0;34m(\u001b[0m\u001b[0mb\u001b[0m\u001b[0;34m)\u001b[0m\u001b[0;34m\u001b[0m\u001b[0;34m\u001b[0m\u001b[0m\n\u001b[0m\u001b[1;32m    587\u001b[0m             \u001b[0;32mexcept\u001b[0m \u001b[0mtimeout\u001b[0m\u001b[0;34m:\u001b[0m\u001b[0;34m\u001b[0m\u001b[0;34m\u001b[0m\u001b[0m\n\u001b[1;32m    588\u001b[0m                 \u001b[0mself\u001b[0m\u001b[0;34m.\u001b[0m\u001b[0m_timeout_occurred\u001b[0m \u001b[0;34m=\u001b[0m \u001b[0;32mTrue\u001b[0m\u001b[0;34m\u001b[0m\u001b[0;34m\u001b[0m\u001b[0m\n",
      "\u001b[0;32m/usr/lib/python3.6/ssl.py\u001b[0m in \u001b[0;36mrecv_into\u001b[0;34m(self, buffer, nbytes, flags)\u001b[0m\n\u001b[1;32m   1010\u001b[0m                   \u001b[0;34m\"non-zero flags not allowed in calls to recv_into() on %s\"\u001b[0m \u001b[0;34m%\u001b[0m\u001b[0;34m\u001b[0m\u001b[0;34m\u001b[0m\u001b[0m\n\u001b[1;32m   1011\u001b[0m                   self.__class__)\n\u001b[0;32m-> 1012\u001b[0;31m             \u001b[0;32mreturn\u001b[0m \u001b[0mself\u001b[0m\u001b[0;34m.\u001b[0m\u001b[0mread\u001b[0m\u001b[0;34m(\u001b[0m\u001b[0mnbytes\u001b[0m\u001b[0;34m,\u001b[0m \u001b[0mbuffer\u001b[0m\u001b[0;34m)\u001b[0m\u001b[0;34m\u001b[0m\u001b[0;34m\u001b[0m\u001b[0m\n\u001b[0m\u001b[1;32m   1013\u001b[0m         \u001b[0;32melse\u001b[0m\u001b[0;34m:\u001b[0m\u001b[0;34m\u001b[0m\u001b[0;34m\u001b[0m\u001b[0m\n\u001b[1;32m   1014\u001b[0m             \u001b[0;32mreturn\u001b[0m \u001b[0msocket\u001b[0m\u001b[0;34m.\u001b[0m\u001b[0mrecv_into\u001b[0m\u001b[0;34m(\u001b[0m\u001b[0mself\u001b[0m\u001b[0;34m,\u001b[0m \u001b[0mbuffer\u001b[0m\u001b[0;34m,\u001b[0m \u001b[0mnbytes\u001b[0m\u001b[0;34m,\u001b[0m \u001b[0mflags\u001b[0m\u001b[0;34m)\u001b[0m\u001b[0;34m\u001b[0m\u001b[0;34m\u001b[0m\u001b[0m\n",
      "\u001b[0;32m/usr/lib/python3.6/ssl.py\u001b[0m in \u001b[0;36mread\u001b[0;34m(self, len, buffer)\u001b[0m\n\u001b[1;32m    872\u001b[0m             \u001b[0;32mraise\u001b[0m \u001b[0mValueError\u001b[0m\u001b[0;34m(\u001b[0m\u001b[0;34m\"Read on closed or unwrapped SSL socket.\"\u001b[0m\u001b[0;34m)\u001b[0m\u001b[0;34m\u001b[0m\u001b[0;34m\u001b[0m\u001b[0m\n\u001b[1;32m    873\u001b[0m         \u001b[0;32mtry\u001b[0m\u001b[0;34m:\u001b[0m\u001b[0;34m\u001b[0m\u001b[0;34m\u001b[0m\u001b[0m\n\u001b[0;32m--> 874\u001b[0;31m             \u001b[0;32mreturn\u001b[0m \u001b[0mself\u001b[0m\u001b[0;34m.\u001b[0m\u001b[0m_sslobj\u001b[0m\u001b[0;34m.\u001b[0m\u001b[0mread\u001b[0m\u001b[0;34m(\u001b[0m\u001b[0mlen\u001b[0m\u001b[0;34m,\u001b[0m \u001b[0mbuffer\u001b[0m\u001b[0;34m)\u001b[0m\u001b[0;34m\u001b[0m\u001b[0;34m\u001b[0m\u001b[0m\n\u001b[0m\u001b[1;32m    875\u001b[0m         \u001b[0;32mexcept\u001b[0m \u001b[0mSSLError\u001b[0m \u001b[0;32mas\u001b[0m \u001b[0mx\u001b[0m\u001b[0;34m:\u001b[0m\u001b[0;34m\u001b[0m\u001b[0;34m\u001b[0m\u001b[0m\n\u001b[1;32m    876\u001b[0m             \u001b[0;32mif\u001b[0m \u001b[0mx\u001b[0m\u001b[0;34m.\u001b[0m\u001b[0margs\u001b[0m\u001b[0;34m[\u001b[0m\u001b[0;36m0\u001b[0m\u001b[0;34m]\u001b[0m \u001b[0;34m==\u001b[0m \u001b[0mSSL_ERROR_EOF\u001b[0m \u001b[0;32mand\u001b[0m \u001b[0mself\u001b[0m\u001b[0;34m.\u001b[0m\u001b[0msuppress_ragged_eofs\u001b[0m\u001b[0;34m:\u001b[0m\u001b[0;34m\u001b[0m\u001b[0;34m\u001b[0m\u001b[0m\n",
      "\u001b[0;32m/usr/lib/python3.6/ssl.py\u001b[0m in \u001b[0;36mread\u001b[0;34m(self, len, buffer)\u001b[0m\n\u001b[1;32m    629\u001b[0m         \"\"\"\n\u001b[1;32m    630\u001b[0m         \u001b[0;32mif\u001b[0m \u001b[0mbuffer\u001b[0m \u001b[0;32mis\u001b[0m \u001b[0;32mnot\u001b[0m \u001b[0;32mNone\u001b[0m\u001b[0;34m:\u001b[0m\u001b[0;34m\u001b[0m\u001b[0;34m\u001b[0m\u001b[0m\n\u001b[0;32m--> 631\u001b[0;31m             \u001b[0mv\u001b[0m \u001b[0;34m=\u001b[0m \u001b[0mself\u001b[0m\u001b[0;34m.\u001b[0m\u001b[0m_sslobj\u001b[0m\u001b[0;34m.\u001b[0m\u001b[0mread\u001b[0m\u001b[0;34m(\u001b[0m\u001b[0mlen\u001b[0m\u001b[0;34m,\u001b[0m \u001b[0mbuffer\u001b[0m\u001b[0;34m)\u001b[0m\u001b[0;34m\u001b[0m\u001b[0;34m\u001b[0m\u001b[0m\n\u001b[0m\u001b[1;32m    632\u001b[0m         \u001b[0;32melse\u001b[0m\u001b[0;34m:\u001b[0m\u001b[0;34m\u001b[0m\u001b[0;34m\u001b[0m\u001b[0m\n\u001b[1;32m    633\u001b[0m             \u001b[0mv\u001b[0m \u001b[0;34m=\u001b[0m \u001b[0mself\u001b[0m\u001b[0;34m.\u001b[0m\u001b[0m_sslobj\u001b[0m\u001b[0;34m.\u001b[0m\u001b[0mread\u001b[0m\u001b[0;34m(\u001b[0m\u001b[0mlen\u001b[0m\u001b[0;34m)\u001b[0m\u001b[0;34m\u001b[0m\u001b[0;34m\u001b[0m\u001b[0m\n",
      "\u001b[0;31mKeyboardInterrupt\u001b[0m: "
     ]
    }
   ],
   "source": [
    "storage_client = storage.Client()\n",
    "bucket = storage_client.bucket(bucket_name)\n",
    "file_names = map(lambda x: str(x).split(\",\")[1].strip(), list(bucket.list_blobs()))\n",
    "for fn in file_names:\n",
    "    if fn.startswith(\"{}_\".format(file_name)):\n",
    "        blob = bucket.blob(fn)\n",
    "        blob.download_to_filename(target_folder + \"/\" + fn)\n",
    "        print(f\"{bucket_name}.{fn} copied to {target_folder}/{fn}\")"
   ]
  },
  {
   "cell_type": "markdown",
   "id": "e1e18a91",
   "metadata": {},
   "source": [
    "***"
   ]
  },
  {
   "cell_type": "markdown",
   "id": "908afbbb",
   "metadata": {},
   "source": [
    "## 3. Build Graph using NetworKit"
   ]
  },
  {
   "cell_type": "code",
   "execution_count": 4,
   "id": "e0a0c22d",
   "metadata": {},
   "outputs": [
    {
     "name": "stdout",
     "output_type": "stream",
     "text": [
      "-------\n",
      "0\n",
      "1\n",
      "2\n",
      "3\n",
      "4\n",
      "5\n",
      "6\n",
      "7\n",
      "8\n",
      "9\n",
      "10\n",
      "11\n",
      "12\n",
      "13\n",
      "14\n",
      "15\n",
      "16\n",
      "17\n",
      "18\n",
      "19\n",
      "20\n"
     ]
    }
   ],
   "source": [
    "target_folder = \"testfolder\"\n",
    "file_location = target_folder\n",
    "files = os.listdir(file_location)\n",
    "files.remove(\"output\")\n",
    "G = graph.Graph() #graphio.EdgeListReader(',', 0, directed=True).read(file_location+\"/\"+files[0])\n",
    "print(\"-------\")\n",
    "for file in range(21):\n",
    "    print(file)\n",
    "    #nr = int(re.search(\"[1-9].[0-9]+\", file).group(0))\n",
    "    with open(file_location+\"/\"+\"testf\"+str(file)+\".csv\", \"r\") as csvfile:\n",
    "        spamreader = csv.reader(csvfile)\n",
    "        for u, v in spamreader:\n",
    "            G.addEdge(int(u), int(v), addMissing=True)\n",
    "            \n"
   ]
  },
  {
   "cell_type": "code",
   "execution_count": 6,
   "id": "7bf67427",
   "metadata": {},
   "outputs": [
    {
     "data": {
      "text/plain": [
       "210789327"
      ]
     },
     "execution_count": 6,
     "metadata": {},
     "output_type": "execute_result"
    }
   ],
   "source": [
    "G.numberOfEdges()"
   ]
  },
  {
   "cell_type": "code",
   "execution_count": 8,
   "id": "7b1d3792",
   "metadata": {},
   "outputs": [],
   "source": [
    "from networkit import *\n",
    "import csv\n",
    "import pandas as pd\n",
    "import matplotlib.pyplot as plt\n",
    "%matplotlib inline"
   ]
  },
  {
   "cell_type": "code",
   "execution_count": 41,
   "id": "b290e945",
   "metadata": {},
   "outputs": [
    {
     "ename": "KeyboardInterrupt",
     "evalue": "",
     "output_type": "error",
     "traceback": [
      "\u001b[0;31m---------------------------------------------------------------------------\u001b[0m",
      "\u001b[0;31mKeyboardInterrupt\u001b[0m                         Traceback (most recent call last)",
      "\u001b[0;32m/tmp/ipykernel_15554/3227228752.py\u001b[0m in \u001b[0;36m<module>\u001b[0;34m\u001b[0m\n\u001b[1;32m      5\u001b[0m \u001b[0;34m\u001b[0m\u001b[0m\n\u001b[1;32m      6\u001b[0m         \u001b[0;32mfor\u001b[0m \u001b[0mi\u001b[0m \u001b[0;32min\u001b[0m \u001b[0mrange\u001b[0m\u001b[0;34m(\u001b[0m\u001b[0mint\u001b[0m\u001b[0;34m(\u001b[0m\u001b[0;34m\"{}0000000\"\u001b[0m\u001b[0;34m.\u001b[0m\u001b[0mformat\u001b[0m\u001b[0;34m(\u001b[0m\u001b[0mj\u001b[0m\u001b[0;34m)\u001b[0m\u001b[0;34m)\u001b[0m\u001b[0;34m-\u001b[0m\u001b[0;36m10000000\u001b[0m\u001b[0;34m,\u001b[0m\u001b[0mint\u001b[0m\u001b[0;34m(\u001b[0m\u001b[0;34m\"{}0000000\"\u001b[0m\u001b[0;34m.\u001b[0m\u001b[0mformat\u001b[0m\u001b[0;34m(\u001b[0m\u001b[0mj\u001b[0m\u001b[0;34m)\u001b[0m\u001b[0;34m)\u001b[0m\u001b[0;34m)\u001b[0m\u001b[0;34m:\u001b[0m\u001b[0;34m\u001b[0m\u001b[0;34m\u001b[0m\u001b[0m\n\u001b[0;32m----> 7\u001b[0;31m             \u001b[0mspamwriter\u001b[0m\u001b[0;34m.\u001b[0m\u001b[0mwriterow\u001b[0m\u001b[0;34m(\u001b[0m\u001b[0;34m[\u001b[0m\u001b[0mi\u001b[0m\u001b[0;34m,\u001b[0m \u001b[0mi\u001b[0m\u001b[0;34m+\u001b[0m\u001b[0;36m1\u001b[0m\u001b[0;34m]\u001b[0m\u001b[0;34m)\u001b[0m\u001b[0;34m\u001b[0m\u001b[0;34m\u001b[0m\u001b[0m\n\u001b[0m\u001b[1;32m      8\u001b[0m     \u001b[0mcounter\u001b[0m \u001b[0;34m+=\u001b[0m \u001b[0;36m1\u001b[0m\u001b[0;34m\u001b[0m\u001b[0;34m\u001b[0m\u001b[0m\n\u001b[1;32m      9\u001b[0m \u001b[0;34m\u001b[0m\u001b[0m\n",
      "\u001b[0;31mKeyboardInterrupt\u001b[0m: "
     ]
    }
   ],
   "source": [
    "counter = 2\n",
    "for j in range(12,35):\n",
    "    with open(\"testfolder/testf{}.csv\".format(counter), \"w\") as csvfile:\n",
    "        spamwriter = csv.writer(csvfile)\n",
    "        \n",
    "        for i in range(int(\"{}0000000\".format(j))-10000000,int(\"{}0000000\".format(j))):\n",
    "            spamwriter.writerow([i, i+1])\n",
    "    counter += 1\n",
    "        "
   ]
  },
  {
   "cell_type": "code",
   "execution_count": null,
   "id": "b0490fb7",
   "metadata": {},
   "outputs": [],
   "source": []
  },
  {
   "cell_type": "code",
   "execution_count": null,
   "id": "7d386cfc",
   "metadata": {},
   "outputs": [],
   "source": []
  },
  {
   "cell_type": "code",
   "execution_count": null,
   "id": "8f954463",
   "metadata": {},
   "outputs": [],
   "source": []
  },
  {
   "cell_type": "code",
   "execution_count": 25,
   "id": "0abae9f7",
   "metadata": {},
   "outputs": [],
   "source": [
    "G = graph.Graph()\n",
    "G.addEdge??"
   ]
  },
  {
   "cell_type": "markdown",
   "id": "78db1afb",
   "metadata": {},
   "source": [
    "***"
   ]
  },
  {
   "cell_type": "markdown",
   "id": "4a8b4a25",
   "metadata": {},
   "source": [
    "## 4. Analysis"
   ]
  },
  {
   "cell_type": "code",
   "execution_count": null,
   "id": "7bbc4ee0",
   "metadata": {},
   "outputs": [],
   "source": []
  },
  {
   "cell_type": "code",
   "execution_count": 2,
   "id": "d37f276e",
   "metadata": {},
   "outputs": [
    {
     "ename": "NameError",
     "evalue": "name 'df_blkfiles' is not defined",
     "output_type": "error",
     "traceback": [
      "\u001b[0;31m---------------------------------------------------------------------------\u001b[0m",
      "\u001b[0;31mNameError\u001b[0m                                 Traceback (most recent call last)",
      "\u001b[0;32m/tmp/ipykernel_35165/3623419722.py\u001b[0m in \u001b[0;36m<module>\u001b[0;34m\u001b[0m\n\u001b[1;32m     67\u001b[0m \u001b[0;31m#df_blkfiles = pd.read_gbq(query, bq_project)\u001b[0m\u001b[0;34m\u001b[0m\u001b[0;34m\u001b[0m\u001b[0;34m\u001b[0m\u001b[0m\n\u001b[1;32m     68\u001b[0m \u001b[0;31m# Add column with datetime object (from ts)\u001b[0m\u001b[0;34m\u001b[0m\u001b[0;34m\u001b[0m\u001b[0;34m\u001b[0m\u001b[0m\n\u001b[0;32m---> 69\u001b[0;31m \u001b[0mdf_blkfiles\u001b[0m\u001b[0;34m[\u001b[0m\u001b[0;34m\"timestamp\"\u001b[0m\u001b[0;34m]\u001b[0m \u001b[0;34m=\u001b[0m \u001b[0mlist\u001b[0m\u001b[0;34m(\u001b[0m\u001b[0mmap\u001b[0m\u001b[0;34m(\u001b[0m\u001b[0;32mlambda\u001b[0m \u001b[0mx\u001b[0m\u001b[0;34m:\u001b[0m \u001b[0mdatetime\u001b[0m\u001b[0;34m.\u001b[0m\u001b[0mutcfromtimestamp\u001b[0m\u001b[0;34m(\u001b[0m\u001b[0mx\u001b[0m\u001b[0;34m)\u001b[0m\u001b[0;34m.\u001b[0m\u001b[0mstrftime\u001b[0m\u001b[0;34m(\u001b[0m\u001b[0;34m\"%Y/%m\"\u001b[0m\u001b[0;34m)\u001b[0m\u001b[0;34m,\u001b[0m \u001b[0mdf_blkfiles\u001b[0m\u001b[0;34m[\u001b[0m\u001b[0;34m\"ts\"\u001b[0m\u001b[0;34m]\u001b[0m\u001b[0;34m)\u001b[0m\u001b[0;34m)\u001b[0m\u001b[0;34m\u001b[0m\u001b[0;34m\u001b[0m\u001b[0m\n\u001b[0m\u001b[1;32m     70\u001b[0m \u001b[0mdf_blkfiles_gr\u001b[0m \u001b[0;34m=\u001b[0m \u001b[0mdf_blkfiles\u001b[0m\u001b[0;34m.\u001b[0m\u001b[0mgroupby\u001b[0m\u001b[0;34m(\u001b[0m\u001b[0;34m[\u001b[0m\u001b[0;34m\"timestamp\"\u001b[0m\u001b[0;34m]\u001b[0m\u001b[0;34m)\u001b[0m\u001b[0;34m.\u001b[0m\u001b[0msize\u001b[0m\u001b[0;34m(\u001b[0m\u001b[0;34m)\u001b[0m\u001b[0;34m[\u001b[0m\u001b[0;34m:\u001b[0m\u001b[0;34m-\u001b[0m\u001b[0;36m1\u001b[0m\u001b[0;34m]\u001b[0m\u001b[0;34m\u001b[0m\u001b[0;34m\u001b[0m\u001b[0m\n\u001b[1;32m     71\u001b[0m \u001b[0mdf_blkfiles_ma_index\u001b[0m \u001b[0;34m=\u001b[0m \u001b[0mdf_blkfiles\u001b[0m\u001b[0;34m.\u001b[0m\u001b[0mgroupby\u001b[0m\u001b[0;34m(\u001b[0m\u001b[0mdf_blkfiles\u001b[0m\u001b[0;34m.\u001b[0m\u001b[0mindex\u001b[0m \u001b[0;34m//\u001b[0m \u001b[0;36m200\u001b[0m\u001b[0;34m)\u001b[0m\u001b[0;34m.\u001b[0m\u001b[0mmean\u001b[0m\u001b[0;34m(\u001b[0m\u001b[0;34m)\u001b[0m\u001b[0;34m[\u001b[0m\u001b[0;34m\"blk_file_nr\"\u001b[0m\u001b[0;34m]\u001b[0m\u001b[0;34m\u001b[0m\u001b[0;34m\u001b[0m\u001b[0m\n",
      "\u001b[0;31mNameError\u001b[0m: name 'df_blkfiles' is not defined"
     ]
    }
   ],
   "source": [
    "bq_table = \"stats_invalids\"\n",
    "query = \"\"\"\n",
    "        SELECT    * \n",
    "        FROM      `{}.{}.{}`\n",
    "        \"\"\".format(bq_project,bq_dataset,bq_table)\n",
    "\n",
    "df_inval   = pd.read_gbq(query, bq_project)\n",
    "\n",
    "bq_table = \"bitcoin_transactions_per_month\"\n",
    "query = \"\"\"\n",
    "        SELECT    * \n",
    "        FROM      `{}.{}.{}`\n",
    "        \"\"\".format(bq_project,bq_dataset,bq_table)\n",
    "\n",
    "#df_txs   = pd.read_gbq(query, bq_project)[:-1]\n",
    "\n",
    "\n",
    "bq_table = \"bitcoin_edges_per_month\"\n",
    "query = \"\"\"\n",
    "        SELECT    * \n",
    "        FROM      `{}.{}.{}`\n",
    "        \"\"\".format(bq_project,bq_dataset,bq_table)\n",
    "\n",
    "#df_edges   = pd.read_gbq(query, bq_project)[:-1]\n",
    "\n",
    "\n",
    "bq_table = \"bitcoin_cum_node_count\"\n",
    "\n",
    "query = \"\"\"\n",
    "        SELECT    *\n",
    "        FROM      `{}.{}.{}`\n",
    "        \"\"\".format(bq_project,bq_dataset,bq_table)\n",
    "#df_cnc   = pd.read_gbq(query, bq_project).sort_values(\"year\").set_index(\"year\").iloc[:-1]\n",
    "\n",
    "\n",
    "bq_table = \"bitcoin_degree_distribution_total\"\n",
    "\n",
    "query = \"\"\"\n",
    "        SELECT    *\n",
    "        FROM      `{}.{}.{}`\n",
    "        \"\"\".format(bq_project,bq_dataset,bq_table)\n",
    "#df_ddt   = pd.read_gbq(query, bq_project)\n",
    "\n",
    "\n",
    "bq_table = \"bitcoin_degree_distribution_in_degree\"\n",
    "\n",
    "query = \"\"\"\n",
    "        SELECT    *\n",
    "        FROM      `{}.{}.{}`\n",
    "        \"\"\".format(bq_project,bq_dataset,bq_table)\n",
    "#df_ddi   = pd.read_gbq(query, bq_project)\n",
    "\n",
    "\n",
    "bq_table = \"bitcoin_degree_distribution_out_degree\"\n",
    "\n",
    "query = \"\"\"\n",
    "        SELECT    *\n",
    "        FROM      `{}.{}.{}`\n",
    "        \"\"\".format(bq_project,bq_dataset,bq_table)\n",
    "#df_ddo   = pd.read_gbq(query, bq_project)\n",
    "\n",
    "bq_table = \"stats_blk_files\"\n",
    "query = \"\"\"\n",
    "        SELECT    *\n",
    "        FROM      `{}.{}.{}`\n",
    "        \"\"\".format(bq_project,bq_dataset,bq_table)\n",
    "#df_blkfiles = pd.read_gbq(query, bq_project)\n",
    "# Add column with datetime object (from ts)\n",
    "df_blkfiles[\"timestamp\"] = list(map(lambda x: datetime.utcfromtimestamp(x).strftime(\"%Y/%m\"), df_blkfiles[\"ts\"]))\n",
    "df_blkfiles_gr = df_blkfiles.groupby([\"timestamp\"]).size()[:-1]\n",
    "df_blkfiles_ma_index = df_blkfiles.groupby(df_blkfiles.index // 200).mean()[\"blk_file_nr\"]\n",
    "df_blkfiles_ma_edges = df_blkfiles.groupby(df_blkfiles.index // 200).mean()[\"edges\"]\n",
    "df_blkfiles_ma_txs = df_blkfiles.groupby(df_blkfiles.index // 200).mean()[\"txs\"]\n"
   ]
  },
  {
   "cell_type": "markdown",
   "id": "fcc8aed5",
   "metadata": {},
   "source": [
    "### 4.1 General stats"
   ]
  },
  {
   "cell_type": "code",
   "execution_count": 7,
   "id": "08445f79",
   "metadata": {},
   "outputs": [
    {
     "name": "stdout",
     "output_type": "stream",
     "text": [
      "snapshot & \\#nodes & \\#edges & \\#txs \\\\ \n",
      "\\hline\n",
      "31.12.2009 & 219 & 3,628 & 152 \\\\ \n",
      "31.12.2010 & 117,611 & 257,312 & 75,884 \\\\ \n",
      "31.12.2011 & 1,959,913 & 8,489,070 & 2,607,240 \\\\ \n",
      "31.12.2012 & 10,360,356 & 50,119,444 & 8,515,576 \\\\ \n",
      "31.12.2013 & 29,940,098 & 164,461,271 & 24,609,376 \\\\ \n",
      "31.12.2014 & 55,142,139 & 535,406,902 & 58,796,725 \\\\ \n",
      "31.12.2015 & 100,424,749 & 1,102,293,611 & 115,377,800 \\\\ \n",
      "31.12.2016 & 182,983,931 & 1,703,651,683 & 209,846,070 \\\\ \n",
      "31.12.2017 & 286,991,425 & 2,762,774,783 & 353,585,596 \\\\ \n",
      "31.12.2018 & 368,323,195 & 3,599,394,116 & 464,992,670 \\\\ \n",
      "31.12.2019 & 488,039,408 & 4,697,063,711 & 595,767,289 \\\\ \n",
      "31.12.2020 & 600,530,518 & 5,870,848,363 & 759,465,261 \\\\ \n"
     ]
    }
   ],
   "source": [
    "# Table in LATEX format\n",
    "\n",
    "print(\"snapshot & \\#nodes & \\#edges & \\#txs \\\\\\ \\n\\hline\")\n",
    "for i,j in df_cnc.iloc[:-1].iterrows():\n",
    "    print(\"31.12.\"+str(i)+\" &\", \" & \".join([\"{:,.0f}\".format(int(jj)) for jj in j])+\" \\\\\\ \")"
   ]
  },
  {
   "cell_type": "code",
   "execution_count": 18,
   "id": "21632044",
   "metadata": {},
   "outputs": [
    {
     "name": "stdout",
     "output_type": "stream",
     "text": [
      "unknown   :    258,160 edges     221,164 txs\n",
      "op_return : 64,613,605 edges  49,413,219 txs\n",
      "invalid   :      9,175 edges       9,162 txs\n"
     ]
    }
   ],
   "source": [
    "for i, j in df_inval.iterrows():\n",
    "    print(\"{:<10}: {:>10,} edges  {:>10,} txs\".format(j.address, j.edges, j.txs))"
   ]
  },
  {
   "cell_type": "markdown",
   "id": "1fb4794e",
   "metadata": {},
   "source": [
    "### 4.1. Bitcoin network"
   ]
  },
  {
   "cell_type": "markdown",
   "id": "a60dc423",
   "metadata": {},
   "source": [
    "### 4.1.1. Transactions and edges per month"
   ]
  },
  {
   "cell_type": "code",
   "execution_count": 27,
   "id": "b04a2ca4",
   "metadata": {},
   "outputs": [
    {
     "data": {
      "image/png": "[encoded data removed]",
      "text/plain": [
       "<Figure size 360x226.8 with 1 Axes>"
      ]
     },
     "metadata": {
      "needs_background": "light"
     },
     "output_type": "display_data"
    }
   ],
   "source": [
    "\n",
    "\n",
    "# Create figure with size 5x3.15 inches\n",
    "plt.figure(figsize=(5, 3.15))\n",
    "\n",
    "# Join year and month to get month-of-year `moy`\n",
    "df_txs[\"moy\"] = df_txs[\"year\"].astype(str)  + \"/\" + df_txs[\"month\"].astype(str) \n",
    "\n",
    "# Plot chart\n",
    "plt.plot(df_txs[\"moy\"],df_txs[\"c\"], color=\"k\")\n",
    "\n",
    "# Customize ticks\n",
    "ticks_position = [i+\"/1\" for i in df_txs[\"year\"].astype(str) if int(i) % 2 != 0]\n",
    "ticks          = [tick.split(\"/\")[0] for tick in ticks_position]\n",
    "plt.xticks(ticks_position, ticks)\n",
    "\n",
    "# Legend\n",
    "plt.legend([\"Transactions/month\"])\n",
    "\n",
    "#Save figure and show\n",
    "#plt.savefig(\"./pictures/txs_over_months.pdf\")\n",
    "plt.show()"
   ]
  },
  {
   "cell_type": "code",
   "execution_count": 28,
   "id": "67f80518",
   "metadata": {},
   "outputs": [
    {
     "data": {
      "image/png": "[encoded data removed]",
      "text/plain": [
       "<Figure size 360x154.8 with 1 Axes>"
      ]
     },
     "metadata": {
      "needs_background": "light"
     },
     "output_type": "display_data"
    }
   ],
   "source": [
    "# Create figure with size 5x3.15 inches\n",
    "plt.figure(figsize=(5, 2.15))\n",
    "\n",
    "# Join year and month to get month-of-year `moy`\n",
    "df_edges[\"moy\"] = df_edges[\"year\"].astype(str)  + \"/\" + df_edges[\"month\"].astype(str) \n",
    "\n",
    "# Plot chart\n",
    "plt.plot(df_edges[\"moy\"],df_edges[\"c\"], color=\"k\")\n",
    "plt.plot(df_txs[\"moy\"],df_txs[\"c\"], color=\"#00629b\", linestyle='dashed', linewidth=2)\n",
    "\n",
    "# Customize ticks\n",
    "ticks_position = [i+\"/1\" for i in df_edges[\"year\"].astype(str) if int(i) % 2 != 0]\n",
    "ticks          = [r\"{}\".format(tick.split(\"/\")[0]) for tick in ticks_position]\n",
    "plt.xticks(ticks_position, ticks, fontweight=\"ultralight\")\n",
    "plt.yticks(fontweight=\"book\")\n",
    "plt.gca().set_yscale('log')\n",
    "# Legend\n",
    "plt.legend([r\"$\\#\\ of\\ Edges_{month} \\ $\", r\"$\\#\\ of\\ Transactions_{month}$\"])\n",
    "\n",
    "#Save figure and show\n",
    "plt.savefig(\"./pictures/txs_edges_over_months_log.pdf\")\n",
    "plt.show()"
   ]
  },
  {
   "cell_type": "code",
   "execution_count": 305,
   "id": "47af0934",
   "metadata": {},
   "outputs": [
    {
     "data": {
      "text/html": [
       "<div>\n",
       "<style scoped>\n",
       "    .dataframe tbody tr th:only-of-type {\n",
       "        vertical-align: middle;\n",
       "    }\n",
       "\n",
       "    .dataframe tbody tr th {\n",
       "        vertical-align: top;\n",
       "    }\n",
       "\n",
       "    .dataframe thead th {\n",
       "        text-align: right;\n",
       "    }\n",
       "</style>\n",
       "<table border=\"1\" class=\"dataframe\">\n",
       "  <thead>\n",
       "    <tr style=\"text-align: right;\">\n",
       "      <th></th>\n",
       "      <th>blk_file_nr</th>\n",
       "      <th>ts</th>\n",
       "      <th>edges</th>\n",
       "      <th>txs</th>\n",
       "      <th>timestamp</th>\n",
       "    </tr>\n",
       "  </thead>\n",
       "  <tbody>\n",
       "    <tr>\n",
       "      <th>0</th>\n",
       "      <td>0</td>\n",
       "      <td>1303680496</td>\n",
       "      <td>962507</td>\n",
       "      <td>435110</td>\n",
       "      <td>2011/04</td>\n",
       "    </tr>\n",
       "    <tr>\n",
       "      <th>1</th>\n",
       "      <td>1</td>\n",
       "      <td>1308216812</td>\n",
       "      <td>1354285</td>\n",
       "      <td>319333</td>\n",
       "      <td>2011/06</td>\n",
       "    </tr>\n",
       "    <tr>\n",
       "      <th>2</th>\n",
       "      <td>2</td>\n",
       "      <td>1311028135</td>\n",
       "      <td>1581051</td>\n",
       "      <td>316245</td>\n",
       "      <td>2011/07</td>\n",
       "    </tr>\n",
       "    <tr>\n",
       "      <th>3</th>\n",
       "      <td>3</td>\n",
       "      <td>1314338057</td>\n",
       "      <td>1420577</td>\n",
       "      <td>303973</td>\n",
       "      <td>2011/08</td>\n",
       "    </tr>\n",
       "    <tr>\n",
       "      <th>4</th>\n",
       "      <td>4</td>\n",
       "      <td>1318423411</td>\n",
       "      <td>1455504</td>\n",
       "      <td>301414</td>\n",
       "      <td>2011/10</td>\n",
       "    </tr>\n",
       "    <tr>\n",
       "      <th>...</th>\n",
       "      <td>...</td>\n",
       "      <td>...</td>\n",
       "      <td>...</td>\n",
       "      <td>...</td>\n",
       "      <td>...</td>\n",
       "    </tr>\n",
       "    <tr>\n",
       "      <th>2788</th>\n",
       "      <td>2788</td>\n",
       "      <td>1635869326</td>\n",
       "      <td>2119485</td>\n",
       "      <td>196990</td>\n",
       "      <td>2021/11</td>\n",
       "    </tr>\n",
       "    <tr>\n",
       "      <th>2789</th>\n",
       "      <td>2789</td>\n",
       "      <td>1635933839</td>\n",
       "      <td>2639537</td>\n",
       "      <td>197801</td>\n",
       "      <td>2021/11</td>\n",
       "    </tr>\n",
       "    <tr>\n",
       "      <th>2790</th>\n",
       "      <td>2790</td>\n",
       "      <td>1635988898</td>\n",
       "      <td>2382275</td>\n",
       "      <td>209584</td>\n",
       "      <td>2021/11</td>\n",
       "    </tr>\n",
       "    <tr>\n",
       "      <th>2791</th>\n",
       "      <td>2791</td>\n",
       "      <td>1636050224</td>\n",
       "      <td>2076114</td>\n",
       "      <td>209004</td>\n",
       "      <td>2021/11</td>\n",
       "    </tr>\n",
       "    <tr>\n",
       "      <th>2792</th>\n",
       "      <td>2792</td>\n",
       "      <td>1636098408</td>\n",
       "      <td>3035730</td>\n",
       "      <td>135313</td>\n",
       "      <td>2021/11</td>\n",
       "    </tr>\n",
       "  </tbody>\n",
       "</table>\n",
       "<p>2793 rows × 5 columns</p>\n",
       "</div>"
      ],
      "text/plain": [
       "      blk_file_nr          ts    edges     txs timestamp\n",
       "0               0  1303680496   962507  435110   2011/04\n",
       "1               1  1308216812  1354285  319333   2011/06\n",
       "2               2  1311028135  1581051  316245   2011/07\n",
       "3               3  1314338057  1420577  303973   2011/08\n",
       "4               4  1318423411  1455504  301414   2011/10\n",
       "...           ...         ...      ...     ...       ...\n",
       "2788         2788  1635869326  2119485  196990   2021/11\n",
       "2789         2789  1635933839  2639537  197801   2021/11\n",
       "2790         2790  1635988898  2382275  209584   2021/11\n",
       "2791         2791  1636050224  2076114  209004   2021/11\n",
       "2792         2792  1636098408  3035730  135313   2021/11\n",
       "\n",
       "[2793 rows x 5 columns]"
      ]
     },
     "execution_count": 305,
     "metadata": {},
     "output_type": "execute_result"
    }
   ],
   "source": [
    "df_blkfiles"
   ]
  },
  {
   "cell_type": "code",
   "execution_count": 137,
   "id": "5ec9fa0c",
   "metadata": {},
   "outputs": [],
   "source": [
    "a,b = df_blkfiles.groupby(df_blkfiles.index // 200).mean()[\"edges\"],df_blkfiles.groupby(df_blkfiles.index // 200).mean()[\"blk_file_nr\"]"
   ]
  },
  {
   "cell_type": "code",
   "execution_count": 180,
   "id": "e5328fa1",
   "metadata": {},
   "outputs": [
    {
     "data": {
      "text/plain": [
       "1013"
      ]
     },
     "execution_count": 180,
     "metadata": {},
     "output_type": "execute_result"
    }
   ],
   "source": [
    "df_blkfiles_gr.loc[:\"2017/09\"].sum()"
   ]
  },
  {
   "cell_type": "code",
   "execution_count": 257,
   "id": "a479075e",
   "metadata": {},
   "outputs": [
    {
     "data": {
      "text/plain": [
       "<matplotlib.axis.XAxis at 0x7fbe37e00850>"
      ]
     },
     "execution_count": 257,
     "metadata": {},
     "output_type": "execute_result"
    }
   ],
   "source": [
    "axs[0].xaxis."
   ]
  },
  {
   "cell_type": "code",
   "execution_count": null,
   "id": "57063206",
   "metadata": {},
   "outputs": [],
   "source": [
    "axs[0].xaxis"
   ]
  },
  {
   "cell_type": "code",
   "execution_count": null,
   "id": "a56f8110",
   "metadata": {},
   "outputs": [],
   "source": [
    "axs[0].xaxis"
   ]
  },
  {
   "cell_type": "markdown",
   "id": "f66cfcf4",
   "metadata": {},
   "source": [
    "### 4.1.1. Transactions and edges per blk file"
   ]
  },
  {
   "cell_type": "code",
   "execution_count": 294,
   "id": "0dc11e1e",
   "metadata": {},
   "outputs": [
    {
     "data": {
      "image/png": "[encoded data removed]",
      "text/plain": [
       "<Figure size 864x288 with 3 Axes>"
      ]
     },
     "metadata": {
      "needs_background": "light"
     },
     "output_type": "display_data"
    }
   ],
   "source": [
    "# Create figure with size 5x3.15 inches\n",
    "f, axs = plt.subplots(1, 3,figsize=(12, 4))\n",
    "\n",
    "# Plot chart\n",
    "axs[0].plot(df_blkfiles[\"blk_file_nr\"],df_blkfiles[\"txs\"], color=\"k\", linewidth = 0.2, label=\"#transactions\")\n",
    "axs[0].plot(df_blkfiles_ma_index,df_blkfiles_ma_txs, color=\"#00629b\", linewidth = 2, label=\"sma (k=10)\")\n",
    "axs[0].xaxis.set_ticks([0,1000,2000,df_blkfiles[\"blk_file_nr\"].iloc[-1]])\n",
    "axs[0].set_xlabel(\"#blk file\", fontsize=16)\n",
    "\n",
    "\n",
    "axs[1].plot(df_blkfiles[\"blk_file_nr\"],df_blkfiles[\"edges\"], color=\"k\", linewidth = 0.3, label=\"#edges\")\n",
    "axs[1].plot(df_blkfiles_ma_index,df_blkfiles_ma_edges, color=\"#00629b\", linewidth = 2, label=\"sma (k=10)\")\n",
    "axs[1].set_xlabel(\"#blk file\", fontsize=16)\n",
    "axs[1].xaxis.set_ticks([0,1000,2000,df_blkfiles[\"blk_file_nr\"].iloc[-1]])\n",
    "axs[1].yaxis.get_offset_text().set_fontsize(14)\n",
    "\n",
    "axs[2].plot(df_blkfiles_gr.index,df_blkfiles_gr, color=\"k\", label=\"blk-files\\nper month\")\n",
    "axs[2].xaxis.set_ticks(np.arange(12, 124, 48))\n",
    "axs[2].annotate(\">1000 \\nblk files\", xy=(\"2017/09\", 28), xycoords='data',\n",
    "            xytext=(\"2016/06\", 18), textcoords='data',size=12,\n",
    "            arrowprops=dict(arrowstyle=\"->\",\n",
    "                            connectionstyle=\"arc3\"))\n",
    "axs[2].annotate(\">2000\\nblk files\", xy=(\"2020/03\", 33), xycoords='data',\n",
    "            xytext=(\"2018/12\", 22), textcoords='data',size=12,\n",
    "            arrowprops=dict(arrowstyle=\"->\",\n",
    "                            connectionstyle=\"arc3\"))\n",
    "axs[0].legend(fontsize=15, loc=\"upper left\")\n",
    "axs[1].legend(fontsize=15)\n",
    "axs[2].legend(fontsize=15)\n",
    "axs[0].tick_params(axis='both', which='major', labelsize=17)\n",
    "axs[1].tick_params(axis='both', which='major', labelsize=17)\n",
    "axs[2].tick_params(axis='both', which='major', labelsize=17)\n",
    "\n",
    "plt.tight_layout(pad=0)\n",
    "#Save figure and show\n",
    "plt.savefig(\"./pictures/blk_files.pdf\")\n",
    "plt.show()"
   ]
  },
  {
   "cell_type": "code",
   "execution_count": 6,
   "id": "be75e4be",
   "metadata": {},
   "outputs": [
    {
     "name": "stdout",
     "output_type": "stream",
     "text": [
      "2011:  0.9885\n",
      "2012:  1.0873\n",
      "2013:  1.1165\n",
      "2014:  1.1469\n",
      "2015:  1.1568\n",
      "2016:  1.1460\n",
      "2017:  1.1335\n",
      "2018:  1.1240\n",
      "2019:  1.1172\n",
      "2020:  1.1108\n",
      "2021:  1.1073\n"
     ]
    }
   ],
   "source": [
    "# Densification Power law\n",
    "# E(t) = N(t)^a\n",
    "\n",
    "def dense_powerlaw(cnc, cec):\n",
    "    ln_x = list(map(math.log, cnc))\n",
    "    ln_y = list(map(math.log, cec))\n",
    "\n",
    "    \n",
    "    mean_ln_x = np.mean(ln_x)\n",
    "    mean_ln_y = np.mean(ln_y)\n",
    "\n",
    "    xi_x = list(map(lambda x: x - mean_ln_x, ln_x))\n",
    "    yi_y = list(map(lambda x: x - mean_ln_y, ln_y))        \n",
    "    \n",
    "    xi_x_yi_y = list(map(lambda x,y: x*y, xi_x, yi_y))\n",
    "    xi_x2     = list(map(lambda x: x**2, xi_x))\n",
    "\n",
    "    powerlaw_e = sum(xi_x_yi_y)/sum(xi_x2)\n",
    "    constant   = math.exp(mean_ln_y - powerlaw_e*mean_ln_x)\n",
    "    return powerlaw_e\n",
    "\n",
    "    #print(\"Densification power law exponent of {:.3f} with a constant of {:.3f}\".format(powerlaw_e,constant))\n",
    "    #print(\"Equation: y = {:.3f}**{:.3f}\".format(constant,powerlaw_e))\n",
    "    \n",
    "dense_pl = {}\n",
    "for i in range(3,14):\n",
    "    year = 2008 + i\n",
    "    cnc, cec = df_cnc.addrs_c[1:i], df_cnc.edges_c[1:i]\n",
    "    dense_pl[year] = dense_powerlaw(cnc, cec)\n",
    "\n",
    "\n",
    "for year, e in dense_pl.items():\n",
    "    print(\"{:<4}:  {:>5.4f}\".format(year, e))"
   ]
  },
  {
   "cell_type": "markdown",
   "id": "b07c9c76",
   "metadata": {},
   "source": [
    "### 4.1.2. Cumulated number of Nodes and Edges & Densification Power Law"
   ]
  },
  {
   "cell_type": "code",
   "execution_count": 25,
   "id": "0b8700cb",
   "metadata": {},
   "outputs": [
    {
     "data": {
      "image/png": "[encoded data removed]",
      "text/plain": [
       "<Figure size 864x288 with 3 Axes>"
      ]
     },
     "metadata": {
      "needs_background": "light"
     },
     "output_type": "display_data"
    }
   ],
   "source": [
    "# Create figure with size 4x4 inches\n",
    "f, axs = plt.subplots(1, 3,figsize=(12, 4))\n",
    "\n",
    "# Plot chart\n",
    "axs[0].scatter(df_cnc[\"addrs_c\"],df_cnc[\"edges_c\"], s=80, color=\"k\", edgecolors=\"#00629b\")\n",
    "axs[0].plot([0, 1], [0, 1], transform=axs[0].transAxes , color=\"k\", ls=\"--\", label='_nolegend_')\n",
    "\n",
    "# Add month/year annoations\n",
    "axs[0].annotate(\"09/2021\", xy=(int(8.2e8), int(7.2e9)), xycoords='data',\n",
    "            xytext=(int(5.6e8), int(7.1e9)), textcoords='data',\n",
    "            arrowprops=dict(arrowstyle=\"->\",\n",
    "                            connectionstyle=\"arc3\"))\n",
    "axs[0].annotate(\"01/2016\", xy=(int(1.8e8), int(1e9)), xycoords='data',\n",
    "            xytext=(int(2.6e8), int(1e9)), textcoords='data',\n",
    "            arrowprops=dict(arrowstyle=\"->\",\n",
    "                            connectionstyle=\"arc3\"))\n",
    "axs[0].set(xlabel=\"# of nodes\", ylabel=\"# of edges\")\n",
    "\n",
    "\n",
    "# Plot chart\n",
    "axs[1].plot(df_cnc.index, df_cnc[\"addrs_c\"], color=\"#00629b\", marker=\"o\", markersize=8, label=\"nodes\")\n",
    "axs[1].plot(df_cnc.index, df_cnc[\"edges_c\"], color=\"k\", marker=\"v\", markersize=8, label=\"edges\")\n",
    "axs[1].legend()\n",
    "\n",
    "\n",
    "# Plot power law coefficient over time\n",
    "\n",
    "axs[2].plot(df_cnc.index[2:], dense_pl.values(), color=\"k\", marker=\"o\", markersize=8, label=\"densification exponent\")\n",
    "axs[2].set_ylim([0.7, 1.45])\n",
    "axs[2].legend()\n",
    "\n",
    "\n",
    "plt.tight_layout(pad=3)\n",
    "#Save figure and show\n",
    "plt.savefig(\"./pictures/densification_over_time.pdf\")\n",
    "plt.show()"
   ]
  },
  {
   "cell_type": "markdown",
   "id": "2320c5d2",
   "metadata": {},
   "source": [
    "### 4.1.3. Degree distribution(s)"
   ]
  },
  {
   "cell_type": "code",
   "execution_count": 7,
   "id": "714b26ac",
   "metadata": {},
   "outputs": [
    {
     "data": {
      "image/png": "[encoded data removed]",
      "text/plain": [
       "<Figure size 864x288 with 3 Axes>"
      ]
     },
     "metadata": {
      "needs_background": "light"
     },
     "output_type": "display_data"
    }
   ],
   "source": [
    "#\n",
    "# DEGREE DISTRIBUTION \n",
    "#\n",
    "# The power law coefficients are calculated using plfit.c, available\n",
    "# here https://github.com/ntamas/plfit \n",
    "\n",
    "# Create figure with size 4x4 inches\n",
    "f, axs = plt.subplots(1, 3,figsize=(12, 4))\n",
    "\n",
    "# Plot total degree\n",
    "axs[0].scatter(df_ddt[\"degree\"],df_ddt[\"frequency\"], s=50, color=\"#00629b\", marker=\"1\", label=\"total degrees\")\n",
    "axs[0].set_xscale('log')\n",
    "axs[0].set_yscale('log')\n",
    "axs[0].legend()\n",
    "axs[0].set(xlabel=\"degree\", ylabel=\"frequency\")\n",
    "#axs[0].plot([0, 1], [0, 1], transform=axs[0].transAxes , color=\"k\", ls=\"--\", label='_nolegend_')\n",
    "\n",
    "# Plot in degree\n",
    "axs[1].scatter(df_ddi[\"degree\"],df_ddi[\"frequency\"], s=50, color=\"#00629b\", marker=\"1\", label=\"in-degree\")\n",
    "axs[1].set_xscale('log')\n",
    "axs[1].set_yscale('log')\n",
    "axs[1].legend()\n",
    "axs[1].set(xlabel=\"in-degree\")\n",
    "\n",
    "# Plot out degree\n",
    "axs[2].scatter(df_ddo[\"degree\"],df_ddo[\"frequency\"], s=50, color=\"#00629b\", marker=\"1\", label=\"out-degree\")\n",
    "axs[2].set_xscale('log')\n",
    "axs[2].set_yscale('log')\n",
    "axs[2].legend()\n",
    "axs[2].set(xlabel=\"out-degree\")\n",
    "\n",
    "plt.tight_layout(pad=3)\n",
    "#Save figure and show\n",
    "plt.savefig(\"./pictures/degree_distributions.pdf\")\n",
    "plt.show()"
   ]
  },
  {
   "cell_type": "code",
   "execution_count": null,
   "id": "66923b5b",
   "metadata": {},
   "outputs": [],
   "source": [
    "# Create degree files \n",
    "%run bitcoin_graph/create_degree_file.py\n",
    "\n",
    "# Calculate power law exponents using plfit.c (https://github.com/ntamas/plfit)\n",
    "! ./plfit/build/src/plfit powerlaw_distribution/degree_total.txt\n",
    "! ./plfit/build/src/plfit powerlaw_distribution/degree_in.txt\n",
    "! ./plfit/build/src/plfit powerlaw_distribution/degree_out.txt"
   ]
  },
  {
   "cell_type": "code",
   "execution_count": 4,
   "id": "4e30d2ca",
   "metadata": {},
   "outputs": [
    {
     "data": {
      "text/plain": [
       "TableReference(DatasetReference('wu-btcgraph', 'btc'), 'usergraph_test')"
      ]
     },
     "execution_count": 4,
     "metadata": {},
     "output_type": "execute_result"
    }
   ],
   "source": [
    "table_ref"
   ]
  },
  {
   "cell_type": "code",
   "execution_count": null,
   "id": "1b354fa9",
   "metadata": {},
   "outputs": [],
   "source": [
    "bucket_name = \"testbucketddd\"\n",
    "target_folder = \"usergraph\"\n",
    "file_name = \"test\"\n",
    "\n",
    "storage_client = storage.Client()\n",
    "bucket = storage_client.bucket(bucket_name)\n",
    "file_names = map(lambda x: str(x).split(\",\")[1].strip(), list(bucket.list_blobs()))\n",
    "#print(list(file_names))\n",
    "for index, fn in enumerate(file_names):\n",
    "    print(fn)\n",
    "    if fn.startswith(\"{}\".format(file_name)):\n",
    "        blob = bucket.blob(fn)\n",
    "        blob.download_to_filename(target_folder + \"/\" + fn)\n",
    "        print(f\"{bucket_name}.{fn} copied to {target_folder}/{fn}\")\n",
    "    if index >= 5:\n",
    "        break"
   ]
  },
  {
   "cell_type": "code",
   "execution_count": 12,
   "id": "7d68a216",
   "metadata": {},
   "outputs": [],
   "source": [
    "_df = pd.read_csv(\"usergraph/test000000000000.csv\")\n",
    "_df1 = pd.read_csv(\"usergraph/test000000000001.csv\")"
   ]
  },
  {
   "cell_type": "code",
   "execution_count": null,
   "id": "17f6ca03",
   "metadata": {},
   "outputs": [
    {
     "name": "stdout",
     "output_type": "stream",
     "text": [
      "0\n",
      "1\n"
     ]
    }
   ],
   "source": [
    "#df = pd.DataFrame()\n",
    "for i in range(20):\n",
    "    print(i)\n",
    "    df = df.append(_df)"
   ]
  },
  {
   "cell_type": "code",
   "execution_count": 21,
   "id": "ff0e6116",
   "metadata": {},
   "outputs": [
    {
     "data": {
      "text/html": [
       "<div>\n",
       "<style scoped>\n",
       "    .dataframe tbody tr th:only-of-type {\n",
       "        vertical-align: middle;\n",
       "    }\n",
       "\n",
       "    .dataframe tbody tr th {\n",
       "        vertical-align: top;\n",
       "    }\n",
       "\n",
       "    .dataframe thead th {\n",
       "        text-align: right;\n",
       "    }\n",
       "</style>\n",
       "<table border=\"1\" class=\"dataframe\">\n",
       "  <thead>\n",
       "    <tr style=\"text-align: right;\">\n",
       "      <th></th>\n",
       "      <th>hashid</th>\n",
       "      <th>addrid</th>\n",
       "    </tr>\n",
       "  </thead>\n",
       "  <tbody>\n",
       "    <tr>\n",
       "      <th>0</th>\n",
       "      <td>392937562</td>\n",
       "      <td>731287804</td>\n",
       "    </tr>\n",
       "    <tr>\n",
       "      <th>1</th>\n",
       "      <td>215345734</td>\n",
       "      <td>665447434</td>\n",
       "    </tr>\n",
       "    <tr>\n",
       "      <th>2</th>\n",
       "      <td>451728698</td>\n",
       "      <td>449653628</td>\n",
       "    </tr>\n",
       "    <tr>\n",
       "      <th>3</th>\n",
       "      <td>263949483</td>\n",
       "      <td>286499854</td>\n",
       "    </tr>\n",
       "    <tr>\n",
       "      <th>4</th>\n",
       "      <td>121004434</td>\n",
       "      <td>548463620</td>\n",
       "    </tr>\n",
       "    <tr>\n",
       "      <th>...</th>\n",
       "      <td>...</td>\n",
       "      <td>...</td>\n",
       "    </tr>\n",
       "    <tr>\n",
       "      <th>9776043</th>\n",
       "      <td>348100489</td>\n",
       "      <td>296529732</td>\n",
       "    </tr>\n",
       "    <tr>\n",
       "      <th>9776044</th>\n",
       "      <td>587630703</td>\n",
       "      <td>81748607</td>\n",
       "    </tr>\n",
       "    <tr>\n",
       "      <th>9776045</th>\n",
       "      <td>259213124</td>\n",
       "      <td>81748607</td>\n",
       "    </tr>\n",
       "    <tr>\n",
       "      <th>9776046</th>\n",
       "      <td>252981027</td>\n",
       "      <td>700151849</td>\n",
       "    </tr>\n",
       "    <tr>\n",
       "      <th>9776047</th>\n",
       "      <td>490342042</td>\n",
       "      <td>435372158</td>\n",
       "    </tr>\n",
       "  </tbody>\n",
       "</table>\n",
       "<p>293281440 rows × 2 columns</p>\n",
       "</div>"
      ],
      "text/plain": [
       "            hashid     addrid\n",
       "0        392937562  731287804\n",
       "1        215345734  665447434\n",
       "2        451728698  449653628\n",
       "3        263949483  286499854\n",
       "4        121004434  548463620\n",
       "...            ...        ...\n",
       "9776043  348100489  296529732\n",
       "9776044  587630703   81748607\n",
       "9776045  259213124   81748607\n",
       "9776046  252981027  700151849\n",
       "9776047  490342042  435372158\n",
       "\n",
       "[293281440 rows x 2 columns]"
      ]
     },
     "execution_count": 21,
     "metadata": {},
     "output_type": "execute_result"
    }
   ],
   "source": [
    "df"
   ]
  },
  {
   "cell_type": "code",
   "execution_count": 27,
   "id": "50e61737",
   "metadata": {},
   "outputs": [
    {
     "data": {
      "text/html": [
       "<div>\n",
       "<style scoped>\n",
       "    .dataframe tbody tr th:only-of-type {\n",
       "        vertical-align: middle;\n",
       "    }\n",
       "\n",
       "    .dataframe tbody tr th {\n",
       "        vertical-align: top;\n",
       "    }\n",
       "\n",
       "    .dataframe thead th {\n",
       "        text-align: right;\n",
       "    }\n",
       "</style>\n",
       "<table border=\"1\" class=\"dataframe\">\n",
       "  <thead>\n",
       "    <tr style=\"text-align: right;\">\n",
       "      <th></th>\n",
       "      <th>hashid</th>\n",
       "      <th>addrid</th>\n",
       "    </tr>\n",
       "  </thead>\n",
       "  <tbody>\n",
       "    <tr>\n",
       "      <th>211713</th>\n",
       "      <td>147243371</td>\n",
       "      <td>2815</td>\n",
       "    </tr>\n",
       "    <tr>\n",
       "      <th>437801</th>\n",
       "      <td>130362142</td>\n",
       "      <td>2815</td>\n",
       "    </tr>\n",
       "    <tr>\n",
       "      <th>589063</th>\n",
       "      <td>352486135</td>\n",
       "      <td>2815</td>\n",
       "    </tr>\n",
       "    <tr>\n",
       "      <th>1014783</th>\n",
       "      <td>605749008</td>\n",
       "      <td>2815</td>\n",
       "    </tr>\n",
       "    <tr>\n",
       "      <th>1017020</th>\n",
       "      <td>530687643</td>\n",
       "      <td>2815</td>\n",
       "    </tr>\n",
       "    <tr>\n",
       "      <th>1823623</th>\n",
       "      <td>401797530</td>\n",
       "      <td>2815</td>\n",
       "    </tr>\n",
       "    <tr>\n",
       "      <th>4304253</th>\n",
       "      <td>277814718</td>\n",
       "      <td>2815</td>\n",
       "    </tr>\n",
       "    <tr>\n",
       "      <th>4704302</th>\n",
       "      <td>535301012</td>\n",
       "      <td>2815</td>\n",
       "    </tr>\n",
       "    <tr>\n",
       "      <th>4920890</th>\n",
       "      <td>374764875</td>\n",
       "      <td>2815</td>\n",
       "    </tr>\n",
       "    <tr>\n",
       "      <th>5276445</th>\n",
       "      <td>212358331</td>\n",
       "      <td>2815</td>\n",
       "    </tr>\n",
       "    <tr>\n",
       "      <th>5549135</th>\n",
       "      <td>522113123</td>\n",
       "      <td>2815</td>\n",
       "    </tr>\n",
       "    <tr>\n",
       "      <th>6248653</th>\n",
       "      <td>209520490</td>\n",
       "      <td>2815</td>\n",
       "    </tr>\n",
       "    <tr>\n",
       "      <th>7366637</th>\n",
       "      <td>69948563</td>\n",
       "      <td>2815</td>\n",
       "    </tr>\n",
       "    <tr>\n",
       "      <th>8479774</th>\n",
       "      <td>437649853</td>\n",
       "      <td>2815</td>\n",
       "    </tr>\n",
       "    <tr>\n",
       "      <th>8623333</th>\n",
       "      <td>677231541</td>\n",
       "      <td>2815</td>\n",
       "    </tr>\n",
       "    <tr>\n",
       "      <th>8780801</th>\n",
       "      <td>94031378</td>\n",
       "      <td>2815</td>\n",
       "    </tr>\n",
       "    <tr>\n",
       "      <th>9568266</th>\n",
       "      <td>35035328</td>\n",
       "      <td>2815</td>\n",
       "    </tr>\n",
       "  </tbody>\n",
       "</table>\n",
       "</div>"
      ],
      "text/plain": [
       "            hashid  addrid\n",
       "211713   147243371    2815\n",
       "437801   130362142    2815\n",
       "589063   352486135    2815\n",
       "1014783  605749008    2815\n",
       "1017020  530687643    2815\n",
       "1823623  401797530    2815\n",
       "4304253  277814718    2815\n",
       "4704302  535301012    2815\n",
       "4920890  374764875    2815\n",
       "5276445  212358331    2815\n",
       "5549135  522113123    2815\n",
       "6248653  209520490    2815\n",
       "7366637   69948563    2815\n",
       "8479774  437649853    2815\n",
       "8623333  677231541    2815\n",
       "8780801   94031378    2815\n",
       "9568266   35035328    2815"
      ]
     },
     "execution_count": 27,
     "metadata": {},
     "output_type": "execute_result"
    }
   ],
   "source": [
    "_df1[_df1[\"addrid\"] == 2815]"
   ]
  },
  {
   "cell_type": "code",
   "execution_count": 28,
   "id": "6afb15d0",
   "metadata": {},
   "outputs": [
    {
     "data": {
      "text/plain": [
       "hashid    607506197\n",
       "addrid    279097922\n",
       "Name: 2815, dtype: int64"
      ]
     },
     "execution_count": 28,
     "metadata": {},
     "output_type": "execute_result"
    }
   ],
   "source": [
    "_df"
   ]
  },
  {
   "cell_type": "code",
   "execution_count": 13,
   "id": "df3da4dd",
   "metadata": {},
   "outputs": [],
   "source": [
    "gr = _df.groupby(\"addrid\")[\"hashid\"].apply(list)"
   ]
  },
  {
   "cell_type": "code",
   "execution_count": 50,
   "id": "6dd5e1d9",
   "metadata": {},
   "outputs": [
    {
     "data": {
      "text/plain": [
       "[69835348,\n",
       " 334250108,\n",
       " 286593174,\n",
       " 52459000,\n",
       " 195675148,\n",
       " 206116092,\n",
       " 212615917,\n",
       " 529422539,\n",
       " 250165491,\n",
       " 474374422,\n",
       " 124847338,\n",
       " 404626068,\n",
       " 622183947,\n",
       " 170650287,\n",
       " 320060919,\n",
       " 275093596,\n",
       " 553797160,\n",
       " 147243371,\n",
       " 130362142,\n",
       " 352486135,\n",
       " 605749008,\n",
       " 530687643,\n",
       " 401797530,\n",
       " 277814718,\n",
       " 535301012,\n",
       " 374764875,\n",
       " 212358331,\n",
       " 522113123,\n",
       " 209520490,\n",
       " 69948563,\n",
       " 437649853,\n",
       " 677231541,\n",
       " 94031378,\n",
       " 35035328]"
      ]
     },
     "execution_count": 50,
     "metadata": {},
     "output_type": "execute_result"
    }
   ],
   "source": [
    "gr.loc[2815]"
   ]
  },
  {
   "cell_type": "code",
   "execution_count": 47,
   "id": "545e9fe9",
   "metadata": {},
   "outputs": [],
   "source": [
    "for i, row in _df1.iterrows():\n",
    "    if row[1] in gr.index:\n",
    "        gr.loc[row[1]].append(row[0])\n"
   ]
  },
  {
   "cell_type": "code",
   "execution_count": 48,
   "id": "2d4c34de",
   "metadata": {},
   "outputs": [
    {
     "data": {
      "text/plain": [
       "addrid\n",
       "1621                                               [364978505]\n",
       "1994                                                [33451130]\n",
       "2532                                               [360380081]\n",
       "2648                                               [285427792]\n",
       "2815         [69835348, 334250108, 286593174, 52459000, 195...\n",
       "                                   ...                        \n",
       "897973325                                          [217220046]\n",
       "897973567                     [647602243, 217078590, 43375376]\n",
       "897973624                                          [605072585]\n",
       "897973643                                           [12974371]\n",
       "897973953    [645729761, 346480798, 455473874, 539242173, 2...\n",
       "Name: hashid, Length: 5991953, dtype: object"
      ]
     },
     "execution_count": 48,
     "metadata": {},
     "output_type": "execute_result"
    }
   ],
   "source": [
    "gr"
   ]
  },
  {
   "cell_type": "code",
   "execution_count": null,
   "id": "c87bceaa",
   "metadata": {},
   "outputs": [],
   "source": []
  },
  {
   "cell_type": "code",
   "execution_count": null,
   "id": "849e08b0",
   "metadata": {},
   "outputs": [],
   "source": []
  },
  {
   "cell_type": "code",
   "execution_count": null,
   "id": "4a664013",
   "metadata": {},
   "outputs": [],
   "source": []
  },
  {
   "cell_type": "code",
   "execution_count": null,
   "id": "34ef2ebd",
   "metadata": {},
   "outputs": [],
   "source": []
  },
  {
   "cell_type": "code",
   "execution_count": 11,
   "id": "d4af62b9",
   "metadata": {},
   "outputs": [
    {
     "data": {
      "text/plain": [
       "(         degree  frequency\n",
       " 0             0     175033\n",
       " 1             1  575844347\n",
       " 2             2  133966205\n",
       " 3             3   45717564\n",
       " 4             4   24541646\n",
       " ...         ...        ...\n",
       " 19945   3344035          1\n",
       " 19946   5128956          1\n",
       " 19947   6764521          1\n",
       " 19948   8580627          1\n",
       " 19949  37151551          1\n",
       " \n",
       " [19950 rows x 2 columns],\n",
       "          degree  frequency\n",
       " 0             0   33423826\n",
       " 1             1  188116290\n",
       " 2             2  507343541\n",
       " 3             3   39918648\n",
       " 4             4   24084147\n",
       " ...         ...        ...\n",
       " 20301   5148062          1\n",
       " 20302   5546123          1\n",
       " 20303   8254481          1\n",
       " 20304  11864102          1\n",
       " 20305  17954575          1\n",
       " \n",
       " [20306 rows x 2 columns],\n",
       "          degree  frequency\n",
       " 0             1   22514134\n",
       " 1             2  141040694\n",
       " 2             3  389929587\n",
       " 3             4  100551048\n",
       " 4             5   46502020\n",
       " ...         ...        ...\n",
       " 28125   8262925          1\n",
       " 28126  10675079          1\n",
       " 28127  11866903          1\n",
       " 28128  11955139          1\n",
       " 28129  55106126          1\n",
       " \n",
       " [28130 rows x 2 columns])"
      ]
     },
     "execution_count": 11,
     "metadata": {},
     "output_type": "execute_result"
    }
   ],
   "source": [
    "df_ddi,df_ddo,df_ddt"
   ]
  },
  {
   "cell_type": "code",
   "execution_count": null,
   "id": "a17a0fa3",
   "metadata": {},
   "outputs": [],
   "source": []
  },
  {
   "cell_type": "code",
   "execution_count": null,
   "id": "3006887e",
   "metadata": {},
   "outputs": [],
   "source": []
  },
  {
   "cell_type": "code",
   "execution_count": null,
   "id": "0314a0d7",
   "metadata": {},
   "outputs": [],
   "source": []
  },
  {
   "cell_type": "code",
   "execution_count": null,
   "id": "0e766175",
   "metadata": {},
   "outputs": [],
   "source": []
  },
  {
   "cell_type": "code",
   "execution_count": null,
   "id": "928982ee",
   "metadata": {},
   "outputs": [],
   "source": []
  },
  {
   "cell_type": "code",
   "execution_count": 20,
   "id": "fa02d66f",
   "metadata": {},
   "outputs": [
    {
     "data": {
      "text/plain": [
       "(4         32618\n",
       " 11       176340\n",
       " 12      2768616\n",
       " 6       8709336\n",
       " 3      24812983\n",
       " 5      59004864\n",
       " 7     115585183\n",
       " 2     210069584\n",
       " 8     353814335\n",
       " 1     465223263\n",
       " 9     595997733\n",
       " 10    759671460\n",
       " 0     883795225\n",
       " Name: c, dtype: int64,\n",
       " year\n",
       " 2009         36125\n",
       " 2010        357995\n",
       " 2011       8700581\n",
       " 2012      50626847\n",
       " 2013     165403734\n",
       " 2014     537007431\n",
       " 2015    1103911534\n",
       " 2016    1705364801\n",
       " 2017    2764558510\n",
       " 2018    3601248435\n",
       " 2019    4698973325\n",
       " 2020    5872811552\n",
       " 2021    7226331456\n",
       " Name: c, dtype: int64)"
      ]
     },
     "execution_count": 20,
     "metadata": {},
     "output_type": "execute_result"
    }
   ],
   "source": [
    "df_cnc.c, df_cec.c"
   ]
  },
  {
   "cell_type": "code",
   "execution_count": 51,
   "id": "c1da3428",
   "metadata": {},
   "outputs": [
    {
     "data": {
      "text/plain": [
       "(year\n",
       " 2009          152.0\n",
       " 2010        75884.0\n",
       " 2011      2607240.0\n",
       " 2012      8515576.0\n",
       " 2013     24609376.0\n",
       " 2014     58796725.0\n",
       " 2015    115377800.0\n",
       " 2016    209846070.0\n",
       " 2017    353585596.0\n",
       " 2018    464992670.0\n",
       " 2019    595767289.0\n",
       " 2020    759465261.0\n",
       " 2021    897771379.0\n",
       " 2022            NaN\n",
       " Name: addrs_c, dtype: float64,\n",
       " year\n",
       " 2009    3.628000e+03\n",
       " 2010    2.573120e+05\n",
       " 2011    8.489070e+06\n",
       " 2012    5.011944e+07\n",
       " 2013    1.644613e+08\n",
       " 2014    5.354069e+08\n",
       " 2015    1.102294e+09\n",
       " 2016    1.703652e+09\n",
       " 2017    2.762775e+09\n",
       " 2018    3.599394e+09\n",
       " 2019    4.697064e+09\n",
       " 2020    5.870848e+09\n",
       " 2021    7.335391e+09\n",
       " 2022             NaN\n",
       " Name: edges_c, dtype: float64)"
      ]
     },
     "execution_count": 51,
     "metadata": {},
     "output_type": "execute_result"
    }
   ],
   "source": [
    "df_cnc.addrs_c, df_cnc.edges_c"
   ]
  },
  {
   "cell_type": "markdown",
   "id": "ca2068bd",
   "metadata": {},
   "source": [
    "### 4.1. The graph object"
   ]
  },
  {
   "cell_type": "code",
   "execution_count": 4,
   "id": "257203d5",
   "metadata": {},
   "outputs": [
    {
     "data": {
      "text/plain": [
       "'wu-btcgraph.json'"
      ]
     },
     "execution_count": 4,
     "metadata": {},
     "output_type": "execute_result"
    }
   ],
   "source": [
    "nodes = G.numberOfNodes()\n",
    "edges = G.numberOfEdges()\n",
    "print(f\"G has {nodes} nodes and {edges} edges\")"
   ]
  },
  {
   "cell_type": "markdown",
   "id": "9d0797b9",
   "metadata": {},
   "source": [
    "### 4.2. Connected components"
   ]
  },
  {
   "cell_type": "code",
   "execution_count": 2,
   "id": "141068c7",
   "metadata": {},
   "outputs": [],
   "source": [
    "cc = nk.components.ConnectedComponents(G)\n",
    "cc.run()\n",
    "print(\"number of components \", cc.numberOfComponents())"
   ]
  },
  {
   "cell_type": "markdown",
   "id": "889fddd2",
   "metadata": {},
   "source": [
    "### 4.3. Degree distribution"
   ]
  },
  {
   "cell_type": "code",
   "execution_count": 5,
   "id": "77fea2e0",
   "metadata": {},
   "outputs": [],
   "source": [
    "dd = sorted(nk.centrality.DegreeCentrality(G).run().scores(), reverse=True)\n",
    "plt.xscale(\"log\")\n",
    "plt.xlabel(\"degree\")\n",
    "plt.yscale(\"log\")\n",
    "plt.ylabel(\"number of nodes\")\n",
    "plt.plot(dd)\n",
    "plt.show()"
   ]
  },
  {
   "cell_type": "code",
   "execution_count": 17,
   "id": "f5580a8b",
   "metadata": {},
   "outputs": [
    {
     "data": {
      "text/plain": [
       "'/home/nero/python/wu/btc/python-bitcoin-graph'"
      ]
     },
     "execution_count": 17,
     "metadata": {},
     "output_type": "execute_result"
    }
   ],
   "source": [
    "try:\n",
    "    import powerlaw\n",
    "    fit = powerlaw.Fit(dd)\n",
    "except ImportError:\n",
    "    print (\"Module powerlaw could not be loaded\")"
   ]
  },
  {
   "cell_type": "code",
   "execution_count": 6,
   "id": "46740e06",
   "metadata": {},
   "outputs": [],
   "source": [
    "bucket = storage_client.bucket(\"wu-bitcoin\")"
   ]
  },
  {
   "cell_type": "code",
   "execution_count": 9,
   "id": "c0c60a45",
   "metadata": {},
   "outputs": [],
   "source": [
    "blob = bucket.blob(\"btc.csv\")\n",
    "blob.download_to_filename(\"btcttttttttt.csv\")"
   ]
  },
  {
   "cell_type": "code",
   "execution_count": 20,
   "id": "4d7156b3",
   "metadata": {},
   "outputs": [],
   "source": [
    "from networkit import *"
   ]
  },
  {
   "cell_type": "code",
   "execution_count": 18,
   "id": "529ea21f",
   "metadata": {},
   "outputs": [],
   "source": [
    "g = graph.Graph()"
   ]
  },
  {
   "cell_type": "code",
   "execution_count": 19,
   "id": "6f180e16",
   "metadata": {},
   "outputs": [
    {
     "data": {
      "text/plain": [
       "0"
      ]
     },
     "execution_count": 19,
     "metadata": {},
     "output_type": "execute_result"
    }
   ],
   "source": [
    "g.numberOfEdges()"
   ]
  },
  {
   "cell_type": "code",
   "execution_count": null,
   "id": "6abcdf05",
   "metadata": {},
   "outputs": [],
   "source": []
  },
  {
   "cell_type": "code",
   "execution_count": null,
   "id": "78ece211",
   "metadata": {},
   "outputs": [],
   "source": []
  },
  {
   "cell_type": "code",
   "execution_count": 22,
   "id": "0185f46a",
   "metadata": {},
   "outputs": [],
   "source": []
  },
  {
   "cell_type": "code",
   "execution_count": 25,
   "id": "e0d7b45b",
   "metadata": {},
   "outputs": [
    {
     "data": {
      "text/html": [
       "<div>\n",
       "<style scoped>\n",
       "    .dataframe tbody tr th:only-of-type {\n",
       "        vertical-align: middle;\n",
       "    }\n",
       "\n",
       "    .dataframe tbody tr th {\n",
       "        vertical-align: top;\n",
       "    }\n",
       "\n",
       "    .dataframe thead th {\n",
       "        text-align: right;\n",
       "    }\n",
       "</style>\n",
       "<table border=\"1\" class=\"dataframe\">\n",
       "  <thead>\n",
       "    <tr style=\"text-align: right;\">\n",
       "      <th></th>\n",
       "      <th>ts</th>\n",
       "      <th>from</th>\n",
       "      <th>to</th>\n",
       "    </tr>\n",
       "  </thead>\n",
       "  <tbody>\n",
       "    <tr>\n",
       "      <th>0</th>\n",
       "      <td>1</td>\n",
       "      <td>2</td>\n",
       "      <td>3</td>\n",
       "    </tr>\n",
       "    <tr>\n",
       "      <th>1</th>\n",
       "      <td>3</td>\n",
       "      <td>4</td>\n",
       "      <td>5</td>\n",
       "    </tr>\n",
       "  </tbody>\n",
       "</table>\n",
       "</div>"
      ],
      "text/plain": [
       "   ts  from  to\n",
       "0   1     2   3\n",
       "1   3     4   5"
      ]
     },
     "execution_count": 25,
     "metadata": {},
     "output_type": "execute_result"
    }
   ],
   "source": [
    "pd.DataFrame([(1,2,3),(3,4,5)], columns=[\"ts\", \"from\", \"to\"])"
   ]
  },
  {
   "cell_type": "code",
   "execution_count": null,
   "id": "d5d6109f",
   "metadata": {},
   "outputs": [],
   "source": []
  },
  {
   "cell_type": "code",
   "execution_count": 4,
   "id": "eba4d8c5",
   "metadata": {},
   "outputs": [
    {
     "data": {
      "text/plain": [
       "'\\n    CREATE OR REPLACE TABLE `wu-btcgraph.btc.addresses` AS\\n        SELECT\\n          ROW_NUMBER() OVER() - 1 id,\\n          addr\\n        FROM (\\n          SELECT\\n            DISTINCT addr\\n          FROM (\\n            SELECT\\n              `to` AS addr\\n            FROM\\n              `wu-btcgraph.btc.bitcoin_transactions`\\n            UNION ALL\\n            SELECT\\n              `from` AS addr\\n            FROM\\n              `wu-btcgraph.btc.bitcoin_transactions` )\\n          ORDER BY\\n            addr )\\n        ORDER BY\\n          id'"
      ]
     },
     "execution_count": 4,
     "metadata": {},
     "output_type": "execute_result"
    }
   ],
   "source": [
    "\"\"\"\n",
    "    CREATE OR REPLACE TABLE `{0}.{1}.addresses` AS\n",
    "        SELECT\n",
    "          ROW_NUMBER() OVER() - 1 id,\n",
    "          addr\n",
    "        FROM (\n",
    "          SELECT\n",
    "            DISTINCT addr\n",
    "          FROM (\n",
    "            SELECT\n",
    "              `to` AS addr\n",
    "            FROM\n",
    "              `{0}.{1}.{2}`\n",
    "            UNION ALL\n",
    "            SELECT\n",
    "              `from` AS addr\n",
    "            FROM\n",
    "              `{0}.{1}.{2}` )\n",
    "          ORDER BY\n",
    "            addr )\n",
    "        ORDER BY\n",
    "          id\"\"\".format(bq_project,bq_dataset,bq_table)"
   ]
  },
  {
   "cell_type": "code",
   "execution_count": null,
   "id": "33501f3d",
   "metadata": {},
   "outputs": [],
   "source": []
  },
  {
   "cell_type": "code",
   "execution_count": null,
   "id": "055897ae",
   "metadata": {},
   "outputs": [],
   "source": []
  }
 ],
 "metadata": {
  "kernelspec": {
   "display_name": "btc",
   "language": "python",
   "name": "btc"
  },
  "language_info": {
   "codemirror_mode": {
    "name": "ipython",
    "version": 3
   },
   "file_extension": ".py",
   "mimetype": "text/x-python",
   "name": "python",
   "nbconvert_exporter": "python",
   "pygments_lexer": "ipython3",
   "version": "3.8.10"
  }
 },
 "nbformat": 4,
 "nbformat_minor": 5
}
